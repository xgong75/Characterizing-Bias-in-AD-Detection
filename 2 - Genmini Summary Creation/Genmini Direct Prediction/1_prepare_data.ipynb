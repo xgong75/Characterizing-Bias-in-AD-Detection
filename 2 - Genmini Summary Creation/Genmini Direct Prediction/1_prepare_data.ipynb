{
 "cells": [
  {
   "cell_type": "code",
   "execution_count": null,
   "metadata": {
    "id": "JTZv1dID361R"
   },
   "outputs": [],
   "source": [
    "import re"
   ]
  },
  {
   "cell_type": "code",
   "execution_count": 1,
   "metadata": {
    "executionInfo": {
     "elapsed": 2256,
     "status": "ok",
     "timestamp": 1746794857539,
     "user": {
      "displayName": "Anya Greenberg",
      "userId": "05297501209462370660"
     },
     "user_tz": 240
    },
    "id": "hubePGgtqtsw"
   },
   "outputs": [],
   "source": [
    "import numpy as np\n",
    "import pandas as pd\n",
    "import os\n",
    "import time\n",
    "import sys\n",
    "import matplotlib.pyplot as plt\n",
    "from google.colab import auth, drive\n"
   ]
  },
  {
   "cell_type": "code",
   "execution_count": null,
   "metadata": {
    "id": "1WKhMPm3rN4h"
   },
   "outputs": [],
   "source": [
    "auth.authenticate_user()\n",
    "\n",
    "# Mount Google Drive\n",
    "drive.mount('/content/drive')"
   ]
  },
  {
   "cell_type": "code",
   "execution_count": null,
   "metadata": {
    "id": "FuZpyPDY7uR5"
   },
   "outputs": [],
   "source": [
    "import vertexai\n",
    "from vertexai.generative_models import (\n",
    "    GenerationConfig,\n",
    "    GenerativeModel,\n",
    "    HarmBlockThreshold,\n",
    "    HarmCategory,\n",
    "    Image,\n",
    "    Part,\n",
    "    SafetySetting,\n",
    ")\n",
    "from vertexai.batch_prediction import BatchPredictionJob\n",
    "import json\n",
    "from google.cloud import storage\n",
    "\n",
    "# replace with project ID from Google Cloud Platform\n",
    "PROJECT_ID = \"mit-mlhc-v2\"  # @param {type: \"string\", placeholder: \"[your-project-id]\", isTemplate: true}\n",
    "if not PROJECT_ID or PROJECT_ID == \"[your-project-id]\":\n",
    "    PROJECT_ID = str(os.environ.get(\"GOOGLE_CLOUD_PROJECT\"))\n",
    "\n",
    "LOCATION = os.environ.get(\"GOOGLE_CLOUD_REGION\", \"us-central1\")\n",
    "\n",
    "vertexai.init(project=PROJECT_ID, location=LOCATION)"
   ]
  },
  {
   "cell_type": "code",
   "execution_count": null,
   "metadata": {
    "id": "yjJ4NfWwhjTg"
   },
   "outputs": [],
   "source": [
    "def extract_text(response):\n",
    "  \"\"\"Extracts text from the response dictionary, handling potential KeyError.\"\"\"\n",
    "  try:\n",
    "    return response['candidates'][0]['content']['parts'][0]['text']\n",
    "  except (KeyError, IndexError, TypeError):\n",
    "    # Handle cases where 'parts' key is missing or empty\n",
    "    print(response)\n",
    "   # Or any other appropriate default value\n",
    "    return ''\n",
    "\n",
    "def concatenate_notes(group):\n",
    "  return '\\n\\n'.join(f\"{row['note_type_long']}\\n{row['masked_regex']}\" for _, row in group.iterrows())\n",
    "\n",
    "def concatenate_notes2(group):\n",
    "  return '\\n\\n'.join(f\"{row['note_type_long']}\\n{row['gemini']}\" for _, row in group.iterrows())"
   ]
  },
  {
   "cell_type": "markdown",
   "metadata": {
    "id": "CYTE9ZmouuX9"
   },
   "source": [
    "# Data investigation"
   ]
  },
  {
   "cell_type": "code",
   "execution_count": null,
   "metadata": {
    "collapsed": true,
    "id": "RYlSmHkJrORB"
   },
   "outputs": [],
   "source": [
    "fn = '/content/drive/MyDrive/HSPH/Courses/MIT6.7930/AI Bias for AD/AI Bias AD/data/data_v3-rematched-USE_THIS/11_final_cohort_alldata.csv.gz'\n",
    "df = pd.read_csv(fn)\n",
    "df = df.sort_values(by='subject_id')\n",
    "# df"
   ]
  },
  {
   "cell_type": "code",
   "execution_count": null,
   "metadata": {
    "colab": {
     "base_uri": "https://localhost:8080/"
    },
    "executionInfo": {
     "elapsed": 77,
     "status": "ok",
     "timestamp": 1746150192591,
     "user": {
      "displayName": "Anya Greenberg",
      "userId": "05297501209462370660"
     },
     "user_tz": 240
    },
    "id": "K6G7SHF6v__a",
    "outputId": "a1fa9b5d-baba-4b79-9959-f0b79c778786"
   },
   "outputs": [],
   "source": [
    "temp = df.groupby(['subject_id', 'case_status']).size().unstack(fill_value=0)\n",
    "cases = temp[temp[1] > 0]\n",
    "ctrls = temp[temp[0] > 0]\n",
    "print(len(cases))\n",
    "print(len(ctrls))"
   ]
  },
  {
   "cell_type": "code",
   "execution_count": null,
   "metadata": {
    "colab": {
     "base_uri": "https://localhost:8080/",
     "height": 335
    },
    "executionInfo": {
     "elapsed": 4,
     "status": "ok",
     "timestamp": 1746150193697,
     "user": {
      "displayName": "Anya Greenberg",
      "userId": "05297501209462370660"
     },
     "user_tz": 240
    },
    "id": "b2qfL7QNzp_W",
    "outputId": "c23e56ac-b04b-4835-c8d5-00c13d0a9226"
   },
   "outputs": [],
   "source": [
    "cases[1].describe()"
   ]
  },
  {
   "cell_type": "code",
   "execution_count": null,
   "metadata": {
    "colab": {
     "base_uri": "https://localhost:8080/",
     "height": 335
    },
    "executionInfo": {
     "elapsed": 4,
     "status": "ok",
     "timestamp": 1746150195067,
     "user": {
      "displayName": "Anya Greenberg",
      "userId": "05297501209462370660"
     },
     "user_tz": 240
    },
    "id": "TV3Rhf0-zycZ",
    "outputId": "7967b88a-c995-4a83-d288-c95d48735aca"
   },
   "outputs": [],
   "source": [
    "ctrls[0].describe()"
   ]
  },
  {
   "cell_type": "code",
   "execution_count": null,
   "metadata": {
    "collapsed": true,
    "id": "Mu4pnyN0uw83"
   },
   "outputs": [],
   "source": [
    "# print(df.loc[16, 'text'])"
   ]
  },
  {
   "cell_type": "markdown",
   "metadata": {
    "id": "j0QEmRIBqqa3"
   },
   "source": [
    "# Mask AD mentions in clinical notes"
   ]
  },
  {
   "cell_type": "markdown",
   "metadata": {
    "id": "lPFuLV73uPC9"
   },
   "source": [
    "## Regex replace"
   ]
  },
  {
   "cell_type": "code",
   "execution_count": null,
   "metadata": {
    "id": "rq_O-BRPuOmr"
   },
   "outputs": [],
   "source": [
    "def remove_phrases(string):\n",
    "  pattern = re.compile(r'(?:(?<=^)|(?<=,)|(?<=\\.))\\s*[^,.]*?\\b(?:Alzheimer|dementia|Donepezil|Memantine|Rivastigmine|Galantamine)\\b[^,.]*?(?=[,.]|$)', flags=re.I)\n",
    "  stripped = re.sub(pattern, '', string).strip(' ,.')\n",
    "  cleaned = re.sub(r',+', ',', stripped).strip(', ').strip()\n",
    "  cleaned = re.sub(r'\\.+', '.', cleaned)\n",
    "  cleaned = re.sub(r'\\,\\.', '', cleaned)\n",
    "  return cleaned"
   ]
  },
  {
   "cell_type": "code",
   "execution_count": null,
   "metadata": {
    "colab": {
     "base_uri": "https://localhost:8080/"
    },
    "collapsed": true,
    "executionInfo": {
     "elapsed": 30107,
     "status": "ok",
     "timestamp": 1746150230250,
     "user": {
      "displayName": "Anya Greenberg",
      "userId": "05297501209462370660"
     },
     "user_tz": 240
    },
    "id": "SufWPHp64TXB",
    "outputId": "836f4da0-1466-426f-ecfe-f64a455518fc"
   },
   "outputs": [],
   "source": [
    "df['masked_regex'] = df['text'].apply(remove_phrases)\n",
    "print(df.shape)\n",
    "# df"
   ]
  },
  {
   "cell_type": "code",
   "execution_count": null,
   "metadata": {
    "colab": {
     "base_uri": "https://localhost:8080/",
     "height": 479
    },
    "executionInfo": {
     "elapsed": 4222,
     "status": "ok",
     "timestamp": 1746150236076,
     "user": {
      "displayName": "Anya Greenberg",
      "userId": "05297501209462370660"
     },
     "user_tz": 240
    },
    "id": "mdIHpXosqX1v",
    "outputId": "147f67e0-052b-4b32-f956-7d57e434adc9"
   },
   "outputs": [],
   "source": [
    "df['id'] = df['subject_id'].astype(str) + '_' + df['hadm_id'].astype(int).astype(str)\n",
    "df_notes = df.copy()\n",
    "df_notes = df_notes.sort_values(by=['subject_id', 'charttime'])\n",
    "df_notes = df_notes[['note_id', 'id', 'note_type', 'masked_regex']]\n",
    "df_notes['note_type_long'] = ['Discharge Summary:' if x == 'DS' else 'Radiology Note:' for x in df_notes['note_type']]\n",
    "df_concat = df_notes.groupby('id').apply(concatenate_notes).reset_index(name='concatenated_notes')\n",
    "df_concat"
   ]
  },
  {
   "cell_type": "code",
   "execution_count": null,
   "metadata": {
    "colab": {
     "base_uri": "https://localhost:8080/"
    },
    "executionInfo": {
     "elapsed": 41,
     "status": "ok",
     "timestamp": 1746150248052,
     "user": {
      "displayName": "Anya Greenberg",
      "userId": "05297501209462370660"
     },
     "user_tz": 240
    },
    "id": "HznoaoRrqjvJ",
    "outputId": "b48e4251-02cd-4cf1-d976-355037786631"
   },
   "outputs": [],
   "source": [
    "df_clean.columns"
   ]
  },
  {
   "cell_type": "code",
   "execution_count": null,
   "metadata": {
    "colab": {
     "base_uri": "https://localhost:8080/"
    },
    "executionInfo": {
     "elapsed": 98,
     "status": "ok",
     "timestamp": 1746150274262,
     "user": {
      "displayName": "Anya Greenberg",
      "userId": "05297501209462370660"
     },
     "user_tz": 240
    },
    "id": "cfK7egrcqeFi",
    "outputId": "4546f040-6c2b-466f-872a-90d93c477fde"
   },
   "outputs": [],
   "source": [
    "df_clean = df.copy()\n",
    "df_clean = df_clean[['id', 'admityear', 'admitmonth', 'admitday', 'gender', 'age', 'admission_type',\n",
    "                     'marital_status', 'race', 'insurance_group', 'language_group', 'race_group1', 'race_group2', 'race_group3', 'race_group4',\n",
    "                     'adrd', 'ad', 'case_status', 'adrd_status',\n",
    "                     'Stroke_History', 'Myocardial_Infarction', 'Peripheral_Vascular_Disease', 'Cerebrovascular_Disease', 'Diabetes_Mellitus', 'Cancer']]\n",
    "df_clean = df_clean.drop_duplicates()\n",
    "print(df_clean.shape)"
   ]
  },
  {
   "cell_type": "code",
   "execution_count": null,
   "metadata": {
    "colab": {
     "base_uri": "https://localhost:8080/",
     "height": 196
    },
    "executionInfo": {
     "elapsed": 6698,
     "status": "ok",
     "timestamp": 1746150296044,
     "user": {
      "displayName": "Anya Greenberg",
      "userId": "05297501209462370660"
     },
     "user_tz": 240
    },
    "id": "J4_d8HvWqeDe",
    "outputId": "c78bf4fd-f2db-4293-f5ab-41c3a9fdd044"
   },
   "outputs": [],
   "source": [
    "df_regex = pd.merge(df_clean, df_concat, on='id', how='inner')\n",
    "print(df_regex.shape)\n",
    "fn = '/content/drive/MyDrive/HSPH/Courses/MIT6.7930/AI Bias for AD/AI Bias AD/Gemini Prediction Model/12_regex_masked_concat.csv'\n",
    "df_regex.to_csv(fn, index=False, header=True)\n",
    "df_regex['case_status'].value_counts()"
   ]
  },
  {
   "cell_type": "markdown",
   "metadata": {
    "id": "zEaKdL4R73fU"
   },
   "source": [
    "## Gemini Masking"
   ]
  },
  {
   "cell_type": "code",
   "execution_count": null,
   "metadata": {
    "colab": {
     "base_uri": "https://localhost:8080/",
     "height": 421
    },
    "collapsed": true,
    "executionInfo": {
     "elapsed": 14203,
     "status": "error",
     "timestamp": 1746114338985,
     "user": {
      "displayName": "Anya Greenberg",
      "userId": "05297501209462370660"
     },
     "user_tz": 240
    },
    "id": "pgetNHKW8UVX",
    "outputId": "b2061e04-a97e-43d3-baa4-bee73a641d08"
   },
   "outputs": [],
   "source": [
    "def df_to_jsonl_gcs(df, bucket_name, blob_name):\n",
    "    \"\"\"Converts a DataFrame to JSONL and uploads to Google Cloud Storage.\n",
    "\n",
    "    Args:\n",
    "        df: Pandas DataFrame with a 'text' column.\n",
    "        bucket_name: Name of your Google Cloud Storage bucket.\n",
    "        blob_name: Desired name for the JSONL file on GCS.\n",
    "    \"\"\"\n",
    "\n",
    "    # Initialize a GCS client\n",
    "    storage_client = storage.Client(project=PROJECT_ID)\n",
    "    bucket = storage_client.bucket(bucket_name)\n",
    "    if not bucket.exists():\n",
    "        bucket.create(location='US')\n",
    "        print(f'Bucket {bucket_name} created.')\n",
    "    else:\n",
    "        print(f'Bucket {bucket_name} already exists.')\n",
    "\n",
    "    blob = bucket.blob(blob_name)\n",
    "\n",
    "    # Write JSONL data to a string buffer\n",
    "    jsonl_data = \"\"\n",
    "    for index, row in df.iterrows():\n",
    "        text = row['text'][:50000]\n",
    "\n",
    "        ### TO DO: Provide Gemini a prompt ##############################\n",
    "        # Edit the prompt to tell Gemini how to handle your input text\n",
    "        prompt = f\"\"\"You are a clinical documentation specialist assisting in a medical research project aiming to predict Alzheimer's Disease from clinical notes. Please carefully review the following clinical notes and remove phrases with explicit diagnosis or direct mention Alzheimer's Disease (AD), dementia (only if directly diagnosed, general symptoms should be preserved), and medications specifically prescribed for Alzheimer's Disease (e.g., Donepezil, Memantine, Rivastigmine, Galantamine).\n",
    "\n",
    "        A phrase is defined as any series of words contained within two commas (,), periods (.), parentheses (() or []), or single line (indicated by \\n).\n",
    "\n",
    "        Do not remove symptoms that could indicate cognitive decline, memory loss, confusion, disorientation, difficulty with language, executive dysfunction, or behavior changes.\n",
    "        Do not remove general clinical observations that might hing at early-stage Alzheimer's or other neurological impairments.\n",
    "        Clinical notes: {text}\"\"\"\n",
    "        #################################################################\n",
    "\n",
    "        json_data = {\n",
    "            \"id\": row['note_id'],\n",
    "            \"request\": {\n",
    "                \"contents\": [\n",
    "                    {\n",
    "                        \"role\": \"user\",\n",
    "                        \"parts\": [{\"text\": prompt}]\n",
    "                    }\n",
    "                ],\n",
    "                \"generationConfig\": {\"temperature\": 0.4, \"maxOutputTokens\": 4096},\n",
    "\n",
    "            }\n",
    "        }\n",
    "        jsonl_data += json.dumps(json_data) + '\\n'\n",
    "\n",
    "    # Upload the JSONL data to GCS\n",
    "    blob.upload_from_string(jsonl_data, content_type='application/jsonl')\n",
    "    print(f\"JSONL file uploaded to gs://{bucket_name}/{blob_name}\")\n",
    "\n",
    "    return f\"gs://{bucket_name}/{blob_name}\"\n",
    "\n",
    "### TO DO: Change bucket name ##############################\n",
    "\n",
    "BUCKET_NAME = 'project_masking'\n",
    "input_uri = df_to_jsonl_gcs(df, BUCKET_NAME, 'gemini_batch_requests.jsonl')\n",
    "\n",
    "#################################################################\n",
    "\n",
    "output_uri = f\"gs://{BUCKET_NAME}/batch-prediction/\"\n",
    "\n",
    "# Submit a batch prediction job with Gemini model\n",
    "batch_prediction_job = BatchPredictionJob.submit(\n",
    "    source_model=\"gemini-1.5-flash-001\",\n",
    "    input_dataset=input_uri,\n",
    "    output_uri_prefix=output_uri,\n",
    ")\n",
    "\n",
    "# Check job status\n",
    "print(f\"Job resource name: {batch_prediction_job.resource_name}\")\n",
    "print(f\"Model resource name with the job: {batch_prediction_job.model_name}\")\n",
    "print(f\"Job state: {batch_prediction_job.state.name}\")\n",
    "\n",
    "# Refresh the job until complete\n",
    "while not batch_prediction_job.has_ended:\n",
    "    time.sleep(5)\n",
    "    batch_prediction_job.refresh()\n",
    "\n",
    "# Check if the job succeeds\n",
    "if batch_prediction_job.has_succeeded:\n",
    "    print(\"Job succeeded!\")\n",
    "else:\n",
    "    print(f\"Job failed: {batch_prediction_job.error}\")\n",
    "\n",
    "# Check the location of the output\n",
    "print(f\"Job output location: {batch_prediction_job.output_location}\")\n",
    "\n",
    "# Example response:\n",
    "#  Job output location: gs://your-bucket/gen-ai-batch-prediction/prediction-model-year-month-day-hour:minute:second.12345"
   ]
  },
  {
   "cell_type": "code",
   "execution_count": null,
   "metadata": {
    "colab": {
     "base_uri": "https://localhost:8080/"
    },
    "executionInfo": {
     "elapsed": 10464,
     "status": "ok",
     "timestamp": 1746150323944,
     "user": {
      "displayName": "Anya Greenberg",
      "userId": "05297501209462370660"
     },
     "user_tz": 240
    },
    "id": "SdENSpFsA7BW",
    "outputId": "bc68ac3f-823c-403d-a6c3-1baf625f0096"
   },
   "outputs": [],
   "source": [
    "# Load the JSONL file into a DataFrame\n",
    "# once you've made your predictions, they should be\n",
    "# stored at your google cloud storage bucket specified by the path\n",
    "# and you should be able to download it from this path\n",
    "path = 'gs://project_masking/batch-prediction/prediction-model-2025-05-01T15:12:34.600818Z'\n",
    "output_path = path + '/predictions.jsonl'\n",
    "\n",
    "masked_df = pd.read_json(output_path, lines=True)\n",
    "masked_df = masked_df.join(pd.json_normalize(masked_df[\"response\"], \"candidates\"))\n",
    "print(masked_df.shape)\n",
    "\n",
    "# Note some inputs may not generate predictions due to SAFETY constraints\n",
    "masked_df['summary'] = masked_df['response'].apply(extract_text)\n",
    "masked_df = masked_df[masked_df['summary'] != '']\n",
    "masked_df = masked_df[['id', 'summary']]\n",
    "masked_df.columns = ['note_id', 'gemini']\n",
    "masked_df.shape"
   ]
  },
  {
   "cell_type": "code",
   "execution_count": null,
   "metadata": {
    "colab": {
     "base_uri": "https://localhost:8080/",
     "height": 479
    },
    "collapsed": true,
    "executionInfo": {
     "elapsed": 4801,
     "status": "ok",
     "timestamp": 1746150333009,
     "user": {
      "displayName": "Anya Greenberg",
      "userId": "05297501209462370660"
     },
     "user_tz": 240
    },
    "id": "KFMl-kqBoWUu",
    "outputId": "41efb06b-d2ba-49c9-b4c6-7f9aa7ea1a86"
   },
   "outputs": [],
   "source": [
    "df_notes = df.copy()\n",
    "df_notes = df_notes[['note_id', 'id', 'note_type', 'subject_id', 'charttime']]\n",
    "df_notes = pd.merge(df_notes, masked_df, on='note_id', how='inner')\n",
    "df_notes = df_notes.sort_values(by=['subject_id', 'charttime'])\n",
    "df_notes['note_type_long'] = ['Discharge Summary:' if x == 'DS' else 'Radiology Note:' for x in df_notes['note_type']]\n",
    "df_concat = df_notes.groupby('id').apply(concatenate_notes2).reset_index(name='concatenated_notes')\n",
    "df_concat"
   ]
  },
  {
   "cell_type": "code",
   "execution_count": null,
   "metadata": {
    "colab": {
     "base_uri": "https://localhost:8080/",
     "height": 196
    },
    "executionInfo": {
     "elapsed": 7048,
     "status": "ok",
     "timestamp": 1746150347749,
     "user": {
      "displayName": "Anya Greenberg",
      "userId": "05297501209462370660"
     },
     "user_tz": 240
    },
    "id": "Xe5dkkwNsv17",
    "outputId": "6e30f169-e219-4b2c-b7d9-a0bab9056a60"
   },
   "outputs": [],
   "source": [
    "df_gemini = pd.merge(df_clean, df_concat, on='id', how='inner')\n",
    "print(df_gemini.shape)\n",
    "fn = '/content/drive/MyDrive/HSPH/Courses/MIT6.7930/AI Bias for AD/AI Bias AD/Gemini Prediction Model/12_gemini_masked_concat.csv'\n",
    "df_gemini.to_csv(fn, index=False, header=True)\n",
    "df_gemini['case_status'].value_counts()"
   ]
  }
 ],
 "metadata": {
  "colab": {
   "authorship_tag": "ABX9TyOF8MOWijP/tIUwhbQPGchh",
   "provenance": []
  },
  "kernelspec": {
   "display_name": "Python 3",
   "name": "python3"
  },
  "language_info": {
   "name": "python"
  }
 },
 "nbformat": 4,
 "nbformat_minor": 0
}
