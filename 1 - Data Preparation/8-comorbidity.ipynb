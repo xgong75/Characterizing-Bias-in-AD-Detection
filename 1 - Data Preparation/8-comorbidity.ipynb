{
 "cells": [
  {
   "cell_type": "code",
   "execution_count": 1,
   "metadata": {
    "executionInfo": {
     "elapsed": 4255,
     "status": "ok",
     "timestamp": 1744909995146,
     "user": {
      "displayName": "Nidhish Nerur",
      "userId": "12329443289178360368"
     },
     "user_tz": 240
    },
    "id": "8b4mE6yJUQy0"
   },
   "outputs": [],
   "source": [
    "import pandas as pd\n",
    "import numpy as np\n",
    "import matplotlib.pyplot as plt\n",
    "\n",
    "from sklearn.linear_model import LogisticRegression\n",
    "from sklearn.model_selection import train_test_split\n",
    "from sklearn.metrics import accuracy_score, roc_auc_score, roc_curve, confusion_matrix, f1_score\n",
    "from sklearn.preprocessing import StandardScaler\n",
    "from sklearn.feature_extraction.text import CountVectorizer"
   ]
  },
  {
   "cell_type": "markdown",
   "metadata": {
    "id": "P1dVHPV5Ws8F"
   },
   "source": [
    "# Read in Datasets"
   ]
  },
  {
   "cell_type": "code",
   "execution_count": null,
   "metadata": {
    "colab": {
     "base_uri": "https://localhost:8080/",
     "height": 391
    },
    "executionInfo": {
     "elapsed": 147400,
     "status": "ok",
     "timestamp": 1744911206242,
     "user": {
      "displayName": "Nidhish Nerur",
      "userId": "12329443289178360368"
     },
     "user_tz": 240
    },
    "id": "QCvbrBzXXEGl",
    "outputId": "65968a32-9903-4872-d1f4-d09e5a785dc8"
   },
   "outputs": [],
   "source": [
    "from google.colab import files\n",
    "\n",
    "# This will prompt you to select and upload the file manually\n",
    "uploaded = files.upload()\n"
   ]
  },
  {
   "cell_type": "code",
   "execution_count": null,
   "metadata": {
    "colab": {
     "base_uri": "https://localhost:8080/",
     "height": 360
    },
    "executionInfo": {
     "elapsed": 35,
     "status": "ok",
     "timestamp": 1744911206279,
     "user": {
      "displayName": "Nidhish Nerur",
      "userId": "12329443289178360368"
     },
     "user_tz": 240
    },
    "id": "iddsKPhn6ouz",
    "outputId": "af99aa80-b110-405f-b3bf-4d2662a33202"
   },
   "outputs": [],
   "source": [
    "# Read in the matched updated cohort\n",
    "df_cohort = pd.read_csv(\"matched_ad_only_cohort.csv\")\n",
    "df_cohort.head()"
   ]
  },
  {
   "cell_type": "code",
   "execution_count": null,
   "metadata": {
    "colab": {
     "base_uri": "https://localhost:8080/",
     "height": 458
    },
    "executionInfo": {
     "elapsed": 9,
     "status": "ok",
     "timestamp": 1744911206288,
     "user": {
      "displayName": "Nidhish Nerur",
      "userId": "12329443289178360368"
     },
     "user_tz": 240
    },
    "id": "jJSlWIZjvgKY",
    "outputId": "d7b24301-11e4-47e3-8ff7-0a8deefa45c4"
   },
   "outputs": [],
   "source": [
    "df_cohort['subject_id']"
   ]
  },
  {
   "cell_type": "code",
   "execution_count": null,
   "metadata": {
    "colab": {
     "base_uri": "https://localhost:8080/",
     "height": 206
    },
    "executionInfo": {
     "elapsed": 5017,
     "status": "ok",
     "timestamp": 1744911211305,
     "user": {
      "displayName": "Nidhish Nerur",
      "userId": "12329443289178360368"
     },
     "user_tz": 240
    },
    "id": "WsUPr0xc7B50",
    "outputId": "99eb29ba-6c22-4149-cd5d-a1fb94f4340c"
   },
   "outputs": [],
   "source": [
    "# Read diagnoses CSV file into a DataFrame\n",
    "df_icd = pd.read_csv(\"diagnoses_icd.csv.gz\", compression = 'gzip')\n",
    "df_icd.head()"
   ]
  },
  {
   "cell_type": "markdown",
   "metadata": {
    "id": "8rM_yhjg7DWY"
   },
   "source": [
    "# Add Relevant Clinical Data"
   ]
  },
  {
   "cell_type": "code",
   "execution_count": null,
   "metadata": {
    "colab": {
     "base_uri": "https://localhost:8080/"
    },
    "executionInfo": {
     "elapsed": 3,
     "status": "ok",
     "timestamp": 1744911211305,
     "user": {
      "displayName": "Nidhish Nerur",
      "userId": "12329443289178360368"
     },
     "user_tz": 240
    },
    "id": "9jPoV31m6oqd",
    "outputId": "0c2fd5f3-a48a-4cad-ce8e-131e55e3b43a"
   },
   "outputs": [],
   "source": [
    "df_cohort.columns"
   ]
  },
  {
   "cell_type": "code",
   "execution_count": 14,
   "metadata": {
    "executionInfo": {
     "elapsed": 4334,
     "status": "ok",
     "timestamp": 1744911215638,
     "user": {
      "displayName": "Nidhish Nerur",
      "userId": "12329443289178360368"
     },
     "user_tz": 240
    },
    "id": "INwcQFMW6ooE"
   },
   "outputs": [],
   "source": [
    "# Define condition code sets (partial, adjust as needed)\n",
    "stroke_codes = ['430', '431', '432', '433', '434', '436', 'I63', 'I64']\n",
    "mi_codes = ['410', '412', 'I21', 'I22']  # Myocardial Infarction\n",
    "pvd_codes = ['4439', '440', 'I73', 'I70']\n",
    "cvd_codes = stroke_codes + ['435']  # Cerebrovascular Disease includes stroke + TIA\n",
    "diabetes_codes = ['250', 'E08', 'E09', 'E10', 'E11', 'E13']\n",
    "cancer_codes = [str(i) for i in range(140, 210)] + ['C']  # ICD-9 140-209, ICD-10 starts with 'C'\n",
    "\n",
    "def flag_condition(df_icd, cohort_ids, icd_list, colname):\n",
    "    # Only consider diagnoses for patients in df_cohort\n",
    "    df_subset = df_icd[df_icd['subject_id'].isin(cohort_ids)].copy()\n",
    "\n",
    "    # Normalize ICD codes: remove dots, uppercase\n",
    "    df_subset['icd_clean'] = df_subset['icd_code'].str.replace('.', '', regex=False).str.upper()\n",
    "\n",
    "    # Match any ICD code that starts with the condition codes\n",
    "    condition_mask = df_subset['icd_clean'].apply(lambda x: any(x.startswith(code) for code in icd_list))\n",
    "\n",
    "    # Get unique subject_ids with this condition\n",
    "    matching_subjects = df_subset.loc[condition_mask, 'subject_id'].unique()\n",
    "\n",
    "    # Return a DataFrame with binary indicator for those subject_ids\n",
    "    return pd.Series(df_cohort['subject_id'].isin(matching_subjects).astype(int), name=colname)\n",
    "\n",
    "cohort_ids = df_cohort['subject_id']\n",
    "\n",
    "df_cohort['Stroke_History'] = flag_condition(df_icd, cohort_ids, stroke_codes, 'Stroke_History')\n",
    "df_cohort['Myocardial_Infarction'] = flag_condition(df_icd, cohort_ids, mi_codes, 'Myocardial_Infarction')\n",
    "df_cohort['Peripheral_Vascular_Disease'] = flag_condition(df_icd, cohort_ids, pvd_codes, 'Peripheral_Vascular_Disease')\n",
    "df_cohort['Cerebrovascular_Disease'] = flag_condition(df_icd, cohort_ids, cvd_codes, 'Cerebrovascular_Disease')\n",
    "df_cohort['Diabetes_Mellitus'] = flag_condition(df_icd, cohort_ids, diabetes_codes, 'Diabetes_Mellitus')\n",
    "df_cohort['Cancer'] = flag_condition(df_icd, cohort_ids, cancer_codes, 'Cancer')\n"
   ]
  },
  {
   "cell_type": "code",
   "execution_count": null,
   "metadata": {
    "colab": {
     "base_uri": "https://localhost:8080/"
    },
    "executionInfo": {
     "elapsed": 9,
     "status": "ok",
     "timestamp": 1744911215647,
     "user": {
      "displayName": "Nidhish Nerur",
      "userId": "12329443289178360368"
     },
     "user_tz": 240
    },
    "id": "GQrdrrO-7g6v",
    "outputId": "9ffb139d-bc97-423d-87b3-ae0793813c29"
   },
   "outputs": [],
   "source": [
    "df_cohort.columns"
   ]
  },
  {
   "cell_type": "code",
   "execution_count": 16,
   "metadata": {
    "executionInfo": {
     "elapsed": 1,
     "status": "ok",
     "timestamp": 1744911215649,
     "user": {
      "displayName": "Nidhish Nerur",
      "userId": "12329443289178360368"
     },
     "user_tz": 240
    },
    "id": "7uDswG-v7eX_"
   },
   "outputs": [],
   "source": [
    "# Drop other fields\n",
    "df_cohort.drop(columns = {'Unnamed: 0'}, inplace = True)"
   ]
  },
  {
   "cell_type": "code",
   "execution_count": null,
   "metadata": {
    "colab": {
     "base_uri": "https://localhost:8080/",
     "height": 931
    },
    "executionInfo": {
     "elapsed": 55,
     "status": "ok",
     "timestamp": 1744911215716,
     "user": {
      "displayName": "Nidhish Nerur",
      "userId": "12329443289178360368"
     },
     "user_tz": 240
    },
    "id": "rA72EFjM7eUt",
    "outputId": "98b9c1c6-4707-44af-856c-912b10ba865c"
   },
   "outputs": [],
   "source": [
    "df_cohort.isna().sum()"
   ]
  },
  {
   "cell_type": "code",
   "execution_count": 18,
   "metadata": {
    "executionInfo": {
     "elapsed": 2,
     "status": "ok",
     "timestamp": 1744911215717,
     "user": {
      "displayName": "Nidhish Nerur",
      "userId": "12329443289178360368"
     },
     "user_tz": 240
    },
    "id": "qpu4vka58LDU"
   },
   "outputs": [],
   "source": [
    "# Impute missing Language values with the mode (most frequent language)\n",
    "mode_language = df_cohort['language'].mode()[0]\n",
    "df_cohort['language'] = df_cohort['language'].fillna(mode_language)"
   ]
  },
  {
   "cell_type": "code",
   "execution_count": 19,
   "metadata": {
    "executionInfo": {
     "elapsed": 709,
     "status": "ok",
     "timestamp": 1744911216424,
     "user": {
      "displayName": "Nidhish Nerur",
      "userId": "12329443289178360368"
     },
     "user_tz": 240
    },
    "id": "3sCN8fdm8SSH"
   },
   "outputs": [],
   "source": [
    "import pandas as pd\n",
    "import matplotlib.pyplot as plt\n",
    "import seaborn as sns\n",
    "from tabulate import tabulate\n",
    "import warnings\n",
    "warnings.filterwarnings('ignore')\n",
    "\n",
    "# Improve matplotlib fonts for publication-style\n",
    "plt.rcParams.update({'font.size': 12, 'axes.titlesize': 14})\n",
    "sns.set(style=\"whitegrid\")\n",
    "\n",
    "df_treat = df_cohort[df_cohort['adrd'] == 1].copy()\n",
    "df_ctrl = df_cohort[df_cohort['adrd'] == 0].copy()\n",
    "df_all = df_cohort.copy()\n"
   ]
  },
  {
   "cell_type": "code",
   "execution_count": 20,
   "metadata": {
    "executionInfo": {
     "elapsed": 2,
     "status": "ok",
     "timestamp": 1744911216433,
     "user": {
      "displayName": "Nidhish Nerur",
      "userId": "12329443289178360368"
     },
     "user_tz": 240
    },
    "id": "2wf0AZrs8a15"
   },
   "outputs": [],
   "source": [
    "def summarize_binary_or_categorical(df, feature):\n",
    "    return df[feature].value_counts(dropna=False).sort_index()\n",
    "\n",
    "def summarize_numeric(df, feature):\n",
    "    return {\n",
    "        'mean': df[feature].mean(),\n",
    "        'std': df[feature].std(),\n",
    "        'min': df[feature].min(),\n",
    "        '25%': df[feature].quantile(0.25),\n",
    "        'median': df[feature].median(),\n",
    "        '75%': df[feature].quantile(0.75),\n",
    "        'max': df[feature].max(),\n",
    "    }\n"
   ]
  },
  {
   "cell_type": "code",
   "execution_count": null,
   "metadata": {
    "colab": {
     "base_uri": "https://localhost:8080/",
     "height": 1000
    },
    "executionInfo": {
     "elapsed": 3492,
     "status": "ok",
     "timestamp": 1744911219925,
     "user": {
      "displayName": "Nidhish Nerur",
      "userId": "12329443289178360368"
     },
     "user_tz": 240
    },
    "id": "1-yAy7W28az7",
    "outputId": "9862dea4-aa75-4591-ace2-93f161ecbed1"
   },
   "outputs": [],
   "source": [
    "# These are the features you want bar plots for\n",
    "plot_features = [\n",
    "    'gender', 'admission_type', 'insurance',\n",
    "    'language', 'marital_status', 'race',\n",
    "    'Stroke_History', 'Myocardial_Infarction', 'Peripheral_Vascular_Disease',\n",
    "    'Cerebrovascular_Disease', 'Diabetes_Mellitus', 'Cancer'\n",
    "]\n",
    "\n",
    "for feature in plot_features:\n",
    "    plt.figure(figsize=(8, 4))\n",
    "    plot_data = df_cohort[[feature, 'adrd']].copy()\n",
    "    plot_data[feature] = plot_data[feature].astype(str)  # ensure categorical\n",
    "\n",
    "    sns.countplot(data=plot_data, x=feature, hue='adrd')\n",
    "    plt.title(f\"{feature} Distribution by ADRD Status\")\n",
    "    plt.xlabel(feature)\n",
    "    plt.ylabel(\"Count\")\n",
    "    plt.xticks(rotation=30)\n",
    "    plt.tight_layout()\n",
    "    plt.show()\n"
   ]
  },
  {
   "cell_type": "code",
   "execution_count": null,
   "metadata": {
    "colab": {
     "base_uri": "https://localhost:8080/",
     "height": 601
    },
    "executionInfo": {
     "elapsed": 438,
     "status": "ok",
     "timestamp": 1744911220362,
     "user": {
      "displayName": "Nidhish Nerur",
      "userId": "12329443289178360368"
     },
     "user_tz": 240
    },
    "id": "8rZ9cjKf8qG8",
    "outputId": "8cace510-9683-48cd-d60f-b5c88de1669f"
   },
   "outputs": [],
   "source": [
    "# Comorbidities plot\n",
    "binary_cols = ['Stroke_History', 'Myocardial_Infarction', 'Peripheral_Vascular_Disease',\n",
    "               'Cerebrovascular_Disease', 'Diabetes_Mellitus', 'Cancer']\n",
    "\n",
    "df_plot = pd.DataFrame({\n",
    "    'Feature': binary_cols,\n",
    "    'Treated %': [df_treat[col].mean() * 100 for col in binary_cols],\n",
    "    'Control %': [df_ctrl[col].mean() * 100 for col in binary_cols]\n",
    "}).melt(id_vars='Feature', var_name='Group', value_name='Percentage')\n",
    "\n",
    "plt.figure(figsize=(10, 6))\n",
    "sns.barplot(data=df_plot, x='Percentage', y='Feature', hue='Group')\n",
    "plt.title(\"Comorbidity Prevalence by Group\")\n",
    "plt.tight_layout()\n",
    "plt.show()\n"
   ]
  },
  {
   "cell_type": "code",
   "execution_count": null,
   "metadata": {
    "colab": {
     "base_uri": "https://localhost:8080/"
    },
    "executionInfo": {
     "elapsed": 11,
     "status": "ok",
     "timestamp": 1744911220374,
     "user": {
      "displayName": "Nidhish Nerur",
      "userId": "12329443289178360368"
     },
     "user_tz": 240
    },
    "id": "qSuYbHV-8xNC",
    "outputId": "8436e5a7-9ae6-4606-abbe-c8b4698919cf"
   },
   "outputs": [],
   "source": [
    "df_cohort.columns"
   ]
  },
  {
   "cell_type": "code",
   "execution_count": 24,
   "metadata": {
    "executionInfo": {
     "elapsed": 6,
     "status": "ok",
     "timestamp": 1744911220380,
     "user": {
      "displayName": "Nidhish Nerur",
      "userId": "12329443289178360368"
     },
     "user_tz": 240
    },
    "id": "HAPgb61_8p-W"
   },
   "outputs": [],
   "source": [
    "categorical_features = ['gender', 'admission_type', 'insurance', 'language', 'marital_status', 'race', 'race_group', 'language_group',\n",
    "                        'Stroke_History', 'Myocardial_Infarction', 'Peripheral_Vascular_Disease', 'Cerebrovascular_Disease', 'Diabetes_Mellitus', 'Cancer']\n",
    "numeric_features = ['age', 'admityear']"
   ]
  },
  {
   "cell_type": "code",
   "execution_count": null,
   "metadata": {
    "colab": {
     "base_uri": "https://localhost:8080/"
    },
    "executionInfo": {
     "elapsed": 81,
     "status": "ok",
     "timestamp": 1744911220462,
     "user": {
      "displayName": "Nidhish Nerur",
      "userId": "12329443289178360368"
     },
     "user_tz": 240
    },
    "id": "uY1j6pjY8axg",
    "outputId": "9556dc5e-3173-4325-9202-59d36c16fd08"
   },
   "outputs": [],
   "source": [
    "from tabulate import tabulate\n",
    "\n",
    "# 1. Categorical features\n",
    "for feature in categorical_features:\n",
    "    treat_counts = summarize_binary_or_categorical(df_treat, feature)\n",
    "    ctrl_counts = summarize_binary_or_categorical(df_ctrl, feature)\n",
    "    all_counts = summarize_binary_or_categorical(df_all, feature)\n",
    "\n",
    "    # Ensure consistent categories\n",
    "    keys = sorted(set(treat_counts.index) | set(ctrl_counts.index) | set(all_counts.index), key=lambda x: str(x))\n",
    "\n",
    "    table = []\n",
    "    for val in keys:\n",
    "        row = {\n",
    "            'Category': val,\n",
    "            'Treated': f\"{treat_counts.get(val, 0)} ({100 * treat_counts.get(val, 0) / len(df_treat):.1f}%)\",\n",
    "            'Control': f\"{ctrl_counts.get(val, 0)} ({100 * ctrl_counts.get(val, 0) / len(df_ctrl):.1f}%)\",\n",
    "            'Overall': f\"{all_counts.get(val, 0)} ({100 * all_counts.get(val, 0) / len(df_all):.1f}%)\",\n",
    "        }\n",
    "        table.append(row)\n",
    "\n",
    "    print(f\"\\n📊 Summary of: {feature}\")\n",
    "    print(tabulate(table, headers='keys', tablefmt='fancy_grid'))\n",
    "\n",
    "# 2. Numeric features\n",
    "for feature in numeric_features:\n",
    "    treat_stats = summarize_numeric(df_treat, feature)\n",
    "    ctrl_stats = summarize_numeric(df_ctrl, feature)\n",
    "    all_stats = summarize_numeric(df_all, feature)\n",
    "\n",
    "    table = []\n",
    "    for stat in ['mean', 'std', 'min', '25%', 'median', '75%', 'max']:\n",
    "        row = {\n",
    "            'Statistic': stat,\n",
    "            'Treated': round(treat_stats[stat], 2),\n",
    "            'Control': round(ctrl_stats[stat], 2),\n",
    "            'Overall': round(all_stats[stat], 2)\n",
    "        }\n",
    "        table.append(row)\n",
    "\n",
    "    print(f\"\\n📊 Summary of: {feature}\")\n",
    "    print(tabulate(table, headers='keys', tablefmt='fancy_grid'))\n"
   ]
  },
  {
   "cell_type": "code",
   "execution_count": 27,
   "metadata": {
    "executionInfo": {
     "elapsed": 70,
     "status": "ok",
     "timestamp": 1744911300861,
     "user": {
      "displayName": "Nidhish Nerur",
      "userId": "12329443289178360368"
     },
     "user_tz": 240
    },
    "id": "pSUcl_CbAQ8M"
   },
   "outputs": [],
   "source": [
    "# Download updated CSV file\n",
    "df_cohort.to_csv(\"df_cohort.csv\", index=False)\n"
   ]
  },
  {
   "cell_type": "code",
   "execution_count": null,
   "metadata": {
    "colab": {
     "base_uri": "https://localhost:8080/",
     "height": 17
    },
    "executionInfo": {
     "elapsed": 44,
     "status": "ok",
     "timestamp": 1744911332605,
     "user": {
      "displayName": "Nidhish Nerur",
      "userId": "12329443289178360368"
     },
     "user_tz": 240
    },
    "id": "MZuc63Eg1suV",
    "outputId": "ecf4cc2e-c3dd-4e8e-b2ce-a74d0435045f"
   },
   "outputs": [],
   "source": [
    "from google.colab import files\n",
    "\n",
    "# Uncompressed\n",
    "files.download(\"df_cohort.csv\")\n",
    "\n"
   ]
  },
  {
   "cell_type": "code",
   "execution_count": null,
   "metadata": {
    "id": "OQVj-0Ft0fRJ"
   },
   "outputs": [],
   "source": []
  }
 ],
 "metadata": {
  "colab": {
   "authorship_tag": "ABX9TyNmRq8t9X5PPFbuZcqEh7lh",
   "provenance": []
  },
  "kernelspec": {
   "display_name": "Python 3",
   "name": "python3"
  },
  "language_info": {
   "name": "python"
  }
 },
 "nbformat": 4,
 "nbformat_minor": 0
}
