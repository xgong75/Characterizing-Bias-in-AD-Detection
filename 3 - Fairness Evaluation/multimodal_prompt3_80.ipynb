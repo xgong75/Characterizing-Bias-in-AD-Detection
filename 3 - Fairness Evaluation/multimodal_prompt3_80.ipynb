{
 "cells": [
  {
   "cell_type": "markdown",
   "metadata": {
    "id": "mgl6wo2Og0ZD"
   },
   "source": [
    "# Process Data"
   ]
  },
  {
   "cell_type": "code",
   "execution_count": null,
   "metadata": {
    "colab": {
     "base_uri": "https://localhost:8080/",
     "height": 429
    },
    "executionInfo": {
     "elapsed": 1917,
     "status": "ok",
     "timestamp": 1746545141970,
     "user": {
      "displayName": "Xingyu Gong",
      "userId": "09190398267093723546"
     },
     "user_tz": 240
    },
    "id": "n5yFaavxR0Vp",
    "outputId": "ddde1fe2-9cc2-4e12-dc7d-429d7e3022bf"
   },
   "outputs": [],
   "source": [
    "import pandas as pd\n",
    "\n",
    "data=pd.read_csv(\"df_grouped_with_summaries_Prompt 3.csv\")\n",
    "data.head()\n",
    "# data.columns"
   ]
  },
  {
   "cell_type": "code",
   "execution_count": null,
   "metadata": {
    "colab": {
     "base_uri": "https://localhost:8080/"
    },
    "executionInfo": {
     "elapsed": 1928,
     "status": "ok",
     "timestamp": 1746545143896,
     "user": {
      "displayName": "Xingyu Gong",
      "userId": "09190398267093723546"
     },
     "user_tz": 240
    },
    "id": "qu-KhMUSe8bF",
    "outputId": "dbffefbd-4b68-4d02-daad-9c9edf94bfa9"
   },
   "outputs": [],
   "source": [
    "from sklearn.preprocessing import StandardScaler\n",
    "\n",
    "# Assuming 'age' is the column name containing age data\n",
    "if 'age' in data.columns:\n",
    "  scaler = StandardScaler()\n",
    "  data['age_standardized'] = scaler.fit_transform(data[['age']])\n",
    "  print(data[['age', 'age_standardized']].head())\n",
    "else:\n",
    "  print(\"Error: 'age' column not found in the DataFrame.\")\n"
   ]
  },
  {
   "cell_type": "code",
   "execution_count": 3,
   "metadata": {
    "executionInfo": {
     "elapsed": 2,
     "status": "ok",
     "timestamp": 1746545143899,
     "user": {
      "displayName": "Xingyu Gong",
      "userId": "09190398267093723546"
     },
     "user_tz": 240
    },
    "id": "redkfUKqZr2k"
   },
   "outputs": [],
   "source": [
    "# data=data.iloc[:100,:]\n",
    "# data = data.fillna('None')\n",
    "# data"
   ]
  },
  {
   "cell_type": "code",
   "execution_count": null,
   "metadata": {
    "colab": {
     "base_uri": "https://localhost:8080/",
     "height": 429
    },
    "executionInfo": {
     "elapsed": 1264,
     "status": "ok",
     "timestamp": 1746545145163,
     "user": {
      "displayName": "Xingyu Gong",
      "userId": "09190398267093723546"
     },
     "user_tz": 240
    },
    "id": "xl-i6B-5cdmV",
    "outputId": "8383b920-0cd0-4b2a-8082-a9e8791097ed"
   },
   "outputs": [],
   "source": [
    "import matplotlib.pyplot as plt\n",
    "\n",
    "# Assuming 'data' DataFrame is already loaded and processed as in the previous code\n",
    "\n",
    "# Group data by 'case_status'\n",
    "grouped_data = data.groupby('case_status')\n",
    "\n",
    "# Create subplots\n",
    "fig, axes = plt.subplots(1, 2, figsize=(12, 5))\n",
    "\n",
    "# Iterate through the groups\n",
    "for case_status, group_data in grouped_data:\n",
    "  # Select the appropriate subplot\n",
    "  ax = axes[case_status]\n",
    "\n",
    "  # Plot the distribution of 'age' for the current group\n",
    "  group_data['age'].hist(ax=ax, bins=20)\n",
    "\n",
    "  # Set the title and labels for the subplot\n",
    "  ax.set_title(f\"Age Distribution for case_status = {case_status}\")\n",
    "  ax.set_xlabel(\"Age\")\n",
    "  ax.set_ylabel(\"Frequency\")\n",
    "\n",
    "# Display the plots\n",
    "plt.tight_layout()\n",
    "plt.show()\n"
   ]
  },
  {
   "cell_type": "code",
   "execution_count": null,
   "metadata": {
    "colab": {
     "base_uri": "https://localhost:8080/"
    },
    "executionInfo": {
     "elapsed": 8,
     "status": "ok",
     "timestamp": 1746545145172,
     "user": {
      "displayName": "Xingyu Gong",
      "userId": "09190398267093723546"
     },
     "user_tz": 240
    },
    "id": "HIEnuCXqjQAG",
    "outputId": "6a8b4687-09a5-4035-9b30-44021a2b3cf9"
   },
   "outputs": [],
   "source": [
    "# prompt: check if there's null values in gemini_summary\n",
    "\n",
    "# Check for null values in the 'gemini_summary' column\n",
    "null_values = data['gemini_summary'].isnull().sum()\n",
    "print(f\"Number of null values in 'gemini_summary': {null_values}\")\n",
    "\n",
    "# Check for empty strings in the 'gemini_summary' column\n",
    "empty_strings = (data['gemini_summary'] == '').sum()\n",
    "print(f\"Number of empty strings in 'gemini_summary': {empty_strings}\")\n",
    "\n",
    "# Check for \"None\" or \"nan\" strings in 'gemini_summary'\n",
    "none_strings = (data['gemini_summary'] == 'None').sum()\n",
    "nan_strings = (data['gemini_summary'].str.lower() == 'nan').sum()\n",
    "print(f\"Number of 'None' strings in 'gemini_summary': {none_strings}\")\n",
    "print(f\"Number of 'nan' strings in 'gemini_summary': {nan_strings}\")\n"
   ]
  },
  {
   "cell_type": "markdown",
   "metadata": {
    "id": "8SS8Sd6mg9PW"
   },
   "source": [
    "# Build Model"
   ]
  },
  {
   "cell_type": "code",
   "execution_count": 6,
   "metadata": {
    "executionInfo": {
     "elapsed": 2,
     "status": "ok",
     "timestamp": 1746545145175,
     "user": {
      "displayName": "Xingyu Gong",
      "userId": "09190398267093723546"
     },
     "user_tz": 240
    },
    "id": "vJuzyoKLY0Dd"
   },
   "outputs": [],
   "source": [
    "# !pip install transformers\n",
    "# !pip install sentence-transformers"
   ]
  },
  {
   "cell_type": "code",
   "execution_count": null,
   "metadata": {
    "colab": {
     "base_uri": "https://localhost:8080/",
     "height": 1000,
     "referenced_widgets": [
      "463e1d173f324469bdbec08c0afac43f",
      "badbecac55194959a14269d086d32184",
      "c80197316db045ebbeb4a82281106a5e",
      "d2fce2ff356644739da43e514fd8fb34",
      "4a4846408cc54b609947fe4f810b7577",
      "becb522c4e5741f3ae553c59d20777c2",
      "65f300020fa341e7b46996551be285ff",
      "a38347bd66094c65a0cf84bcc4a62c57",
      "ee4db5a0d25f4c84861d03856f1de023",
      "ed08afa681fc4abf80578503c6b99247",
      "5462efb10cb64ab98679d10ba68691c7",
      "8951c51a95324c40b873bc846845ee02",
      "04d509bc755142b5a224a03eb3300c27",
      "4542923b2e924157a4f6fa23e6de9821",
      "5ba30eb62a534937ba5458f0ab09ddb3",
      "c552c253e24844ebb2aef1ef950cd653",
      "cab5274e26d8455da85ea924d64b524a",
      "881607f17ee447f8b04bf7d0dec82868",
      "04042ecb134040e0affd382022fb3cb7",
      "30832842cee34c9db105b11690a44135",
      "1fe03f66873b4f9ba5d8a699f5dd4c53",
      "a2c244d4df1441e38286201ecfa59ade",
      "58459a649626421b83319e85da54808e",
      "9cf2b6e95a094aa4901244b99841ab23",
      "2044ce9dd2184d6fae9d21b34b345161",
      "ce9a703411cc4fb98bbdbbc00ab0a2e8",
      "97829925f96b4492828feb6beddb5a7b",
      "8f154cf2a99f44e3bb5052c7a5b93e8c",
      "cc6d060710f943d5a9ebc3a16cb5b5a3",
      "bc5409152352416d99419c6bffa7a086",
      "d2348bf4003847d390a66c8362dbd609",
      "97a9a379f9bb4c6b9a3528a8f9714f36",
      "6229446d736a4537abeabfe79d1a9d3c",
      "45be908bd082443090d255179a678796",
      "bb7460456a604059b6b40a5ce5a1ed9c",
      "3c3e265910804bfeb96bb3763f8d4b36",
      "eda6a90a1aca440d934cde86995fbe8c",
      "42d07ccf0b7349a89cd59daa591eb24a",
      "94ce9f298bc846fe9f2401aa000691ae",
      "05b9eba2b44d4ef4a21151d0cab7e331",
      "ace609c746264074b8b0fd54ee004e43",
      "f71ab654115f44c5bdea620fbdd4b2cc",
      "c37b98e044604140a9fa8a0ecf845815",
      "f0c55c49cc9942b89e8ae13a1678833d"
     ]
    },
    "executionInfo": {
     "elapsed": 103418,
     "status": "ok",
     "timestamp": 1746545248593,
     "user": {
      "displayName": "Xingyu Gong",
      "userId": "09190398267093723546"
     },
     "user_tz": 240
    },
    "id": "BnesNKcTY3a0",
    "outputId": "e2e7fcc7-46d5-4328-8e16-10913fed19fc"
   },
   "outputs": [],
   "source": [
    "import pandas as pd\n",
    "import numpy as np\n",
    "import torch\n",
    "from transformers import AutoTokenizer, AutoModel\n",
    "from sklearn.model_selection import train_test_split\n",
    "\n",
    "# Use GPU if available\n",
    "device = torch.device(\"cuda\" if torch.cuda.is_available() else \"cpu\")\n",
    "print(f\"Using device: {device}\")\n",
    "\n",
    "# Load ClinicalBERT and tokenizer\n",
    "model_name = \"emilyalsentzer/Bio_ClinicalBERT\"\n",
    "tokenizer = AutoTokenizer.from_pretrained(model_name)\n",
    "model = AutoModel.from_pretrained(model_name).to(device)\n",
    "model.eval()\n",
    "\n",
    "# Define feature and target columns\n",
    "feature_cols = ['age_standardized', 'gender', 'insurance_group', 'language_group', 'race_group1','Stroke_History', 'Myocardial_Infarction', 'Peripheral_Vascular_Disease',\n",
    "                'Cerebrovascular_Disease', 'Diabetes_Mellitus', 'Cancer']\n",
    "target_col = 'case_status'\n",
    "\n",
    "# Split dataset first\n",
    "X_train_df, X_test_df, y_train, y_test = train_test_split(\n",
    "    data, data[target_col], test_size=0.2, random_state=42\n",
    ")\n",
    "\n",
    "from tqdm import tqdm\n",
    "\n",
    "# Embedding function with GPU support + tqdm\n",
    "def generate_embeddings(texts):\n",
    "    embeddings = []\n",
    "    for text in tqdm(texts, desc=\"Generating Embeddings\"):\n",
    "        if pd.isna(text):\n",
    "            text = \"\"\n",
    "        else:\n",
    "            text = str(text)\n",
    "        inputs = tokenizer(text, truncation=True, padding='max_length', max_length=512, return_tensors='pt').to(device)\n",
    "        with torch.no_grad():\n",
    "            outputs = model(**inputs)\n",
    "        cls_embedding = outputs.last_hidden_state[:, 0, :].squeeze().cpu().numpy()\n",
    "        embeddings.append(cls_embedding)\n",
    "    return np.array(embeddings)\n",
    "\n",
    "# Generate embeddings\n",
    "X_train_embeddings = generate_embeddings(X_train_df['gemini_summary'].tolist())\n",
    "X_test_embeddings = generate_embeddings(X_test_df['gemini_summary'].tolist())\n"
   ]
  },
  {
   "cell_type": "code",
   "execution_count": null,
   "metadata": {
    "colab": {
     "base_uri": "https://localhost:8080/"
    },
    "executionInfo": {
     "elapsed": 4,
     "status": "ok",
     "timestamp": 1746545248600,
     "user": {
      "displayName": "Xingyu Gong",
      "userId": "09190398267093723546"
     },
     "user_tz": 240
    },
    "id": "v6a8JtdyoaYX",
    "outputId": "5d882fce-dcc9-4966-beba-aaa0700f1756"
   },
   "outputs": [],
   "source": [
    "X_train_embeddings.shape"
   ]
  },
  {
   "cell_type": "markdown",
   "metadata": {
    "id": "bvBLH2T7A2N3"
   },
   "source": [
    "# Remove low variance embedding features"
   ]
  },
  {
   "cell_type": "code",
   "execution_count": null,
   "metadata": {
    "colab": {
     "base_uri": "https://localhost:8080/"
    },
    "executionInfo": {
     "elapsed": 826,
     "status": "ok",
     "timestamp": 1746545249427,
     "user": {
      "displayName": "Xingyu Gong",
      "userId": "09190398267093723546"
     },
     "user_tz": 240
    },
    "id": "mHMO3I_DnoI_",
    "outputId": "937a0d6f-3ef6-4c4c-d97e-8a3db34460bd"
   },
   "outputs": [],
   "source": [
    "from sklearn.decomposition import PCA\n",
    "from sklearn.preprocessing import StandardScaler\n",
    "\n",
    "# Scale the embeddings\n",
    "scaler = StandardScaler()\n",
    "X_train_scaled = scaler.fit_transform(X_train_embeddings)\n",
    "X_test_scaled = scaler.transform(X_test_embeddings)\n",
    "\n",
    "# Apply PCA\n",
    "pca = PCA()\n",
    "X_train_pca = pca.fit_transform(X_train_scaled)\n",
    "\n",
    "# Explained variance ratio\n",
    "explained_variance_ratio = pca.explained_variance_ratio_\n",
    "\n",
    "# Find optimal k (number of principal components)\n",
    "cumulative_variance = np.cumsum(explained_variance_ratio)\n",
    "k = np.argmax(cumulative_variance >= 0.80) + 1  # Example: keep components explaining 80% variance\n",
    "\n",
    "print(f\"Optimal number of components (k): {k}\")\n",
    "\n",
    "# Apply PCA with optimal k\n",
    "pca = PCA(n_components=k)\n",
    "X_train_pca = pca.fit_transform(X_train_scaled)\n",
    "X_test_pca = pca.transform(X_test_scaled)\n",
    "\n",
    "# Now X_train_pca and X_test_pca contain the top k principal components\n",
    "print(f\"Shape of X_train_pca: {X_train_pca.shape}\")\n",
    "print(f\"Shape of X_test_pca: {X_test_pca.shape}\")\n"
   ]
  },
  {
   "cell_type": "code",
   "execution_count": 10,
   "metadata": {
    "executionInfo": {
     "elapsed": 18,
     "status": "ok",
     "timestamp": 1746545249451,
     "user": {
      "displayName": "Xingyu Gong",
      "userId": "09190398267093723546"
     },
     "user_tz": 240
    },
    "id": "umnSS1L8Axdx"
   },
   "outputs": [],
   "source": [
    "# from sklearn.feature_selection import VarianceThreshold\n",
    "# selector = VarianceThreshold(threshold=1e-4)\n",
    "# X_train_embeddings = selector.fit_transform(X_train_embeddings)\n",
    "# X_test_embeddings = selector.transform(X_test_embeddings)\n"
   ]
  },
  {
   "cell_type": "markdown",
   "metadata": {
    "id": "R4P0b2HZGcQP"
   },
   "source": [
    "#### LightGBM with RandomizedSearchCV for hyperparameter tuning"
   ]
  },
  {
   "cell_type": "markdown",
   "metadata": {
    "id": "iJX40W5YBvbW"
   },
   "source": [
    "| **Benefit**                        | **LightGBM**                              | **Logistic Regression**                   |\n",
    "|------------------------------------|-------------------------------------------|--------------------------------------------|\n",
    "| **Nonlinear relationships**        | ✅ Captures complex, nonlinear patterns    | ❌ Assumes linearity between features & log-odds |\n",
    "| **Feature interactions**           | ✅ Automatically models feature interactions | ❌ Cannot model interactions unless manually created |\n",
    "| **Handling many features**         | ✅ Efficient with large/sparse feature sets | ⚠️ Needs strong regularization to avoid overfitting |\n",
    "| **Automatic feature selection**    | ✅ Ignores uninformative features (via gain) | ❌ All features contribute unless explicitly regularized |\n",
    "| **Robust to feature scaling**      | ✅ No scaling needed                       | ❌ Requires standardized features           |\n",
    "| **Tree-based regularization**      | ✅ via subsample, colsample, L1/L2         | ⚠️ Relies on proper penalty tuning (e.g. `C`, `l1_ratio`) |\n",
    "| **Handles missing values**         | ✅ Built-in support                        | ❌ Requires imputation                      |\n",
    "| **Performance (usually)**          | ✅ Often higher accuracy/F1 on complex datasets | ⚠️ Weaker when relationships are nonlinear |"
   ]
  },
  {
   "cell_type": "code",
   "execution_count": 11,
   "metadata": {
    "executionInfo": {
     "elapsed": 37,
     "status": "ok",
     "timestamp": 1746545249490,
     "user": {
      "displayName": "Xingyu Gong",
      "userId": "09190398267093723546"
     },
     "user_tz": 240
    },
    "id": "S4rTmQUIxbBB"
   },
   "outputs": [],
   "source": [
    "# === Step 1: Define categorical columns ===\n",
    "categorical_cols = ['gender', 'insurance_group', 'language_group', 'race_group1',\n",
    "                    'Stroke_History', 'Myocardial_Infarction', 'Peripheral_Vascular_Disease',\n",
    "                    'Cerebrovascular_Disease', 'Diabetes_Mellitus', 'Cancer']\n",
    "\n",
    "# === Step 2: Ensure categorical columns are dtype 'category' ===\n",
    "for col in categorical_cols:\n",
    "    X_train_df[col] = X_train_df[col].astype('category')\n",
    "    X_test_df[col] = X_test_df[col].astype('category')\n",
    "\n",
    "# === Step 3: Build structured matrix with categorical + numerical ===\n",
    "structured_cols = categorical_cols + ['age_standardized']\n",
    "X_train_structured = X_train_df[structured_cols]\n",
    "X_test_structured = X_test_df[structured_cols]\n",
    "\n",
    "# === Step 4: Combine embeddings with structured features ===\n",
    "X_train_full = pd.concat([pd.DataFrame(X_train_pca), X_train_structured.reset_index(drop=True)], axis=1)\n",
    "X_test_full = pd.concat([pd.DataFrame(X_test_pca), X_test_structured.reset_index(drop=True)], axis=1)\n"
   ]
  },
  {
   "cell_type": "code",
   "execution_count": null,
   "metadata": {
    "colab": {
     "base_uri": "https://localhost:8080/"
    },
    "executionInfo": {
     "elapsed": 186086,
     "status": "ok",
     "timestamp": 1746545435578,
     "user": {
      "displayName": "Xingyu Gong",
      "userId": "09190398267093723546"
     },
     "user_tz": 240
    },
    "id": "fG_tAFMVIBqm",
    "outputId": "5fe3e653-0f7c-45de-c8fe-1a8d8c17b8f5"
   },
   "outputs": [],
   "source": [
    "from lightgbm import LGBMClassifier\n",
    "from sklearn.model_selection import GridSearchCV\n",
    "from sklearn.metrics import classification_report\n",
    "\n",
    "# Step 1: Define the reduced parameter grid\n",
    "param_grid = {\n",
    "    'n_estimators': [50, 100],  # Add more for longer training if early stopping is used\n",
    "    'learning_rate': [0.01, 0.05],  # Try slower learning for smoother convergence\n",
    "    'max_depth': [4, 6],                # Shallower trees to reduce complexity\n",
    "    'bagging_fraction': [0.5, 0.6],   # More aggressive row subsampling\n",
    "    'bagging_freq': [1, 3],             # Try more frequent bagging\n",
    "    'colsample_bytree': [0.5, 0.6],   # Try smaller feature subsampling\n",
    "    'reg_alpha': [0.1, 0.8],          # L1 regularization\n",
    "    'reg_lambda': [ 0.1, 0.8]          # L2 regularization\n",
    "}\n",
    "\n",
    "\n",
    "# Step 2: Set up GridSearchCV\n",
    "grid = GridSearchCV(\n",
    "    LGBMClassifier(\n",
    "        random_state=42,\n",
    "        n_jobs=-1,\n",
    "        verbosity=-1\n",
    "    ),\n",
    "    param_grid=param_grid,\n",
    "    cv=5,\n",
    "    scoring='accuracy',\n",
    "    verbose=1\n",
    ")\n",
    "\n",
    "# Step 3: Fit the model\n",
    "grid.fit(X_train_full, y_train)\n",
    "\n",
    "# Step 4: Evaluate best model\n",
    "print(\"Best params:\", grid.best_params_)\n",
    "y_pred = grid.best_estimator_.predict(X_test_full)\n",
    "print(classification_report(y_test, y_pred))"
   ]
  },
  {
   "cell_type": "code",
   "execution_count": 13,
   "metadata": {
    "executionInfo": {
     "elapsed": 13,
     "status": "ok",
     "timestamp": 1746545435590,
     "user": {
      "displayName": "Xingyu Gong",
      "userId": "09190398267093723546"
     },
     "user_tz": 240
    },
    "id": "PxNlf7nRLL1A"
   },
   "outputs": [],
   "source": [
    "# Predict probabilities and labels using tuned model and updated features\n",
    "clf=grid.best_estimator_\n",
    "train_probs = clf.predict_proba(X_train_full)\n",
    "test_probs = clf.predict_proba(X_test_full)\n",
    "\n",
    "# Add predictions to the original dataframes\n",
    "X_train_df['predicted_probability'] = np.max(train_probs, axis=1)\n",
    "X_test_df['predicted_probability'] = np.max(test_probs, axis=1)\n",
    "\n",
    "X_train_df['prediction'] = clf.predict(X_train_full)\n",
    "X_test_df['prediction'] = clf.predict(X_test_full)"
   ]
  },
  {
   "cell_type": "code",
   "execution_count": 14,
   "metadata": {
    "executionInfo": {
     "elapsed": 210,
     "status": "ok",
     "timestamp": 1746545435800,
     "user": {
      "displayName": "Xingyu Gong",
      "userId": "09190398267093723546"
     },
     "user_tz": 240
    },
    "id": "ZYbAu1NQLSjO"
   },
   "outputs": [],
   "source": [
    "# Combine train and test for consistent one-hot encoding\n",
    "X_train_df['split'] = 'train'\n",
    "X_test_df['split'] = 'test'\n",
    "\n",
    "final_df = pd.concat([X_train_df, X_test_df])\n",
    "final_df.to_csv('final_df.csv', index=False)"
   ]
  },
  {
   "cell_type": "code",
   "execution_count": null,
   "metadata": {
    "colab": {
     "base_uri": "https://localhost:8080/",
     "height": 429
    },
    "executionInfo": {
     "elapsed": 66,
     "status": "ok",
     "timestamp": 1746545435868,
     "user": {
      "displayName": "Xingyu Gong",
      "userId": "09190398267093723546"
     },
     "user_tz": 240
    },
    "id": "eHmLlK-eDxEh",
    "outputId": "39a42f19-a319-4f2f-b39f-34a63d074085"
   },
   "outputs": [],
   "source": [
    "final_df.head()"
   ]
  },
  {
   "cell_type": "code",
   "execution_count": null,
   "metadata": {
    "colab": {
     "base_uri": "https://localhost:8080/",
     "height": 472
    },
    "executionInfo": {
     "elapsed": 279,
     "status": "ok",
     "timestamp": 1746545436148,
     "user": {
      "displayName": "Xingyu Gong",
      "userId": "09190398267093723546"
     },
     "user_tz": 240
    },
    "id": "WQ5DzGJlE6BJ",
    "outputId": "d06140b2-2eee-4043-f1d4-d31ec7f4a001"
   },
   "outputs": [],
   "source": [
    "from lightgbm import plot_importance\n",
    "\n",
    "plot_importance(clf, max_num_features=40, importance_type='split')  # or 'gain'\n",
    "plt.title('LightGBM Feature Importance')\n",
    "plt.show()\n"
   ]
  },
  {
   "cell_type": "markdown",
   "metadata": {
    "id": "ZQrUTDnPbjy5"
   },
   "source": [
    "# Test Performance"
   ]
  },
  {
   "cell_type": "markdown",
   "metadata": {
    "id": "6wVOeyzJ6WYZ"
   },
   "source": [
    "⚖️ Why These Metrics?\n",
    "\n",
    "In a classification task (e.g., predicting case_status), fairness means the model's decisions should not unfairly disadvantage people from certain groups (like gender, race, age, etc.).\n",
    "\n",
    "To assess this, we compare how well or how consistently the model performs across different subgroups. Each of the three metrics measures a specific kind of fairness.\n",
    "\n",
    "🔹 1. Equal Opportunity (TPR)\n",
    "\n",
    "The True Positive Rate (TP / [TP + FN]) should be equal across groups.\n",
    "\n",
    "Why it matters:\n",
    "\n",
    "This ensures that qualified individuals (i.e., people who truly belong to the positive class) are equally likely to be correctly identified, no matter their demographic. It aims for equal performance for both positive and negative predictions across groups, ensuring that neither group benefits or suffers disproportionately from the model's decisions.\n",
    "\n",
    "Example: In healthcare, all patients who actually need treatment (true positives) should have an equal chance of being correctly identified — regardless of race or gender.\n",
    "\n",
    "Bias implication:\n",
    "\n",
    "If Group A has TPR = 0.9 and Group B has TPR = 0.6 → the model is less likely to help Group B, even if they qualify. That’s discriminatory.\n",
    "\n",
    "🔹 2. Predictive Parity (Precision)\n",
    "The Precision (TP / [TP + FP]) should be equal across groups.\n",
    "\n",
    "Why it matters:\n",
    "\n",
    "This ensures that those who are predicted to be positive actually are, at equal rates across groups.\n",
    "\n",
    "In practical terms, it means the model is equally trustworthy in its positive predictions for all groups.\n",
    "\n",
    "Bias implication:\n",
    "\n",
    "If Group A has 80% precision and Group B has 50% → Group B suffers more false alarms or unjustified interventions, which is unfair.\n",
    "\n",
    "🔹 3. Equalized Odds (TPR & FPR)\n",
    "\n",
    "Both TPR and FPR (False Positive Rate = FP / [FP + TN]) should be equal across groups.\n",
    "\n",
    "Why it matters:\n",
    "\n",
    "This is the most comprehensive fairness metric.\n",
    "\n",
    "It ensures the model:\n",
    "\n",
    "✅ correctly identifies positives at the same rate (Equal Opportunity)\n",
    "\n",
    "❌ doesn’t falsely accuse negatives at different rates (False alarms)\n",
    "\n",
    "Bias implication:\n",
    "\n",
    "If Group A has FPR = 0.1 and Group B has FPR = 0.3 → Group B receives more false accusations, which can be harmful or costly (e.g., wrongful arrests, misdiagnoses).\n",
    "\n",
    "🧠 Summary Table\n",
    "\n",
    "Metric\tMeasures\tPrevents Bias Where...\n",
    "\n",
    "Equal Opportunity\tTPR\tQualified individuals are denied more often in some groups\n",
    "\n",
    "Predictive Parity\tPrecision\tSome groups receive more incorrect positive predictions\n",
    "\n",
    "Equalized Odds\tTPR & FPR\tSome groups are both over- or under-predicted unfairly\n"
   ]
  },
  {
   "cell_type": "markdown",
   "metadata": {
    "id": "ZRoxc-zuNaoE"
   },
   "source": [
    "#### Overall"
   ]
  },
  {
   "cell_type": "code",
   "execution_count": 17,
   "metadata": {
    "executionInfo": {
     "elapsed": 27,
     "status": "ok",
     "timestamp": 1746545436176,
     "user": {
      "displayName": "Xingyu Gong",
      "userId": "09190398267093723546"
     },
     "user_tz": 240
    },
    "id": "1uKWJQwS18c6"
   },
   "outputs": [],
   "source": [
    "final_df=pd.read_csv(\"final_df.csv\")"
   ]
  },
  {
   "cell_type": "code",
   "execution_count": null,
   "metadata": {
    "colab": {
     "base_uri": "https://localhost:8080/"
    },
    "executionInfo": {
     "elapsed": 6,
     "status": "ok",
     "timestamp": 1746545436189,
     "user": {
      "displayName": "Xingyu Gong",
      "userId": "09190398267093723546"
     },
     "user_tz": 240
    },
    "id": "YwIwS5-DEdj2",
    "outputId": "a0291abc-44ef-4f82-8e09-564ad4138696"
   },
   "outputs": [],
   "source": [
    "from sklearn.metrics import confusion_matrix\n",
    "\n",
    "# Use only test set\n",
    "test_data = final_df[final_df['split'] == 'train']\n",
    "\n",
    "# Get ground truth and predictions\n",
    "y_true = test_data['case_status']\n",
    "y_pred = test_data['prediction']\n",
    "\n",
    "# Compute confusion matrix\n",
    "try:\n",
    "    tn, fp, fn, tp = confusion_matrix(y_true, y_pred, labels=[0, 1]).ravel()\n",
    "except ValueError:\n",
    "    # Handle edge cases where only one class is present\n",
    "    tn = fp = fn = tp = 0\n",
    "    for actual, pred in zip(y_true, y_pred):\n",
    "        if actual == 1 and pred == 1:\n",
    "            tp += 1\n",
    "        elif actual == 1 and pred == 0:\n",
    "            fn += 1\n",
    "        elif actual == 0 and pred == 1:\n",
    "            fp += 1\n",
    "        elif actual == 0 and pred == 0:\n",
    "            tn += 1\n",
    "\n",
    "# Compute fairness-related metrics\n",
    "tpr = tp / (tp + fn) if (tp + fn) > 0 else 0.0  # Sensitivity / Equal Opportunity\n",
    "fpr = fp / (fp + tn) if (fp + tn) > 0 else 0.0  # False Positive Rate / Equalized Odds\n",
    "precision = tp / (tp + fp) if (tp + fp) > 0 else 0.0  # Precision / Predictive Parity\n",
    "sample_size = len(test_data)\n",
    "\n",
    "# Print results\n",
    "print(\"📊 Overall Model Performance on Train Set\")\n",
    "print(\"-\" * 40)\n",
    "print(f\"TPR:       {tpr:.4f}\")\n",
    "print(f\"FPR:       {fpr:.4f}\")\n",
    "print(f\"Precision: {precision:.4f}\")\n",
    "print(f\"Sample Size:  {sample_size}\")"
   ]
  },
  {
   "cell_type": "code",
   "execution_count": null,
   "metadata": {
    "colab": {
     "base_uri": "https://localhost:8080/"
    },
    "executionInfo": {
     "elapsed": 5,
     "status": "ok",
     "timestamp": 1746545436213,
     "user": {
      "displayName": "Xingyu Gong",
      "userId": "09190398267093723546"
     },
     "user_tz": 240
    },
    "id": "4_Y-4_TzMUri",
    "outputId": "c8eafcce-c390-4c6e-97d4-fd0ed4366201"
   },
   "outputs": [],
   "source": [
    "from sklearn.metrics import confusion_matrix\n",
    "\n",
    "# Use only test set\n",
    "test_data = final_df[final_df['split'] == 'test']\n",
    "\n",
    "# Get ground truth and predictions\n",
    "y_true = test_data['case_status']\n",
    "y_pred = test_data['prediction']\n",
    "\n",
    "# Compute confusion matrix\n",
    "try:\n",
    "    tn, fp, fn, tp = confusion_matrix(y_true, y_pred, labels=[0, 1]).ravel()\n",
    "except ValueError:\n",
    "    # Handle edge cases where only one class is present\n",
    "    tn = fp = fn = tp = 0\n",
    "    for actual, pred in zip(y_true, y_pred):\n",
    "        if actual == 1 and pred == 1:\n",
    "            tp += 1\n",
    "        elif actual == 1 and pred == 0:\n",
    "            fn += 1\n",
    "        elif actual == 0 and pred == 1:\n",
    "            fp += 1\n",
    "        elif actual == 0 and pred == 0:\n",
    "            tn += 1\n",
    "\n",
    "# Compute fairness-related metrics\n",
    "tpr = tp / (tp + fn) if (tp + fn) > 0 else 0.0  # Sensitivity / Equal Opportunity\n",
    "fpr = fp / (fp + tn) if (fp + tn) > 0 else 0.0  # False Positive Rate / Equalized Odds\n",
    "precision = tp / (tp + fp) if (tp + fp) > 0 else 0.0  # Precision / Predictive Parity\n",
    "sample_size = len(test_data)\n",
    "\n",
    "# Print results\n",
    "print(\"📊 Overall Model Performance on Test Set\")\n",
    "print(\"-\" * 40)\n",
    "print(f\"TPR:       {tpr:.4f}\")\n",
    "print(f\"FPR:       {fpr:.4f}\")\n",
    "print(f\"Precision: {precision:.4f}\")\n",
    "print(f\"Sample Size:  {sample_size}\")"
   ]
  },
  {
   "cell_type": "markdown",
   "metadata": {
    "id": "yfVQ9J6gNzc9"
   },
   "source": [
    "# Bias Validation"
   ]
  },
  {
   "cell_type": "markdown",
   "metadata": {
    "id": "VYzmJ8zrGPaA"
   },
   "source": [
    "## Sample performance"
   ]
  },
  {
   "cell_type": "code",
   "execution_count": null,
   "metadata": {
    "colab": {
     "base_uri": "https://localhost:8080/"
    },
    "executionInfo": {
     "elapsed": 8354,
     "status": "ok",
     "timestamp": 1746545444567,
     "user": {
      "displayName": "Xingyu Gong",
      "userId": "09190398267093723546"
     },
     "user_tz": 240
    },
    "id": "onGydhKbN02K",
    "outputId": "de72f244-13cd-4763-8bc5-1d5d94b336bf"
   },
   "outputs": [],
   "source": [
    "import pandas as pd\n",
    "import numpy as np\n",
    "from sklearn.metrics import confusion_matrix\n",
    "from tabulate import tabulate\n",
    "\n",
    "# === Age binning ===\n",
    "def bin_age(df):\n",
    "    bin_edges = [0, 70, 80, 90, float('inf')]\n",
    "    labels = ['<70', '70-80', '80-90', '>90']\n",
    "    df['age_group'] = pd.cut(df['age'], bins=bin_edges, labels=labels, right=False)\n",
    "    return df\n",
    "\n",
    "# === Bootstrap metrics: TPR, FPR, Precision only ===\n",
    "def bootstrap_metrics(y_true, y_pred, n_iterations=100):\n",
    "    stats = {'TPR': [], 'FPR': [], 'Precision': []}\n",
    "    for _ in range(n_iterations):\n",
    "        try:\n",
    "            sample = pd.DataFrame({'y_true': y_true, 'y_pred': y_pred}).sample(frac=1.0, replace=True)\n",
    "            yt = sample['y_true']\n",
    "            yp = sample['y_pred']\n",
    "            tn, fp, fn, tp = confusion_matrix(yt, yp, labels=[0, 1]).ravel()\n",
    "            tpr = tp / (tp + fn) if (tp + fn) > 0 else np.nan\n",
    "            fpr = fp / (fp + tn) if (fp + tn) > 0 else np.nan\n",
    "            precision = tp / (tp + fp) if (tp + fp) > 0 else np.nan\n",
    "            stats['TPR'].append(tpr)\n",
    "            stats['FPR'].append(fpr)\n",
    "            stats['Precision'].append(precision)\n",
    "        except:\n",
    "            continue\n",
    "\n",
    "    return {\n",
    "        'TPR': (np.nanpercentile(stats['TPR'], 2.5), np.nanpercentile(stats['TPR'], 97.5)),\n",
    "        'FPR': (np.nanpercentile(stats['FPR'], 2.5), np.nanpercentile(stats['FPR'], 97.5)),\n",
    "        'Precision': (np.nanpercentile(stats['Precision'], 2.5), np.nanpercentile(stats['Precision'], 97.5)),\n",
    "    }\n",
    "\n",
    "# === Apply binning to age ===\n",
    "final_df = bin_age(final_df)\n",
    "\n",
    "# === Split data ===\n",
    "test_data = final_df[final_df['split'] == 'test']\n",
    "train_data = final_df[final_df['split'] == 'train']\n",
    "\n",
    "# === Demographic groups ===\n",
    "demographic_groups = ['age_group', 'gender', 'insurance_group', 'language_group',\n",
    "                      'race_group1', 'race_group2', 'race_group3', 'race_group4']\n",
    "\n",
    "# === Run analysis for Train and Test ===\n",
    "for data_split_name, data in zip(['Train', 'Test'], [train_data, test_data]):\n",
    "    records = []\n",
    "\n",
    "    for group_col in demographic_groups:\n",
    "        if group_col not in data.columns:\n",
    "            continue\n",
    "\n",
    "        group_values = data[group_col].dropna().unique()\n",
    "\n",
    "        for value in group_values:\n",
    "            subset = data[data[group_col] == value]\n",
    "            if len(subset) < 10:\n",
    "                continue  # skip small groups\n",
    "\n",
    "            y_true = subset['case_status']\n",
    "            y_pred = subset['prediction']\n",
    "            ci = bootstrap_metrics(y_true, y_pred)\n",
    "\n",
    "            records.append({\n",
    "                'Group': group_col,\n",
    "                'Subgroup': value,\n",
    "                'Equal Opportunity (TPR)': f\"{ci['TPR'][0]:.3f}–{ci['TPR'][1]:.3f}\",\n",
    "                'False Positive Rate (FPR)': f\"{ci['FPR'][0]:.3f}–{ci['FPR'][1]:.3f}\",\n",
    "                'Precision (Predictive Parity)': f\"{ci['Precision'][0]:.3f}–{ci['Precision'][1]:.3f}\",\n",
    "                'Sample Size': len(subset)\n",
    "            })\n",
    "\n",
    "    df_metrics = pd.DataFrame(records)\n",
    "    print(f\"\\n=== {data_split_name} Fairness Metrics Per Subgroup ===\")\n",
    "    print(tabulate(df_metrics, headers=\"keys\", tablefmt=\"fancy_grid\", showindex=False))\n"
   ]
  },
  {
   "cell_type": "markdown",
   "metadata": {
    "id": "UWE89rWhAgNe"
   },
   "source": [
    "## Check Equalized Opportunity Violations -  pairwise"
   ]
  },
  {
   "cell_type": "markdown",
   "metadata": {
    "id": "rBQoHKpPCR4f"
   },
   "source": [
    "`proportions_ztest`: Compares proportions between two independent groups to see if they're different"
   ]
  },
  {
   "cell_type": "code",
   "execution_count": null,
   "metadata": {
    "colab": {
     "base_uri": "https://localhost:8080/"
    },
    "executionInfo": {
     "elapsed": 401,
     "status": "ok",
     "timestamp": 1746545444970,
     "user": {
      "displayName": "Xingyu Gong",
      "userId": "09190398267093723546"
     },
     "user_tz": 240
    },
    "id": "jSvmpifpAfij",
    "outputId": "7dbe6dca-6ef0-43d8-a51a-3d0a6f2e2849"
   },
   "outputs": [],
   "source": [
    "from statsmodels.stats.proportion import proportions_ztest\n",
    "from sklearn.metrics import confusion_matrix\n",
    "import pandas as pd\n",
    "\n",
    "def compute_tpr_components(y_true, y_pred):\n",
    "    tn, fp, fn, tp = confusion_matrix(y_true, y_pred, labels=[0, 1]).ravel()\n",
    "    return tp, fn  # TPR = TP / (TP + FN)\n",
    "\n",
    "def test_tpr_difference(df, group_col, y_true_col='case_status', y_pred_col='prediction'):\n",
    "    values = df[group_col].dropna().unique()\n",
    "    results = []\n",
    "\n",
    "    for i in range(len(values)):\n",
    "        for j in range(i+1, len(values)):\n",
    "            g1, g2 = values[i], values[j]\n",
    "            df1 = df[df[group_col] == g1]\n",
    "            df2 = df[df[group_col] == g2]\n",
    "\n",
    "            if len(df1) < 10 or len(df2) < 10:\n",
    "                continue  # skip small groups\n",
    "\n",
    "            try:\n",
    "                tp1, fn1 = compute_tpr_components(df1[y_true_col], df1[y_pred_col])\n",
    "                tp2, fn2 = compute_tpr_components(df2[y_true_col], df2[y_pred_col])\n",
    "            except:\n",
    "                continue\n",
    "\n",
    "            count = [tp1, tp2]\n",
    "            nobs = [tp1 + fn1, tp2 + fn2]\n",
    "\n",
    "            if min(nobs) == 0:\n",
    "                continue  # skip invalid\n",
    "\n",
    "            stat, pval = proportions_ztest(count, nobs)\n",
    "            if pval < 0.05:\n",
    "                results.append({\n",
    "                    'Demographic': group_col,\n",
    "                    'Group 1': g1,\n",
    "                    'Group 2': g2,\n",
    "                    'TPR 1': f\"{tp1 / nobs[0]:.3f}\",\n",
    "                    'TPR 2': f\"{tp2 / nobs[1]:.3f}\",\n",
    "                    'p-value': round(pval, 4)\n",
    "                })\n",
    "\n",
    "    return pd.DataFrame(results)\n",
    "\n",
    "# === Run for each demographic column ===\n",
    "demographic_groups = ['age_group', 'gender', 'insurance_group', 'language_group',\n",
    "                      'race_group1', 'race_group2', 'race_group3', 'race_group4']\n",
    "\n",
    "for group_col in demographic_groups:\n",
    "    print(f\"\\n=== TPR differences in {group_col} ===\")\n",
    "    df_tpr_diff = test_tpr_difference(final_df[final_df['split']==\"test\"], group_col)\n",
    "    if df_tpr_diff.empty:\n",
    "        print(\"No significant TPR differences.\")\n",
    "    else:\n",
    "        print(df_tpr_diff)\n"
   ]
  },
  {
   "cell_type": "markdown",
   "metadata": {
    "id": "G3itOcVTB54A"
   },
   "source": [
    "## Check Equalized Opportunity Violations - group\n",
    "\n",
    "`chi2_contingency`"
   ]
  },
  {
   "cell_type": "code",
   "execution_count": null,
   "metadata": {
    "colab": {
     "base_uri": "https://localhost:8080/"
    },
    "executionInfo": {
     "elapsed": 72,
     "status": "ok",
     "timestamp": 1746545445044,
     "user": {
      "displayName": "Xingyu Gong",
      "userId": "09190398267093723546"
     },
     "user_tz": 240
    },
    "id": "mOX-3DkLB_5p",
    "outputId": "9a5c509b-0eca-44ea-c9da-e93592783b9d"
   },
   "outputs": [],
   "source": [
    "from sklearn.metrics import confusion_matrix\n",
    "from scipy.stats import chi2_contingency\n",
    "import pandas as pd\n",
    "\n",
    "def chi2_test_tpr(df, group_col, y_true_col='case_status', y_pred_col='prediction'):\n",
    "    table = []\n",
    "    labels = []\n",
    "\n",
    "    for val in df[group_col].dropna().unique():\n",
    "        subset = df[df[group_col] == val]\n",
    "        if len(subset) < 10:\n",
    "            continue\n",
    "\n",
    "        try:\n",
    "            tn, fp, fn, tp = confusion_matrix(subset[y_true_col], subset[y_pred_col], labels=[0,1]).ravel()\n",
    "        except:\n",
    "            continue\n",
    "\n",
    "        table.append([tp, fn])  # TPR = TP / (TP + FN)\n",
    "        labels.append(val)\n",
    "\n",
    "    if len(table) < 2:\n",
    "        return None, None, None\n",
    "\n",
    "    stat, pval, _, expected = chi2_contingency(table)\n",
    "\n",
    "    return pd.DataFrame(table, index=labels, columns=['TP', 'FN']), pval, stat\n",
    "\n",
    "# Example usage:\n",
    "for group in demographic_groups:\n",
    "    print(f\"\\n=== TPR difference test across {group} ===\")\n",
    "    contingency_df, pval, stat = chi2_test_tpr(final_df[final_df['split']==\"test\"], group)\n",
    "\n",
    "    if contingency_df is None:\n",
    "        print(\"Not enough valid groups.\")\n",
    "    else:\n",
    "        print(contingency_df)\n",
    "        print(f\"Chi-squared p-value: {pval:.4f}\")\n",
    "        if pval < 0.05:\n",
    "            print(\"✅ Significant TPR difference across subgroups.\")\n",
    "        else:\n",
    "            print(\"❌ No significant TPR difference across subgroups.\")\n"
   ]
  },
  {
   "cell_type": "markdown",
   "metadata": {
    "id": "dmnXQjiwB2x0"
   },
   "source": []
  },
  {
   "cell_type": "markdown",
   "metadata": {
    "id": "rvcJBdkUBSSY"
   },
   "source": [
    "## Check Predictive Parity Violations -  Pairwise"
   ]
  },
  {
   "cell_type": "code",
   "execution_count": null,
   "metadata": {
    "colab": {
     "base_uri": "https://localhost:8080/"
    },
    "executionInfo": {
     "elapsed": 256,
     "status": "ok",
     "timestamp": 1746545445334,
     "user": {
      "displayName": "Xingyu Gong",
      "userId": "09190398267093723546"
     },
     "user_tz": 240
    },
    "id": "DIQiW_YuCrm8",
    "outputId": "1219975a-600c-4681-e8b3-72c583bd79cc"
   },
   "outputs": [],
   "source": [
    "from statsmodels.stats.proportion import proportions_ztest\n",
    "from sklearn.metrics import confusion_matrix\n",
    "import pandas as pd\n",
    "\n",
    "def compute_precision_components(y_true, y_pred):\n",
    "    tn, fp, fn, tp = confusion_matrix(y_true, y_pred, labels=[0, 1]).ravel()\n",
    "    return tp, fp  # Precision = TP / (TP + FP)\n",
    "\n",
    "def test_precision_difference(df, group_col, y_true_col='case_status', y_pred_col='prediction'):\n",
    "    values = df[group_col].dropna().unique()\n",
    "    results = []\n",
    "\n",
    "    for i in range(len(values)):\n",
    "        for j in range(i+1, len(values)):\n",
    "            g1, g2 = values[i], values[j]\n",
    "            df1 = df[df[group_col] == g1]\n",
    "            df2 = df[df[group_col] == g2]\n",
    "\n",
    "            if len(df1) < 10 or len(df2) < 10:\n",
    "                continue  # skip small groups\n",
    "\n",
    "            try:\n",
    "                tp1, fp1 = compute_precision_components(df1[y_true_col], df1[y_pred_col])\n",
    "                tp2, fp2 = compute_precision_components(df2[y_true_col], df2[y_pred_col])\n",
    "            except:\n",
    "                continue\n",
    "\n",
    "            count = [tp1, tp2]\n",
    "            nobs = [tp1 + fp1, tp2 + fp2]\n",
    "\n",
    "            if min(nobs) == 0:\n",
    "                continue  # skip invalid\n",
    "\n",
    "            stat, pval = proportions_ztest(count, nobs)\n",
    "            if pval < 0.05:\n",
    "                results.append({\n",
    "                    'Demographic': group_col,\n",
    "                    'Group 1': g1,\n",
    "                    'Group 2': g2,\n",
    "                    'Precision 1': f\"{tp1 / nobs[0]:.3f}\",\n",
    "                    'Precision 2': f\"{tp2 / nobs[1]:.3f}\",\n",
    "                    'p-value': round(pval, 4)\n",
    "                })\n",
    "\n",
    "    return pd.DataFrame(results)\n",
    "for group_col in demographic_groups:\n",
    "    print(f\"\\n=== Precision differences in {group_col} ===\")\n",
    "    df_precision_diff = test_precision_difference(final_df[final_df['split']==\"test\"], group_col)\n",
    "    if df_precision_diff.empty:\n",
    "        print(\"No significant Precision differences.\")\n",
    "    else:\n",
    "        print(df_precision_diff)"
   ]
  },
  {
   "cell_type": "markdown",
   "metadata": {
    "id": "g30BJa9bCqBi"
   },
   "source": [
    "## Check Predictive Parity Violations -  group"
   ]
  },
  {
   "cell_type": "code",
   "execution_count": null,
   "metadata": {
    "colab": {
     "base_uri": "https://localhost:8080/"
    },
    "executionInfo": {
     "elapsed": 124,
     "status": "ok",
     "timestamp": 1746545445460,
     "user": {
      "displayName": "Xingyu Gong",
      "userId": "09190398267093723546"
     },
     "user_tz": 240
    },
    "id": "qo1kf6iMCutz",
    "outputId": "36efd6b4-db47-4602-d65d-94fb6e3722c1"
   },
   "outputs": [],
   "source": [
    "from sklearn.metrics import confusion_matrix\n",
    "from scipy.stats import chi2_contingency\n",
    "import pandas as pd\n",
    "\n",
    "def chi2_test_precision(df, group_col, y_true_col='case_status', y_pred_col='prediction'):\n",
    "    table = []\n",
    "    labels = []\n",
    "\n",
    "    for val in df[group_col].dropna().unique():\n",
    "        subset = df[df[group_col] == val]\n",
    "        if len(subset) < 10:\n",
    "            continue\n",
    "\n",
    "        try:\n",
    "            tn, fp, fn, tp = confusion_matrix(subset[y_true_col], subset[y_pred_col], labels=[0, 1]).ravel()\n",
    "        except:\n",
    "            continue\n",
    "\n",
    "        table.append([tp, fp])  # Precision = TP / (TP + FP)\n",
    "        labels.append(val)\n",
    "\n",
    "    if len(table) < 2:\n",
    "        return None, None, None\n",
    "\n",
    "    stat, pval, _, expected = chi2_contingency(table)\n",
    "\n",
    "    return pd.DataFrame(table, index=labels, columns=['TP', 'FP']), pval, stat\n",
    "\n",
    "for group in demographic_groups:\n",
    "    print(f\"\\n=== Precision difference test across {group} ===\")\n",
    "    contingency_df, pval, stat = chi2_test_precision(final_df[final_df['split']==\"test\"], group)\n",
    "\n",
    "    if contingency_df is None:\n",
    "        print(\"Not enough valid groups.\")\n",
    "    else:\n",
    "        print(contingency_df)\n",
    "        print(f\"Chi-squared p-value: {pval:.4f}\")\n",
    "        if pval < 0.05:\n",
    "            print(\"✅ Significant Precision difference across subgroups.\")\n",
    "        else:\n",
    "            print(\"❌ No significant Precision difference across subgroups.\")"
   ]
  },
  {
   "cell_type": "markdown",
   "metadata": {
    "id": "5KZO8RxDEptc"
   },
   "source": [
    "## Check Equalized odds Violations -  pairwise\n"
   ]
  },
  {
   "cell_type": "code",
   "execution_count": null,
   "metadata": {
    "colab": {
     "base_uri": "https://localhost:8080/"
    },
    "executionInfo": {
     "elapsed": 2805,
     "status": "ok",
     "timestamp": 1746545448263,
     "user": {
      "displayName": "Xingyu Gong",
      "userId": "09190398267093723546"
     },
     "user_tz": 240
    },
    "id": "3TX1azuU9ti5",
    "outputId": "6e97564f-ec69-49fd-ded7-8dd5615228d1"
   },
   "outputs": [],
   "source": [
    "pip install fairlearn"
   ]
  },
  {
   "cell_type": "code",
   "execution_count": null,
   "metadata": {
    "colab": {
     "base_uri": "https://localhost:8080/"
    },
    "executionInfo": {
     "elapsed": 113937,
     "status": "ok",
     "timestamp": 1746545562201,
     "user": {
      "displayName": "Xingyu Gong",
      "userId": "09190398267093723546"
     },
     "user_tz": 240
    },
    "id": "gwymxBvNEqE0",
    "outputId": "e5b329e1-cd98-4b5a-939f-489b587578dd"
   },
   "outputs": [],
   "source": [
    "import pandas as pd\n",
    "import numpy as np\n",
    "from fairlearn.metrics import equalized_odds_difference\n",
    "from itertools import combinations\n",
    "from tabulate import tabulate\n",
    "\n",
    "# === Age binning ===\n",
    "def bin_age(df):\n",
    "    bin_edges = [0, 70, 80, 90, float('inf')]\n",
    "    labels = ['<70', '70-80', '80-90', '>90']\n",
    "    df['age_group'] = pd.cut(df['age'], bins=bin_edges, labels=labels, right=False)\n",
    "    return df\n",
    "\n",
    "# === Bootstrap EOD for two subgroups only ===\n",
    "def bootstrap_pairwise_eod(y_true, y_pred, sensitive_features, n_iterations=100):\n",
    "    eods = []\n",
    "    data = pd.DataFrame({'y_true': y_true, 'y_pred': y_pred, 'sensitive': sensitive_features})\n",
    "\n",
    "    for _ in range(n_iterations):\n",
    "        sample = data.sample(frac=1.0, replace=True)\n",
    "        try:\n",
    "            eod = equalized_odds_difference(sample['y_true'], sample['y_pred'], sensitive_features=sample['sensitive'])\n",
    "            eods.append(eod)\n",
    "        except:\n",
    "            continue\n",
    "\n",
    "    if len(eods) == 0:\n",
    "        return (np.nan, np.nan)\n",
    "\n",
    "    return (\n",
    "        np.nanpercentile(eods, 2.5),\n",
    "        np.nanpercentile(eods, 97.5)\n",
    "    )\n",
    "\n",
    "# === Apply age binning ===\n",
    "final_df = bin_age(final_df)\n",
    "\n",
    "# === Filter to test set only ===\n",
    "test_data = final_df[final_df['split'] == 'test']\n",
    "\n",
    "# === Demographic groups ===\n",
    "demographic_groups = ['age_group', 'gender', 'insurance_group', 'language_group',\n",
    "                      'race_group1', 'race_group2', 'race_group3', 'race_group4']\n",
    "\n",
    "# === Pairwise EOD comparisons on test set ===\n",
    "records = []\n",
    "\n",
    "for group in demographic_groups:\n",
    "    if group not in test_data.columns:\n",
    "        continue\n",
    "\n",
    "    group_values = test_data[group].dropna().unique()\n",
    "\n",
    "    for g1, g2 in combinations(group_values, 2):\n",
    "        pair_df = test_data[test_data[group].isin([g1, g2])]\n",
    "        if len(pair_df) < 20:\n",
    "            continue  # skip small pair\n",
    "\n",
    "        y_true = pair_df['case_status']\n",
    "        y_pred = pair_df['prediction']\n",
    "        sensitive_pair = pair_df[group]\n",
    "\n",
    "        # Compute bootstrapped EOD CI\n",
    "        eod_low, eod_high = bootstrap_pairwise_eod(y_true, y_pred, sensitive_pair)\n",
    "\n",
    "        records.append({\n",
    "            'Group': group,\n",
    "            'Subgroup 1': g1,\n",
    "            'Subgroup 2': g2,\n",
    "            'EOD (95% CI)': f\"{eod_low:.3f}–{eod_high:.3f}\",\n",
    "            'Sample Size': len(pair_df),\n",
    "            'Flag (EOD > 0.1)': '⚠️' if eod_low > 0.1 else ''\n",
    "        })\n",
    "\n",
    "# === Print nicely ===\n",
    "df_pairwise = pd.DataFrame(records)\n",
    "print(\"\\n=== Test Set Pairwise Equalized Odds Report ===\")\n",
    "print(tabulate(df_pairwise, headers=\"keys\", tablefmt=\"fancy_grid\", showindex=False))\n"
   ]
  },
  {
   "cell_type": "markdown",
   "metadata": {
    "id": "G2q1LLYF--Xj"
   },
   "source": [
    "## Check Equalized odds Violations -  group\n",
    "\n",
    "https://fairlearn.org/v0.7.0/api_reference/fairlearn.metrics.html\n",
    "\n",
    "fairlearn.metrics.equalized_odds_difference(y_true, y_pred, *, sensitive_features, method='between_groups', sample_weight=None)[source]\n",
    "Calculate the equalized odds difference.\n",
    "\n",
    "The greater of two metrics: true_positive_rate_difference and false_positive_rate_difference. The former is the difference between the largest and smallest of\n",
    ", across all values\n",
    " of the sensitive feature(s). The latter is defined similarly, but for\n",
    ". The equalized odds difference of 0 means that all groups have the same true positive, true negative, false positive, and false negative rates."
   ]
  },
  {
   "cell_type": "code",
   "execution_count": null,
   "metadata": {
    "colab": {
     "base_uri": "https://localhost:8080/"
    },
    "executionInfo": {
     "elapsed": 54840,
     "status": "ok",
     "timestamp": 1746545617040,
     "user": {
      "displayName": "Xingyu Gong",
      "userId": "09190398267093723546"
     },
     "user_tz": 240
    },
    "id": "dKhHpVIs5tiq",
    "outputId": "82aabb5c-ba11-4638-9fe8-217d81bc3a75"
   },
   "outputs": [],
   "source": [
    "import pandas as pd\n",
    "import numpy as np\n",
    "from fairlearn.metrics import equalized_odds_difference\n",
    "\n",
    "# === Age binning ===\n",
    "def bin_age(df):\n",
    "    bin_edges = [0, 70, 80, 90, float('inf')]\n",
    "    labels = ['<70', '70-80', '80-90', '>90']\n",
    "    df['age_group'] = pd.cut(df['age'], bins=bin_edges, labels=labels, right=False)\n",
    "    return df\n",
    "\n",
    "# === Bootstrap EOD CI only ===\n",
    "def bootstrap_eod(y_true, y_pred, sensitive_features, n_iterations=100):\n",
    "    eods = []\n",
    "    data = pd.DataFrame({'y_true': y_true, 'y_pred': y_pred, 'sensitive': sensitive_features})\n",
    "\n",
    "    for _ in range(n_iterations):\n",
    "        sample = data.sample(frac=1.0, replace=True)\n",
    "        try:\n",
    "            eod = equalized_odds_difference(sample['y_true'], sample['y_pred'], sensitive_features=sample['sensitive'])\n",
    "            eods.append(eod)\n",
    "        except:\n",
    "            continue\n",
    "\n",
    "    if len(eods) == 0:\n",
    "        return (np.nan, np.nan)\n",
    "\n",
    "    return (\n",
    "        np.nanpercentile(eods, 2.5),\n",
    "        np.nanpercentile(eods, 97.5)\n",
    "    )\n",
    "\n",
    "# === Apply age binning ===\n",
    "final_df = bin_age(final_df)\n",
    "\n",
    "# === Split data ===\n",
    "test_data = final_df[final_df['split'] == 'test']\n",
    "train_data = final_df[final_df['split'] == 'train']\n",
    "\n",
    "# === Demographic groups ===\n",
    "demographic_groups = ['age_group', 'gender', 'insurance_group', 'language_group',\n",
    "                      'race_group1', 'race_group2', 'race_group3', 'race_group4']\n",
    "\n",
    "# === Run analysis for Train and Test ===\n",
    "for data_split_name, data in zip(['Train', 'Test'], [train_data, test_data]):\n",
    "    records = []\n",
    "\n",
    "    for group in demographic_groups:\n",
    "        if group not in data.columns:\n",
    "            continue\n",
    "\n",
    "        sensitive = data[group]\n",
    "        valid = sensitive.notna()\n",
    "        y_true = data.loc[valid, 'case_status']\n",
    "        y_pred = data.loc[valid, 'prediction']\n",
    "        sensitive_group = sensitive[valid]\n",
    "\n",
    "        if len(sensitive_group.unique()) < 2:\n",
    "            continue  # skip if only one group value\n",
    "\n",
    "        # Compute EOD CI\n",
    "        eod_low, eod_high = bootstrap_eod(y_true, y_pred, sensitive_group)\n",
    "\n",
    "        records.append({\n",
    "            'Group': group,\n",
    "            'Equalized Odds Difference (95% CI)': f\"{eod_low:.3f}–{eod_high:.3f}\",\n",
    "            'Sample Size': len(sensitive_group),\n",
    "            'Flag (EOD > 0.1)': '⚠️' if eod_low > 0.1 else ''\n",
    "        })\n",
    "\n",
    "    # Create and display results\n",
    "    df_metrics = pd.DataFrame(records)\n",
    "    df_metrics.set_index('Group', inplace=True)\n",
    "\n",
    "    print(f\"\\n=== {data_split_name} Equalized Odds Report ===\")\n",
    "    print(df_metrics)\n"
   ]
  }
 ],
 "metadata": {
  "accelerator": "GPU",
  "colab": {
   "gpuType": "T4",
   "provenance": []
  },
  "kernelspec": {
   "display_name": "Python 3",
   "name": "python3"
  },
  "language_info": {
   "name": "python"
  },
  "widgets": {
   "application/vnd.jupyter.widget-state+json": {
    "04042ecb134040e0affd382022fb3cb7": {
     "model_module": "@jupyter-widgets/base",
     "model_module_version": "1.2.0",
     "model_name": "LayoutModel",
     "state": {
      "_model_module": "@jupyter-widgets/base",
      "_model_module_version": "1.2.0",
      "_model_name": "LayoutModel",
      "_view_count": null,
      "_view_module": "@jupyter-widgets/base",
      "_view_module_version": "1.2.0",
      "_view_name": "LayoutView",
      "align_content": null,
      "align_items": null,
      "align_self": null,
      "border": null,
      "bottom": null,
      "display": null,
      "flex": null,
      "flex_flow": null,
      "grid_area": null,
      "grid_auto_columns": null,
      "grid_auto_flow": null,
      "grid_auto_rows": null,
      "grid_column": null,
      "grid_gap": null,
      "grid_row": null,
      "grid_template_areas": null,
      "grid_template_columns": null,
      "grid_template_rows": null,
      "height": null,
      "justify_content": null,
      "justify_items": null,
      "left": null,
      "margin": null,
      "max_height": null,
      "max_width": null,
      "min_height": null,
      "min_width": null,
      "object_fit": null,
      "object_position": null,
      "order": null,
      "overflow": null,
      "overflow_x": null,
      "overflow_y": null,
      "padding": null,
      "right": null,
      "top": null,
      "visibility": null,
      "width": null
     }
    },
    "04d509bc755142b5a224a03eb3300c27": {
     "model_module": "@jupyter-widgets/controls",
     "model_module_version": "1.5.0",
     "model_name": "HTMLModel",
     "state": {
      "_dom_classes": [],
      "_model_module": "@jupyter-widgets/controls",
      "_model_module_version": "1.5.0",
      "_model_name": "HTMLModel",
      "_view_count": null,
      "_view_module": "@jupyter-widgets/controls",
      "_view_module_version": "1.5.0",
      "_view_name": "HTMLView",
      "description": "",
      "description_tooltip": null,
      "layout": "IPY_MODEL_cab5274e26d8455da85ea924d64b524a",
      "placeholder": "​",
      "style": "IPY_MODEL_881607f17ee447f8b04bf7d0dec82868",
      "value": "vocab.txt: 100%"
     }
    },
    "05b9eba2b44d4ef4a21151d0cab7e331": {
     "model_module": "@jupyter-widgets/controls",
     "model_module_version": "1.5.0",
     "model_name": "DescriptionStyleModel",
     "state": {
      "_model_module": "@jupyter-widgets/controls",
      "_model_module_version": "1.5.0",
      "_model_name": "DescriptionStyleModel",
      "_view_count": null,
      "_view_module": "@jupyter-widgets/base",
      "_view_module_version": "1.2.0",
      "_view_name": "StyleView",
      "description_width": ""
     }
    },
    "1fe03f66873b4f9ba5d8a699f5dd4c53": {
     "model_module": "@jupyter-widgets/base",
     "model_module_version": "1.2.0",
     "model_name": "LayoutModel",
     "state": {
      "_model_module": "@jupyter-widgets/base",
      "_model_module_version": "1.2.0",
      "_model_name": "LayoutModel",
      "_view_count": null,
      "_view_module": "@jupyter-widgets/base",
      "_view_module_version": "1.2.0",
      "_view_name": "LayoutView",
      "align_content": null,
      "align_items": null,
      "align_self": null,
      "border": null,
      "bottom": null,
      "display": null,
      "flex": null,
      "flex_flow": null,
      "grid_area": null,
      "grid_auto_columns": null,
      "grid_auto_flow": null,
      "grid_auto_rows": null,
      "grid_column": null,
      "grid_gap": null,
      "grid_row": null,
      "grid_template_areas": null,
      "grid_template_columns": null,
      "grid_template_rows": null,
      "height": null,
      "justify_content": null,
      "justify_items": null,
      "left": null,
      "margin": null,
      "max_height": null,
      "max_width": null,
      "min_height": null,
      "min_width": null,
      "object_fit": null,
      "object_position": null,
      "order": null,
      "overflow": null,
      "overflow_x": null,
      "overflow_y": null,
      "padding": null,
      "right": null,
      "top": null,
      "visibility": null,
      "width": null
     }
    },
    "2044ce9dd2184d6fae9d21b34b345161": {
     "model_module": "@jupyter-widgets/controls",
     "model_module_version": "1.5.0",
     "model_name": "FloatProgressModel",
     "state": {
      "_dom_classes": [],
      "_model_module": "@jupyter-widgets/controls",
      "_model_module_version": "1.5.0",
      "_model_name": "FloatProgressModel",
      "_view_count": null,
      "_view_module": "@jupyter-widgets/controls",
      "_view_module_version": "1.5.0",
      "_view_name": "ProgressView",
      "bar_style": "success",
      "description": "",
      "description_tooltip": null,
      "layout": "IPY_MODEL_bc5409152352416d99419c6bffa7a086",
      "max": 435778770,
      "min": 0,
      "orientation": "horizontal",
      "style": "IPY_MODEL_d2348bf4003847d390a66c8362dbd609",
      "value": 435778770
     }
    },
    "30832842cee34c9db105b11690a44135": {
     "model_module": "@jupyter-widgets/controls",
     "model_module_version": "1.5.0",
     "model_name": "ProgressStyleModel",
     "state": {
      "_model_module": "@jupyter-widgets/controls",
      "_model_module_version": "1.5.0",
      "_model_name": "ProgressStyleModel",
      "_view_count": null,
      "_view_module": "@jupyter-widgets/base",
      "_view_module_version": "1.2.0",
      "_view_name": "StyleView",
      "bar_color": null,
      "description_width": ""
     }
    },
    "3c3e265910804bfeb96bb3763f8d4b36": {
     "model_module": "@jupyter-widgets/controls",
     "model_module_version": "1.5.0",
     "model_name": "FloatProgressModel",
     "state": {
      "_dom_classes": [],
      "_model_module": "@jupyter-widgets/controls",
      "_model_module_version": "1.5.0",
      "_model_name": "FloatProgressModel",
      "_view_count": null,
      "_view_module": "@jupyter-widgets/controls",
      "_view_module_version": "1.5.0",
      "_view_name": "ProgressView",
      "bar_style": "success",
      "description": "",
      "description_tooltip": null,
      "layout": "IPY_MODEL_ace609c746264074b8b0fd54ee004e43",
      "max": 435755888,
      "min": 0,
      "orientation": "horizontal",
      "style": "IPY_MODEL_f71ab654115f44c5bdea620fbdd4b2cc",
      "value": 435755888
     }
    },
    "42d07ccf0b7349a89cd59daa591eb24a": {
     "model_module": "@jupyter-widgets/base",
     "model_module_version": "1.2.0",
     "model_name": "LayoutModel",
     "state": {
      "_model_module": "@jupyter-widgets/base",
      "_model_module_version": "1.2.0",
      "_model_name": "LayoutModel",
      "_view_count": null,
      "_view_module": "@jupyter-widgets/base",
      "_view_module_version": "1.2.0",
      "_view_name": "LayoutView",
      "align_content": null,
      "align_items": null,
      "align_self": null,
      "border": null,
      "bottom": null,
      "display": null,
      "flex": null,
      "flex_flow": null,
      "grid_area": null,
      "grid_auto_columns": null,
      "grid_auto_flow": null,
      "grid_auto_rows": null,
      "grid_column": null,
      "grid_gap": null,
      "grid_row": null,
      "grid_template_areas": null,
      "grid_template_columns": null,
      "grid_template_rows": null,
      "height": null,
      "justify_content": null,
      "justify_items": null,
      "left": null,
      "margin": null,
      "max_height": null,
      "max_width": null,
      "min_height": null,
      "min_width": null,
      "object_fit": null,
      "object_position": null,
      "order": null,
      "overflow": null,
      "overflow_x": null,
      "overflow_y": null,
      "padding": null,
      "right": null,
      "top": null,
      "visibility": null,
      "width": null
     }
    },
    "4542923b2e924157a4f6fa23e6de9821": {
     "model_module": "@jupyter-widgets/controls",
     "model_module_version": "1.5.0",
     "model_name": "FloatProgressModel",
     "state": {
      "_dom_classes": [],
      "_model_module": "@jupyter-widgets/controls",
      "_model_module_version": "1.5.0",
      "_model_name": "FloatProgressModel",
      "_view_count": null,
      "_view_module": "@jupyter-widgets/controls",
      "_view_module_version": "1.5.0",
      "_view_name": "ProgressView",
      "bar_style": "success",
      "description": "",
      "description_tooltip": null,
      "layout": "IPY_MODEL_04042ecb134040e0affd382022fb3cb7",
      "max": 213450,
      "min": 0,
      "orientation": "horizontal",
      "style": "IPY_MODEL_30832842cee34c9db105b11690a44135",
      "value": 213450
     }
    },
    "45be908bd082443090d255179a678796": {
     "model_module": "@jupyter-widgets/controls",
     "model_module_version": "1.5.0",
     "model_name": "HBoxModel",
     "state": {
      "_dom_classes": [],
      "_model_module": "@jupyter-widgets/controls",
      "_model_module_version": "1.5.0",
      "_model_name": "HBoxModel",
      "_view_count": null,
      "_view_module": "@jupyter-widgets/controls",
      "_view_module_version": "1.5.0",
      "_view_name": "HBoxView",
      "box_style": "",
      "children": [
       "IPY_MODEL_bb7460456a604059b6b40a5ce5a1ed9c",
       "IPY_MODEL_3c3e265910804bfeb96bb3763f8d4b36",
       "IPY_MODEL_eda6a90a1aca440d934cde86995fbe8c"
      ],
      "layout": "IPY_MODEL_42d07ccf0b7349a89cd59daa591eb24a"
     }
    },
    "463e1d173f324469bdbec08c0afac43f": {
     "model_module": "@jupyter-widgets/controls",
     "model_module_version": "1.5.0",
     "model_name": "HBoxModel",
     "state": {
      "_dom_classes": [],
      "_model_module": "@jupyter-widgets/controls",
      "_model_module_version": "1.5.0",
      "_model_name": "HBoxModel",
      "_view_count": null,
      "_view_module": "@jupyter-widgets/controls",
      "_view_module_version": "1.5.0",
      "_view_name": "HBoxView",
      "box_style": "",
      "children": [
       "IPY_MODEL_badbecac55194959a14269d086d32184",
       "IPY_MODEL_c80197316db045ebbeb4a82281106a5e",
       "IPY_MODEL_d2fce2ff356644739da43e514fd8fb34"
      ],
      "layout": "IPY_MODEL_4a4846408cc54b609947fe4f810b7577"
     }
    },
    "4a4846408cc54b609947fe4f810b7577": {
     "model_module": "@jupyter-widgets/base",
     "model_module_version": "1.2.0",
     "model_name": "LayoutModel",
     "state": {
      "_model_module": "@jupyter-widgets/base",
      "_model_module_version": "1.2.0",
      "_model_name": "LayoutModel",
      "_view_count": null,
      "_view_module": "@jupyter-widgets/base",
      "_view_module_version": "1.2.0",
      "_view_name": "LayoutView",
      "align_content": null,
      "align_items": null,
      "align_self": null,
      "border": null,
      "bottom": null,
      "display": null,
      "flex": null,
      "flex_flow": null,
      "grid_area": null,
      "grid_auto_columns": null,
      "grid_auto_flow": null,
      "grid_auto_rows": null,
      "grid_column": null,
      "grid_gap": null,
      "grid_row": null,
      "grid_template_areas": null,
      "grid_template_columns": null,
      "grid_template_rows": null,
      "height": null,
      "justify_content": null,
      "justify_items": null,
      "left": null,
      "margin": null,
      "max_height": null,
      "max_width": null,
      "min_height": null,
      "min_width": null,
      "object_fit": null,
      "object_position": null,
      "order": null,
      "overflow": null,
      "overflow_x": null,
      "overflow_y": null,
      "padding": null,
      "right": null,
      "top": null,
      "visibility": null,
      "width": null
     }
    },
    "5462efb10cb64ab98679d10ba68691c7": {
     "model_module": "@jupyter-widgets/controls",
     "model_module_version": "1.5.0",
     "model_name": "DescriptionStyleModel",
     "state": {
      "_model_module": "@jupyter-widgets/controls",
      "_model_module_version": "1.5.0",
      "_model_name": "DescriptionStyleModel",
      "_view_count": null,
      "_view_module": "@jupyter-widgets/base",
      "_view_module_version": "1.2.0",
      "_view_name": "StyleView",
      "description_width": ""
     }
    },
    "58459a649626421b83319e85da54808e": {
     "model_module": "@jupyter-widgets/controls",
     "model_module_version": "1.5.0",
     "model_name": "HBoxModel",
     "state": {
      "_dom_classes": [],
      "_model_module": "@jupyter-widgets/controls",
      "_model_module_version": "1.5.0",
      "_model_name": "HBoxModel",
      "_view_count": null,
      "_view_module": "@jupyter-widgets/controls",
      "_view_module_version": "1.5.0",
      "_view_name": "HBoxView",
      "box_style": "",
      "children": [
       "IPY_MODEL_9cf2b6e95a094aa4901244b99841ab23",
       "IPY_MODEL_2044ce9dd2184d6fae9d21b34b345161",
       "IPY_MODEL_ce9a703411cc4fb98bbdbbc00ab0a2e8"
      ],
      "layout": "IPY_MODEL_97829925f96b4492828feb6beddb5a7b"
     }
    },
    "5ba30eb62a534937ba5458f0ab09ddb3": {
     "model_module": "@jupyter-widgets/controls",
     "model_module_version": "1.5.0",
     "model_name": "HTMLModel",
     "state": {
      "_dom_classes": [],
      "_model_module": "@jupyter-widgets/controls",
      "_model_module_version": "1.5.0",
      "_model_name": "HTMLModel",
      "_view_count": null,
      "_view_module": "@jupyter-widgets/controls",
      "_view_module_version": "1.5.0",
      "_view_name": "HTMLView",
      "description": "",
      "description_tooltip": null,
      "layout": "IPY_MODEL_1fe03f66873b4f9ba5d8a699f5dd4c53",
      "placeholder": "​",
      "style": "IPY_MODEL_a2c244d4df1441e38286201ecfa59ade",
      "value": " 213k/213k [00:00&lt;00:00, 2.90MB/s]"
     }
    },
    "6229446d736a4537abeabfe79d1a9d3c": {
     "model_module": "@jupyter-widgets/controls",
     "model_module_version": "1.5.0",
     "model_name": "DescriptionStyleModel",
     "state": {
      "_model_module": "@jupyter-widgets/controls",
      "_model_module_version": "1.5.0",
      "_model_name": "DescriptionStyleModel",
      "_view_count": null,
      "_view_module": "@jupyter-widgets/base",
      "_view_module_version": "1.2.0",
      "_view_name": "StyleView",
      "description_width": ""
     }
    },
    "65f300020fa341e7b46996551be285ff": {
     "model_module": "@jupyter-widgets/controls",
     "model_module_version": "1.5.0",
     "model_name": "DescriptionStyleModel",
     "state": {
      "_model_module": "@jupyter-widgets/controls",
      "_model_module_version": "1.5.0",
      "_model_name": "DescriptionStyleModel",
      "_view_count": null,
      "_view_module": "@jupyter-widgets/base",
      "_view_module_version": "1.2.0",
      "_view_name": "StyleView",
      "description_width": ""
     }
    },
    "881607f17ee447f8b04bf7d0dec82868": {
     "model_module": "@jupyter-widgets/controls",
     "model_module_version": "1.5.0",
     "model_name": "DescriptionStyleModel",
     "state": {
      "_model_module": "@jupyter-widgets/controls",
      "_model_module_version": "1.5.0",
      "_model_name": "DescriptionStyleModel",
      "_view_count": null,
      "_view_module": "@jupyter-widgets/base",
      "_view_module_version": "1.2.0",
      "_view_name": "StyleView",
      "description_width": ""
     }
    },
    "8951c51a95324c40b873bc846845ee02": {
     "model_module": "@jupyter-widgets/controls",
     "model_module_version": "1.5.0",
     "model_name": "HBoxModel",
     "state": {
      "_dom_classes": [],
      "_model_module": "@jupyter-widgets/controls",
      "_model_module_version": "1.5.0",
      "_model_name": "HBoxModel",
      "_view_count": null,
      "_view_module": "@jupyter-widgets/controls",
      "_view_module_version": "1.5.0",
      "_view_name": "HBoxView",
      "box_style": "",
      "children": [
       "IPY_MODEL_04d509bc755142b5a224a03eb3300c27",
       "IPY_MODEL_4542923b2e924157a4f6fa23e6de9821",
       "IPY_MODEL_5ba30eb62a534937ba5458f0ab09ddb3"
      ],
      "layout": "IPY_MODEL_c552c253e24844ebb2aef1ef950cd653"
     }
    },
    "8f154cf2a99f44e3bb5052c7a5b93e8c": {
     "model_module": "@jupyter-widgets/base",
     "model_module_version": "1.2.0",
     "model_name": "LayoutModel",
     "state": {
      "_model_module": "@jupyter-widgets/base",
      "_model_module_version": "1.2.0",
      "_model_name": "LayoutModel",
      "_view_count": null,
      "_view_module": "@jupyter-widgets/base",
      "_view_module_version": "1.2.0",
      "_view_name": "LayoutView",
      "align_content": null,
      "align_items": null,
      "align_self": null,
      "border": null,
      "bottom": null,
      "display": null,
      "flex": null,
      "flex_flow": null,
      "grid_area": null,
      "grid_auto_columns": null,
      "grid_auto_flow": null,
      "grid_auto_rows": null,
      "grid_column": null,
      "grid_gap": null,
      "grid_row": null,
      "grid_template_areas": null,
      "grid_template_columns": null,
      "grid_template_rows": null,
      "height": null,
      "justify_content": null,
      "justify_items": null,
      "left": null,
      "margin": null,
      "max_height": null,
      "max_width": null,
      "min_height": null,
      "min_width": null,
      "object_fit": null,
      "object_position": null,
      "order": null,
      "overflow": null,
      "overflow_x": null,
      "overflow_y": null,
      "padding": null,
      "right": null,
      "top": null,
      "visibility": null,
      "width": null
     }
    },
    "94ce9f298bc846fe9f2401aa000691ae": {
     "model_module": "@jupyter-widgets/base",
     "model_module_version": "1.2.0",
     "model_name": "LayoutModel",
     "state": {
      "_model_module": "@jupyter-widgets/base",
      "_model_module_version": "1.2.0",
      "_model_name": "LayoutModel",
      "_view_count": null,
      "_view_module": "@jupyter-widgets/base",
      "_view_module_version": "1.2.0",
      "_view_name": "LayoutView",
      "align_content": null,
      "align_items": null,
      "align_self": null,
      "border": null,
      "bottom": null,
      "display": null,
      "flex": null,
      "flex_flow": null,
      "grid_area": null,
      "grid_auto_columns": null,
      "grid_auto_flow": null,
      "grid_auto_rows": null,
      "grid_column": null,
      "grid_gap": null,
      "grid_row": null,
      "grid_template_areas": null,
      "grid_template_columns": null,
      "grid_template_rows": null,
      "height": null,
      "justify_content": null,
      "justify_items": null,
      "left": null,
      "margin": null,
      "max_height": null,
      "max_width": null,
      "min_height": null,
      "min_width": null,
      "object_fit": null,
      "object_position": null,
      "order": null,
      "overflow": null,
      "overflow_x": null,
      "overflow_y": null,
      "padding": null,
      "right": null,
      "top": null,
      "visibility": null,
      "width": null
     }
    },
    "97829925f96b4492828feb6beddb5a7b": {
     "model_module": "@jupyter-widgets/base",
     "model_module_version": "1.2.0",
     "model_name": "LayoutModel",
     "state": {
      "_model_module": "@jupyter-widgets/base",
      "_model_module_version": "1.2.0",
      "_model_name": "LayoutModel",
      "_view_count": null,
      "_view_module": "@jupyter-widgets/base",
      "_view_module_version": "1.2.0",
      "_view_name": "LayoutView",
      "align_content": null,
      "align_items": null,
      "align_self": null,
      "border": null,
      "bottom": null,
      "display": null,
      "flex": null,
      "flex_flow": null,
      "grid_area": null,
      "grid_auto_columns": null,
      "grid_auto_flow": null,
      "grid_auto_rows": null,
      "grid_column": null,
      "grid_gap": null,
      "grid_row": null,
      "grid_template_areas": null,
      "grid_template_columns": null,
      "grid_template_rows": null,
      "height": null,
      "justify_content": null,
      "justify_items": null,
      "left": null,
      "margin": null,
      "max_height": null,
      "max_width": null,
      "min_height": null,
      "min_width": null,
      "object_fit": null,
      "object_position": null,
      "order": null,
      "overflow": null,
      "overflow_x": null,
      "overflow_y": null,
      "padding": null,
      "right": null,
      "top": null,
      "visibility": null,
      "width": null
     }
    },
    "97a9a379f9bb4c6b9a3528a8f9714f36": {
     "model_module": "@jupyter-widgets/base",
     "model_module_version": "1.2.0",
     "model_name": "LayoutModel",
     "state": {
      "_model_module": "@jupyter-widgets/base",
      "_model_module_version": "1.2.0",
      "_model_name": "LayoutModel",
      "_view_count": null,
      "_view_module": "@jupyter-widgets/base",
      "_view_module_version": "1.2.0",
      "_view_name": "LayoutView",
      "align_content": null,
      "align_items": null,
      "align_self": null,
      "border": null,
      "bottom": null,
      "display": null,
      "flex": null,
      "flex_flow": null,
      "grid_area": null,
      "grid_auto_columns": null,
      "grid_auto_flow": null,
      "grid_auto_rows": null,
      "grid_column": null,
      "grid_gap": null,
      "grid_row": null,
      "grid_template_areas": null,
      "grid_template_columns": null,
      "grid_template_rows": null,
      "height": null,
      "justify_content": null,
      "justify_items": null,
      "left": null,
      "margin": null,
      "max_height": null,
      "max_width": null,
      "min_height": null,
      "min_width": null,
      "object_fit": null,
      "object_position": null,
      "order": null,
      "overflow": null,
      "overflow_x": null,
      "overflow_y": null,
      "padding": null,
      "right": null,
      "top": null,
      "visibility": null,
      "width": null
     }
    },
    "9cf2b6e95a094aa4901244b99841ab23": {
     "model_module": "@jupyter-widgets/controls",
     "model_module_version": "1.5.0",
     "model_name": "HTMLModel",
     "state": {
      "_dom_classes": [],
      "_model_module": "@jupyter-widgets/controls",
      "_model_module_version": "1.5.0",
      "_model_name": "HTMLModel",
      "_view_count": null,
      "_view_module": "@jupyter-widgets/controls",
      "_view_module_version": "1.5.0",
      "_view_name": "HTMLView",
      "description": "",
      "description_tooltip": null,
      "layout": "IPY_MODEL_8f154cf2a99f44e3bb5052c7a5b93e8c",
      "placeholder": "​",
      "style": "IPY_MODEL_cc6d060710f943d5a9ebc3a16cb5b5a3",
      "value": "pytorch_model.bin: 100%"
     }
    },
    "a2c244d4df1441e38286201ecfa59ade": {
     "model_module": "@jupyter-widgets/controls",
     "model_module_version": "1.5.0",
     "model_name": "DescriptionStyleModel",
     "state": {
      "_model_module": "@jupyter-widgets/controls",
      "_model_module_version": "1.5.0",
      "_model_name": "DescriptionStyleModel",
      "_view_count": null,
      "_view_module": "@jupyter-widgets/base",
      "_view_module_version": "1.2.0",
      "_view_name": "StyleView",
      "description_width": ""
     }
    },
    "a38347bd66094c65a0cf84bcc4a62c57": {
     "model_module": "@jupyter-widgets/base",
     "model_module_version": "1.2.0",
     "model_name": "LayoutModel",
     "state": {
      "_model_module": "@jupyter-widgets/base",
      "_model_module_version": "1.2.0",
      "_model_name": "LayoutModel",
      "_view_count": null,
      "_view_module": "@jupyter-widgets/base",
      "_view_module_version": "1.2.0",
      "_view_name": "LayoutView",
      "align_content": null,
      "align_items": null,
      "align_self": null,
      "border": null,
      "bottom": null,
      "display": null,
      "flex": null,
      "flex_flow": null,
      "grid_area": null,
      "grid_auto_columns": null,
      "grid_auto_flow": null,
      "grid_auto_rows": null,
      "grid_column": null,
      "grid_gap": null,
      "grid_row": null,
      "grid_template_areas": null,
      "grid_template_columns": null,
      "grid_template_rows": null,
      "height": null,
      "justify_content": null,
      "justify_items": null,
      "left": null,
      "margin": null,
      "max_height": null,
      "max_width": null,
      "min_height": null,
      "min_width": null,
      "object_fit": null,
      "object_position": null,
      "order": null,
      "overflow": null,
      "overflow_x": null,
      "overflow_y": null,
      "padding": null,
      "right": null,
      "top": null,
      "visibility": null,
      "width": null
     }
    },
    "ace609c746264074b8b0fd54ee004e43": {
     "model_module": "@jupyter-widgets/base",
     "model_module_version": "1.2.0",
     "model_name": "LayoutModel",
     "state": {
      "_model_module": "@jupyter-widgets/base",
      "_model_module_version": "1.2.0",
      "_model_name": "LayoutModel",
      "_view_count": null,
      "_view_module": "@jupyter-widgets/base",
      "_view_module_version": "1.2.0",
      "_view_name": "LayoutView",
      "align_content": null,
      "align_items": null,
      "align_self": null,
      "border": null,
      "bottom": null,
      "display": null,
      "flex": null,
      "flex_flow": null,
      "grid_area": null,
      "grid_auto_columns": null,
      "grid_auto_flow": null,
      "grid_auto_rows": null,
      "grid_column": null,
      "grid_gap": null,
      "grid_row": null,
      "grid_template_areas": null,
      "grid_template_columns": null,
      "grid_template_rows": null,
      "height": null,
      "justify_content": null,
      "justify_items": null,
      "left": null,
      "margin": null,
      "max_height": null,
      "max_width": null,
      "min_height": null,
      "min_width": null,
      "object_fit": null,
      "object_position": null,
      "order": null,
      "overflow": null,
      "overflow_x": null,
      "overflow_y": null,
      "padding": null,
      "right": null,
      "top": null,
      "visibility": null,
      "width": null
     }
    },
    "badbecac55194959a14269d086d32184": {
     "model_module": "@jupyter-widgets/controls",
     "model_module_version": "1.5.0",
     "model_name": "HTMLModel",
     "state": {
      "_dom_classes": [],
      "_model_module": "@jupyter-widgets/controls",
      "_model_module_version": "1.5.0",
      "_model_name": "HTMLModel",
      "_view_count": null,
      "_view_module": "@jupyter-widgets/controls",
      "_view_module_version": "1.5.0",
      "_view_name": "HTMLView",
      "description": "",
      "description_tooltip": null,
      "layout": "IPY_MODEL_becb522c4e5741f3ae553c59d20777c2",
      "placeholder": "​",
      "style": "IPY_MODEL_65f300020fa341e7b46996551be285ff",
      "value": "config.json: 100%"
     }
    },
    "bb7460456a604059b6b40a5ce5a1ed9c": {
     "model_module": "@jupyter-widgets/controls",
     "model_module_version": "1.5.0",
     "model_name": "HTMLModel",
     "state": {
      "_dom_classes": [],
      "_model_module": "@jupyter-widgets/controls",
      "_model_module_version": "1.5.0",
      "_model_name": "HTMLModel",
      "_view_count": null,
      "_view_module": "@jupyter-widgets/controls",
      "_view_module_version": "1.5.0",
      "_view_name": "HTMLView",
      "description": "",
      "description_tooltip": null,
      "layout": "IPY_MODEL_94ce9f298bc846fe9f2401aa000691ae",
      "placeholder": "​",
      "style": "IPY_MODEL_05b9eba2b44d4ef4a21151d0cab7e331",
      "value": "model.safetensors: 100%"
     }
    },
    "bc5409152352416d99419c6bffa7a086": {
     "model_module": "@jupyter-widgets/base",
     "model_module_version": "1.2.0",
     "model_name": "LayoutModel",
     "state": {
      "_model_module": "@jupyter-widgets/base",
      "_model_module_version": "1.2.0",
      "_model_name": "LayoutModel",
      "_view_count": null,
      "_view_module": "@jupyter-widgets/base",
      "_view_module_version": "1.2.0",
      "_view_name": "LayoutView",
      "align_content": null,
      "align_items": null,
      "align_self": null,
      "border": null,
      "bottom": null,
      "display": null,
      "flex": null,
      "flex_flow": null,
      "grid_area": null,
      "grid_auto_columns": null,
      "grid_auto_flow": null,
      "grid_auto_rows": null,
      "grid_column": null,
      "grid_gap": null,
      "grid_row": null,
      "grid_template_areas": null,
      "grid_template_columns": null,
      "grid_template_rows": null,
      "height": null,
      "justify_content": null,
      "justify_items": null,
      "left": null,
      "margin": null,
      "max_height": null,
      "max_width": null,
      "min_height": null,
      "min_width": null,
      "object_fit": null,
      "object_position": null,
      "order": null,
      "overflow": null,
      "overflow_x": null,
      "overflow_y": null,
      "padding": null,
      "right": null,
      "top": null,
      "visibility": null,
      "width": null
     }
    },
    "becb522c4e5741f3ae553c59d20777c2": {
     "model_module": "@jupyter-widgets/base",
     "model_module_version": "1.2.0",
     "model_name": "LayoutModel",
     "state": {
      "_model_module": "@jupyter-widgets/base",
      "_model_module_version": "1.2.0",
      "_model_name": "LayoutModel",
      "_view_count": null,
      "_view_module": "@jupyter-widgets/base",
      "_view_module_version": "1.2.0",
      "_view_name": "LayoutView",
      "align_content": null,
      "align_items": null,
      "align_self": null,
      "border": null,
      "bottom": null,
      "display": null,
      "flex": null,
      "flex_flow": null,
      "grid_area": null,
      "grid_auto_columns": null,
      "grid_auto_flow": null,
      "grid_auto_rows": null,
      "grid_column": null,
      "grid_gap": null,
      "grid_row": null,
      "grid_template_areas": null,
      "grid_template_columns": null,
      "grid_template_rows": null,
      "height": null,
      "justify_content": null,
      "justify_items": null,
      "left": null,
      "margin": null,
      "max_height": null,
      "max_width": null,
      "min_height": null,
      "min_width": null,
      "object_fit": null,
      "object_position": null,
      "order": null,
      "overflow": null,
      "overflow_x": null,
      "overflow_y": null,
      "padding": null,
      "right": null,
      "top": null,
      "visibility": null,
      "width": null
     }
    },
    "c37b98e044604140a9fa8a0ecf845815": {
     "model_module": "@jupyter-widgets/base",
     "model_module_version": "1.2.0",
     "model_name": "LayoutModel",
     "state": {
      "_model_module": "@jupyter-widgets/base",
      "_model_module_version": "1.2.0",
      "_model_name": "LayoutModel",
      "_view_count": null,
      "_view_module": "@jupyter-widgets/base",
      "_view_module_version": "1.2.0",
      "_view_name": "LayoutView",
      "align_content": null,
      "align_items": null,
      "align_self": null,
      "border": null,
      "bottom": null,
      "display": null,
      "flex": null,
      "flex_flow": null,
      "grid_area": null,
      "grid_auto_columns": null,
      "grid_auto_flow": null,
      "grid_auto_rows": null,
      "grid_column": null,
      "grid_gap": null,
      "grid_row": null,
      "grid_template_areas": null,
      "grid_template_columns": null,
      "grid_template_rows": null,
      "height": null,
      "justify_content": null,
      "justify_items": null,
      "left": null,
      "margin": null,
      "max_height": null,
      "max_width": null,
      "min_height": null,
      "min_width": null,
      "object_fit": null,
      "object_position": null,
      "order": null,
      "overflow": null,
      "overflow_x": null,
      "overflow_y": null,
      "padding": null,
      "right": null,
      "top": null,
      "visibility": null,
      "width": null
     }
    },
    "c552c253e24844ebb2aef1ef950cd653": {
     "model_module": "@jupyter-widgets/base",
     "model_module_version": "1.2.0",
     "model_name": "LayoutModel",
     "state": {
      "_model_module": "@jupyter-widgets/base",
      "_model_module_version": "1.2.0",
      "_model_name": "LayoutModel",
      "_view_count": null,
      "_view_module": "@jupyter-widgets/base",
      "_view_module_version": "1.2.0",
      "_view_name": "LayoutView",
      "align_content": null,
      "align_items": null,
      "align_self": null,
      "border": null,
      "bottom": null,
      "display": null,
      "flex": null,
      "flex_flow": null,
      "grid_area": null,
      "grid_auto_columns": null,
      "grid_auto_flow": null,
      "grid_auto_rows": null,
      "grid_column": null,
      "grid_gap": null,
      "grid_row": null,
      "grid_template_areas": null,
      "grid_template_columns": null,
      "grid_template_rows": null,
      "height": null,
      "justify_content": null,
      "justify_items": null,
      "left": null,
      "margin": null,
      "max_height": null,
      "max_width": null,
      "min_height": null,
      "min_width": null,
      "object_fit": null,
      "object_position": null,
      "order": null,
      "overflow": null,
      "overflow_x": null,
      "overflow_y": null,
      "padding": null,
      "right": null,
      "top": null,
      "visibility": null,
      "width": null
     }
    },
    "c80197316db045ebbeb4a82281106a5e": {
     "model_module": "@jupyter-widgets/controls",
     "model_module_version": "1.5.0",
     "model_name": "FloatProgressModel",
     "state": {
      "_dom_classes": [],
      "_model_module": "@jupyter-widgets/controls",
      "_model_module_version": "1.5.0",
      "_model_name": "FloatProgressModel",
      "_view_count": null,
      "_view_module": "@jupyter-widgets/controls",
      "_view_module_version": "1.5.0",
      "_view_name": "ProgressView",
      "bar_style": "success",
      "description": "",
      "description_tooltip": null,
      "layout": "IPY_MODEL_a38347bd66094c65a0cf84bcc4a62c57",
      "max": 385,
      "min": 0,
      "orientation": "horizontal",
      "style": "IPY_MODEL_ee4db5a0d25f4c84861d03856f1de023",
      "value": 385
     }
    },
    "cab5274e26d8455da85ea924d64b524a": {
     "model_module": "@jupyter-widgets/base",
     "model_module_version": "1.2.0",
     "model_name": "LayoutModel",
     "state": {
      "_model_module": "@jupyter-widgets/base",
      "_model_module_version": "1.2.0",
      "_model_name": "LayoutModel",
      "_view_count": null,
      "_view_module": "@jupyter-widgets/base",
      "_view_module_version": "1.2.0",
      "_view_name": "LayoutView",
      "align_content": null,
      "align_items": null,
      "align_self": null,
      "border": null,
      "bottom": null,
      "display": null,
      "flex": null,
      "flex_flow": null,
      "grid_area": null,
      "grid_auto_columns": null,
      "grid_auto_flow": null,
      "grid_auto_rows": null,
      "grid_column": null,
      "grid_gap": null,
      "grid_row": null,
      "grid_template_areas": null,
      "grid_template_columns": null,
      "grid_template_rows": null,
      "height": null,
      "justify_content": null,
      "justify_items": null,
      "left": null,
      "margin": null,
      "max_height": null,
      "max_width": null,
      "min_height": null,
      "min_width": null,
      "object_fit": null,
      "object_position": null,
      "order": null,
      "overflow": null,
      "overflow_x": null,
      "overflow_y": null,
      "padding": null,
      "right": null,
      "top": null,
      "visibility": null,
      "width": null
     }
    },
    "cc6d060710f943d5a9ebc3a16cb5b5a3": {
     "model_module": "@jupyter-widgets/controls",
     "model_module_version": "1.5.0",
     "model_name": "DescriptionStyleModel",
     "state": {
      "_model_module": "@jupyter-widgets/controls",
      "_model_module_version": "1.5.0",
      "_model_name": "DescriptionStyleModel",
      "_view_count": null,
      "_view_module": "@jupyter-widgets/base",
      "_view_module_version": "1.2.0",
      "_view_name": "StyleView",
      "description_width": ""
     }
    },
    "ce9a703411cc4fb98bbdbbc00ab0a2e8": {
     "model_module": "@jupyter-widgets/controls",
     "model_module_version": "1.5.0",
     "model_name": "HTMLModel",
     "state": {
      "_dom_classes": [],
      "_model_module": "@jupyter-widgets/controls",
      "_model_module_version": "1.5.0",
      "_model_name": "HTMLModel",
      "_view_count": null,
      "_view_module": "@jupyter-widgets/controls",
      "_view_module_version": "1.5.0",
      "_view_name": "HTMLView",
      "description": "",
      "description_tooltip": null,
      "layout": "IPY_MODEL_97a9a379f9bb4c6b9a3528a8f9714f36",
      "placeholder": "​",
      "style": "IPY_MODEL_6229446d736a4537abeabfe79d1a9d3c",
      "value": " 436M/436M [00:01&lt;00:00, 226MB/s]"
     }
    },
    "d2348bf4003847d390a66c8362dbd609": {
     "model_module": "@jupyter-widgets/controls",
     "model_module_version": "1.5.0",
     "model_name": "ProgressStyleModel",
     "state": {
      "_model_module": "@jupyter-widgets/controls",
      "_model_module_version": "1.5.0",
      "_model_name": "ProgressStyleModel",
      "_view_count": null,
      "_view_module": "@jupyter-widgets/base",
      "_view_module_version": "1.2.0",
      "_view_name": "StyleView",
      "bar_color": null,
      "description_width": ""
     }
    },
    "d2fce2ff356644739da43e514fd8fb34": {
     "model_module": "@jupyter-widgets/controls",
     "model_module_version": "1.5.0",
     "model_name": "HTMLModel",
     "state": {
      "_dom_classes": [],
      "_model_module": "@jupyter-widgets/controls",
      "_model_module_version": "1.5.0",
      "_model_name": "HTMLModel",
      "_view_count": null,
      "_view_module": "@jupyter-widgets/controls",
      "_view_module_version": "1.5.0",
      "_view_name": "HTMLView",
      "description": "",
      "description_tooltip": null,
      "layout": "IPY_MODEL_ed08afa681fc4abf80578503c6b99247",
      "placeholder": "​",
      "style": "IPY_MODEL_5462efb10cb64ab98679d10ba68691c7",
      "value": " 385/385 [00:00&lt;00:00, 26.1kB/s]"
     }
    },
    "ed08afa681fc4abf80578503c6b99247": {
     "model_module": "@jupyter-widgets/base",
     "model_module_version": "1.2.0",
     "model_name": "LayoutModel",
     "state": {
      "_model_module": "@jupyter-widgets/base",
      "_model_module_version": "1.2.0",
      "_model_name": "LayoutModel",
      "_view_count": null,
      "_view_module": "@jupyter-widgets/base",
      "_view_module_version": "1.2.0",
      "_view_name": "LayoutView",
      "align_content": null,
      "align_items": null,
      "align_self": null,
      "border": null,
      "bottom": null,
      "display": null,
      "flex": null,
      "flex_flow": null,
      "grid_area": null,
      "grid_auto_columns": null,
      "grid_auto_flow": null,
      "grid_auto_rows": null,
      "grid_column": null,
      "grid_gap": null,
      "grid_row": null,
      "grid_template_areas": null,
      "grid_template_columns": null,
      "grid_template_rows": null,
      "height": null,
      "justify_content": null,
      "justify_items": null,
      "left": null,
      "margin": null,
      "max_height": null,
      "max_width": null,
      "min_height": null,
      "min_width": null,
      "object_fit": null,
      "object_position": null,
      "order": null,
      "overflow": null,
      "overflow_x": null,
      "overflow_y": null,
      "padding": null,
      "right": null,
      "top": null,
      "visibility": null,
      "width": null
     }
    },
    "eda6a90a1aca440d934cde86995fbe8c": {
     "model_module": "@jupyter-widgets/controls",
     "model_module_version": "1.5.0",
     "model_name": "HTMLModel",
     "state": {
      "_dom_classes": [],
      "_model_module": "@jupyter-widgets/controls",
      "_model_module_version": "1.5.0",
      "_model_name": "HTMLModel",
      "_view_count": null,
      "_view_module": "@jupyter-widgets/controls",
      "_view_module_version": "1.5.0",
      "_view_name": "HTMLView",
      "description": "",
      "description_tooltip": null,
      "layout": "IPY_MODEL_c37b98e044604140a9fa8a0ecf845815",
      "placeholder": "​",
      "style": "IPY_MODEL_f0c55c49cc9942b89e8ae13a1678833d",
      "value": " 436M/436M [00:02&lt;00:00, 209MB/s]"
     }
    },
    "ee4db5a0d25f4c84861d03856f1de023": {
     "model_module": "@jupyter-widgets/controls",
     "model_module_version": "1.5.0",
     "model_name": "ProgressStyleModel",
     "state": {
      "_model_module": "@jupyter-widgets/controls",
      "_model_module_version": "1.5.0",
      "_model_name": "ProgressStyleModel",
      "_view_count": null,
      "_view_module": "@jupyter-widgets/base",
      "_view_module_version": "1.2.0",
      "_view_name": "StyleView",
      "bar_color": null,
      "description_width": ""
     }
    },
    "f0c55c49cc9942b89e8ae13a1678833d": {
     "model_module": "@jupyter-widgets/controls",
     "model_module_version": "1.5.0",
     "model_name": "DescriptionStyleModel",
     "state": {
      "_model_module": "@jupyter-widgets/controls",
      "_model_module_version": "1.5.0",
      "_model_name": "DescriptionStyleModel",
      "_view_count": null,
      "_view_module": "@jupyter-widgets/base",
      "_view_module_version": "1.2.0",
      "_view_name": "StyleView",
      "description_width": ""
     }
    },
    "f71ab654115f44c5bdea620fbdd4b2cc": {
     "model_module": "@jupyter-widgets/controls",
     "model_module_version": "1.5.0",
     "model_name": "ProgressStyleModel",
     "state": {
      "_model_module": "@jupyter-widgets/controls",
      "_model_module_version": "1.5.0",
      "_model_name": "ProgressStyleModel",
      "_view_count": null,
      "_view_module": "@jupyter-widgets/base",
      "_view_module_version": "1.2.0",
      "_view_name": "StyleView",
      "bar_color": null,
      "description_width": ""
     }
    }
   }
  }
 },
 "nbformat": 4,
 "nbformat_minor": 0
}
