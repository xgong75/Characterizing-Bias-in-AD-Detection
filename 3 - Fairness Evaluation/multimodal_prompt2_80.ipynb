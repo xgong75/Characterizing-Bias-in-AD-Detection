{
 "cells": [
  {
   "cell_type": "markdown",
   "metadata": {
    "id": "mgl6wo2Og0ZD"
   },
   "source": [
    "# Process Data"
   ]
  },
  {
   "cell_type": "code",
   "execution_count": null,
   "metadata": {
    "colab": {
     "base_uri": "https://localhost:8080/",
     "height": 73
    },
    "executionInfo": {
     "elapsed": 15673,
     "status": "ok",
     "timestamp": 1746826648904,
     "user": {
      "displayName": "Priya Bhirgoo",
      "userId": "10409062789281168389"
     },
     "user_tz": 240
    },
    "id": "n5yFaavxR0Vp",
    "outputId": "8d939353-2503-44a6-94d7-986ee1e445b2"
   },
   "outputs": [],
   "source": [
    "import pandas as pd\n",
    "from google.colab import files\n",
    "import io\n",
    "\n",
    "# Upload CSV file manually\n",
    "uploaded = files.upload()"
   ]
  },
  {
   "cell_type": "code",
   "execution_count": null,
   "metadata": {
    "colab": {
     "base_uri": "https://localhost:8080/"
    },
    "executionInfo": {
     "elapsed": 223,
     "status": "ok",
     "timestamp": 1746827115715,
     "user": {
      "displayName": "Priya Bhirgoo",
      "userId": "10409062789281168389"
     },
     "user_tz": 240
    },
    "id": "gwona0At-xbJ",
    "outputId": "39c436c4-10d5-4438-f25b-6fac7834597b"
   },
   "outputs": [],
   "source": [
    "# Automatically read the uploaded file\n",
    "filename = next(iter(uploaded))\n",
    "data = pd.read_csv(io.BytesIO(uploaded[filename]))\n",
    "\n",
    "# Display first few rows\n",
    "print(data.head())\n",
    "\n",
    "# Display column headers\n",
    "print(data.columns)"
   ]
  },
  {
   "cell_type": "code",
   "execution_count": null,
   "metadata": {
    "colab": {
     "base_uri": "https://localhost:8080/"
    },
    "executionInfo": {
     "elapsed": 796,
     "status": "ok",
     "timestamp": 1746827119600,
     "user": {
      "displayName": "Priya Bhirgoo",
      "userId": "10409062789281168389"
     },
     "user_tz": 240
    },
    "id": "qu-KhMUSe8bF",
    "outputId": "847efa86-8ffe-405f-f493-0e404b6ddf93"
   },
   "outputs": [],
   "source": [
    "from sklearn.preprocessing import StandardScaler\n",
    "\n",
    "# Assuming 'age' is the column name containing age data\n",
    "if 'age' in data.columns:\n",
    "  scaler = StandardScaler()\n",
    "  data['age_standardized'] = scaler.fit_transform(data[['age']])\n",
    "  print(data[['age', 'age_standardized']].head())\n",
    "else:\n",
    "  print(\"Error: 'age' column not found in the DataFrame.\")\n"
   ]
  },
  {
   "cell_type": "code",
   "execution_count": 5,
   "metadata": {
    "executionInfo": {
     "elapsed": 6,
     "status": "ok",
     "timestamp": 1746827121067,
     "user": {
      "displayName": "Priya Bhirgoo",
      "userId": "10409062789281168389"
     },
     "user_tz": 240
    },
    "id": "redkfUKqZr2k"
   },
   "outputs": [],
   "source": [
    "# data=data.iloc[:100,:]\n",
    "# data = data.fillna('None')\n",
    "# data"
   ]
  },
  {
   "cell_type": "code",
   "execution_count": null,
   "metadata": {
    "colab": {
     "base_uri": "https://localhost:8080/",
     "height": 507
    },
    "executionInfo": {
     "elapsed": 624,
     "status": "ok",
     "timestamp": 1746827123335,
     "user": {
      "displayName": "Priya Bhirgoo",
      "userId": "10409062789281168389"
     },
     "user_tz": 240
    },
    "id": "xl-i6B-5cdmV",
    "outputId": "2a677263-38ce-46d8-e052-371d0c1e8b57"
   },
   "outputs": [],
   "source": [
    "import matplotlib.pyplot as plt\n",
    "\n",
    "# Assuming 'data' DataFrame is already loaded and processed as in the previous code\n",
    "\n",
    "# Group data by 'case_status'\n",
    "grouped_data = data.groupby('case_status')\n",
    "\n",
    "# Create subplots\n",
    "fig, axes = plt.subplots(1, 2, figsize=(12, 5))\n",
    "\n",
    "# Iterate through the groups\n",
    "for case_status, group_data in grouped_data:\n",
    "  # Select the appropriate subplot\n",
    "  ax = axes[case_status]\n",
    "\n",
    "  # Plot the distribution of 'age' for the current group\n",
    "  group_data['age'].hist(ax=ax, bins=20)\n",
    "\n",
    "  # Set the title and labels for the subplot\n",
    "  ax.set_title(f\"Age Distribution for case_status = {case_status}\")\n",
    "  ax.set_xlabel(\"Age\")\n",
    "  ax.set_ylabel(\"Frequency\")\n",
    "\n",
    "# Display the plots\n",
    "plt.tight_layout()\n",
    "plt.show()\n"
   ]
  },
  {
   "cell_type": "code",
   "execution_count": null,
   "metadata": {
    "colab": {
     "base_uri": "https://localhost:8080/"
    },
    "executionInfo": {
     "elapsed": 5,
     "status": "ok",
     "timestamp": 1746827125408,
     "user": {
      "displayName": "Priya Bhirgoo",
      "userId": "10409062789281168389"
     },
     "user_tz": 240
    },
    "id": "HIEnuCXqjQAG",
    "outputId": "69d46cfb-9436-436b-f0d1-882af43aca13"
   },
   "outputs": [],
   "source": [
    "# prompt: check if there's null values in gemini_summary\n",
    "\n",
    "# Check for null values in the 'gemini_summary' column\n",
    "null_values = data['gemini_summary'].isnull().sum()\n",
    "print(f\"Number of null values in 'gemini_summary': {null_values}\")\n",
    "\n",
    "# Check for empty strings in the 'gemini_summary' column\n",
    "empty_strings = (data['gemini_summary'] == '').sum()\n",
    "print(f\"Number of empty strings in 'gemini_summary': {empty_strings}\")\n",
    "\n",
    "# Check for \"None\" or \"nan\" strings in 'gemini_summary'\n",
    "none_strings = (data['gemini_summary'] == 'None').sum()\n",
    "nan_strings = (data['gemini_summary'].str.lower() == 'nan').sum()\n",
    "print(f\"Number of 'None' strings in 'gemini_summary': {none_strings}\")\n",
    "print(f\"Number of 'nan' strings in 'gemini_summary': {nan_strings}\")\n"
   ]
  },
  {
   "cell_type": "markdown",
   "metadata": {
    "id": "8SS8Sd6mg9PW"
   },
   "source": [
    "# Build Model"
   ]
  },
  {
   "cell_type": "code",
   "execution_count": 8,
   "metadata": {
    "executionInfo": {
     "elapsed": 1,
     "status": "ok",
     "timestamp": 1746827126816,
     "user": {
      "displayName": "Priya Bhirgoo",
      "userId": "10409062789281168389"
     },
     "user_tz": 240
    },
    "id": "vJuzyoKLY0Dd"
   },
   "outputs": [],
   "source": [
    "# !pip install transformers\n",
    "# !pip install sentence-transformers"
   ]
  },
  {
   "cell_type": "code",
   "execution_count": null,
   "metadata": {
    "colab": {
     "base_uri": "https://localhost:8080/",
     "height": 1000,
     "referenced_widgets": [
      "6975400a498f4680b6fe4d0009b4e252",
      "1782b7578f6a4a4496eb638695425cbb",
      "e5c713d7b635477399812419277464b2",
      "bda9c4482e3a4adbb58c593e84d13b6d",
      "554340f828134874849611e72637a7d9",
      "7ef4860054444534a033461c703b122a",
      "025769de9a5647df83226ed91d61040c",
      "9d6e252a950f43e9b9647532ddfd4732",
      "56158f7393ec45408611ad70d0dba919",
      "a813ad1beedf42efb1b793e9704e3625",
      "0a690585b6b447b19d872c813b6b2212",
      "1e59feab48594ff192986fc7b2aa76f1",
      "b74a0512ff1446abb79a1fd111fad6e5",
      "3580f0bf10c34cb6ba42c75de626738d",
      "8d3bcf61611a4d4aa4ee5309bb4d329b",
      "143d36de6eb5418ca9dc98d69d30213d",
      "15648356f7f54faaaacdcb9dfd8eecc2",
      "21bdb9109aa8400e94871e2f670c1bb2",
      "b00c9f0f06924a1887e231695ec88c17",
      "ad6d888956a749d0a3bc9fa0627e3af1",
      "f9418ea671724635a2b56e5d4ec40e32",
      "99816e1ceb21472683bcd95043c39dda",
      "568bb805fa21446a828781ac56a0ea18",
      "d597a1c73e2c4cbaade74ed97d781779",
      "a7617c30c12c44f3909e83a1f2fb25cc",
      "0c634c433d9144ebb8b9d44083653d7d",
      "d5f12478f6374440847d764c1e58cdc1",
      "b6e4535ad5e1483380bfc34cf4317d40",
      "9b4f76cbeb6a4827b3a850e3c811b6c1",
      "60d661b945174fb884533ff726f20a44",
      "ec46cfec0fa94f79966b09c69a036cc7",
      "eebac5c985df4f41921a772b2922e391",
      "347d3d0337414c4c932c2d38ae037321",
      "888e8a88a41041568be461947ff23a57",
      "40b7051ad7ce45ea843da5674d26a67f",
      "5c5f20472ca54d8ca48988a91a9bbea6",
      "6e0e4bb0fa1d42a9ab13d90c21b73204",
      "e805661b0ffc4ffeb5a07efecc2f0a93",
      "e343377543de4bd4ba0c93e6ef610c82",
      "17478cc22f74470682820f5584390ec2",
      "dee9ff03779a434d90ff6416369baa1a",
      "5284265c898f4670ba22c1783edc31e4",
      "88f6992b7458495783030767539d535e",
      "4c6ac60b09f842d99f127699f75c4530"
     ]
    },
    "executionInfo": {
     "elapsed": 4101223,
     "status": "ok",
     "timestamp": 1746831229329,
     "user": {
      "displayName": "Priya Bhirgoo",
      "userId": "10409062789281168389"
     },
     "user_tz": 240
    },
    "id": "BnesNKcTY3a0",
    "outputId": "280aa27c-291d-4e8b-c104-068070e4110b"
   },
   "outputs": [],
   "source": [
    "import pandas as pd\n",
    "import numpy as np\n",
    "import torch\n",
    "from transformers import AutoTokenizer, AutoModel\n",
    "from sklearn.model_selection import train_test_split\n",
    "\n",
    "# Use GPU if available\n",
    "device = torch.device(\"cuda\" if torch.cuda.is_available() else \"cpu\")\n",
    "print(f\"Using device: {device}\")\n",
    "\n",
    "# Load ClinicalBERT and tokenizer\n",
    "model_name = \"emilyalsentzer/Bio_ClinicalBERT\"\n",
    "tokenizer = AutoTokenizer.from_pretrained(model_name)\n",
    "model = AutoModel.from_pretrained(model_name).to(device)\n",
    "model.eval()\n",
    "\n",
    "# Define feature and target columns\n",
    "feature_cols = ['age_standardized', 'gender', 'insurance_group', 'language_group', 'race_group1','Stroke_History', 'Myocardial_Infarction', 'Peripheral_Vascular_Disease',\n",
    "                'Cerebrovascular_Disease', 'Diabetes_Mellitus', 'Cancer']\n",
    "target_col = 'case_status'\n",
    "\n",
    "# Split dataset first\n",
    "X_train_df, X_test_df, y_train, y_test = train_test_split(\n",
    "    data, data[target_col], test_size=0.2, random_state=42\n",
    ")\n",
    "\n",
    "from tqdm import tqdm\n",
    "\n",
    "# Embedding function with GPU support + tqdm\n",
    "def generate_embeddings(texts):\n",
    "    embeddings = []\n",
    "    for text in tqdm(texts, desc=\"Generating Embeddings\"):\n",
    "        if pd.isna(text):\n",
    "            text = \"\"\n",
    "        else:\n",
    "            text = str(text)\n",
    "        inputs = tokenizer(text, truncation=True, padding='max_length', max_length=512, return_tensors='pt').to(device)\n",
    "        with torch.no_grad():\n",
    "            outputs = model(**inputs)\n",
    "        cls_embedding = outputs.last_hidden_state[:, 0, :].squeeze().cpu().numpy()\n",
    "        embeddings.append(cls_embedding)\n",
    "    return np.array(embeddings)\n",
    "\n",
    "# Generate embeddings\n",
    "X_train_embeddings = generate_embeddings(X_train_df['gemini_summary'].tolist())\n",
    "X_test_embeddings = generate_embeddings(X_test_df['gemini_summary'].tolist())\n"
   ]
  },
  {
   "cell_type": "code",
   "execution_count": null,
   "metadata": {
    "colab": {
     "base_uri": "https://localhost:8080/"
    },
    "executionInfo": {
     "elapsed": 50,
     "status": "ok",
     "timestamp": 1746544530387,
     "user": {
      "displayName": "Xingyu Gong",
      "userId": "09190398267093723546"
     },
     "user_tz": 240
    },
    "id": "v6a8JtdyoaYX",
    "outputId": "1572c701-934c-44e5-8bf6-eee19184a123"
   },
   "outputs": [],
   "source": [
    "X_train_embeddings.shape"
   ]
  },
  {
   "cell_type": "markdown",
   "metadata": {
    "id": "bvBLH2T7A2N3"
   },
   "source": [
    "# Remove low variance embedding features"
   ]
  },
  {
   "cell_type": "code",
   "execution_count": null,
   "metadata": {
    "colab": {
     "base_uri": "https://localhost:8080/"
    },
    "executionInfo": {
     "elapsed": 2515,
     "status": "ok",
     "timestamp": 1746544532901,
     "user": {
      "displayName": "Xingyu Gong",
      "userId": "09190398267093723546"
     },
     "user_tz": 240
    },
    "id": "mHMO3I_DnoI_",
    "outputId": "92f92d71-42ad-4f7c-b261-6626a328ea10"
   },
   "outputs": [],
   "source": [
    "from sklearn.decomposition import PCA\n",
    "from sklearn.preprocessing import StandardScaler\n",
    "\n",
    "# Scale the embeddings\n",
    "scaler = StandardScaler()\n",
    "X_train_scaled = scaler.fit_transform(X_train_embeddings)\n",
    "X_test_scaled = scaler.transform(X_test_embeddings)\n",
    "\n",
    "# Apply PCA\n",
    "pca = PCA()\n",
    "X_train_pca = pca.fit_transform(X_train_scaled)\n",
    "\n",
    "# Explained variance ratio\n",
    "explained_variance_ratio = pca.explained_variance_ratio_\n",
    "\n",
    "# Find optimal k (number of principal components)\n",
    "cumulative_variance = np.cumsum(explained_variance_ratio)\n",
    "k = np.argmax(cumulative_variance >= 0.80) + 1  # Example: keep components explaining 80% variance\n",
    "\n",
    "print(f\"Optimal number of components (k): {k}\")\n",
    "\n",
    "# Apply PCA with optimal k\n",
    "pca = PCA(n_components=k)\n",
    "X_train_pca = pca.fit_transform(X_train_scaled)\n",
    "X_test_pca = pca.transform(X_test_scaled)\n",
    "\n",
    "# Now X_train_pca and X_test_pca contain the top k principal components\n",
    "print(f\"Shape of X_train_pca: {X_train_pca.shape}\")\n",
    "print(f\"Shape of X_test_pca: {X_test_pca.shape}\")\n"
   ]
  },
  {
   "cell_type": "code",
   "execution_count": null,
   "metadata": {
    "id": "umnSS1L8Axdx"
   },
   "outputs": [],
   "source": [
    "# from sklearn.feature_selection import VarianceThreshold\n",
    "# selector = VarianceThreshold(threshold=1e-4)\n",
    "# X_train_embeddings = selector.fit_transform(X_train_embeddings)\n",
    "# X_test_embeddings = selector.transform(X_test_embeddings)\n"
   ]
  },
  {
   "cell_type": "markdown",
   "metadata": {
    "id": "R4P0b2HZGcQP"
   },
   "source": [
    "#### LightGBM with RandomizedSearchCV for hyperparameter tuning"
   ]
  },
  {
   "cell_type": "markdown",
   "metadata": {
    "id": "iJX40W5YBvbW"
   },
   "source": [
    "| **Benefit**                        | **LightGBM**                              | **Logistic Regression**                   |\n",
    "|------------------------------------|-------------------------------------------|--------------------------------------------|\n",
    "| **Nonlinear relationships**        | ✅ Captures complex, nonlinear patterns    | ❌ Assumes linearity between features & log-odds |\n",
    "| **Feature interactions**           | ✅ Automatically models feature interactions | ❌ Cannot model interactions unless manually created |\n",
    "| **Handling many features**         | ✅ Efficient with large/sparse feature sets | ⚠️ Needs strong regularization to avoid overfitting |\n",
    "| **Automatic feature selection**    | ✅ Ignores uninformative features (via gain) | ❌ All features contribute unless explicitly regularized |\n",
    "| **Robust to feature scaling**      | ✅ No scaling needed                       | ❌ Requires standardized features           |\n",
    "| **Tree-based regularization**      | ✅ via subsample, colsample, L1/L2         | ⚠️ Relies on proper penalty tuning (e.g. `C`, `l1_ratio`) |\n",
    "| **Handles missing values**         | ✅ Built-in support                        | ❌ Requires imputation                      |\n",
    "| **Performance (usually)**          | ✅ Often higher accuracy/F1 on complex datasets | ⚠️ Weaker when relationships are nonlinear |"
   ]
  },
  {
   "cell_type": "code",
   "execution_count": null,
   "metadata": {
    "id": "S4rTmQUIxbBB"
   },
   "outputs": [],
   "source": [
    "# === Step 1: Define categorical columns ===\n",
    "categorical_cols = ['gender', 'insurance_group', 'language_group', 'race_group1',\n",
    "                    'Stroke_History', 'Myocardial_Infarction', 'Peripheral_Vascular_Disease',\n",
    "                    'Cerebrovascular_Disease', 'Diabetes_Mellitus', 'Cancer']\n",
    "\n",
    "# === Step 2: Ensure categorical columns are dtype 'category' ===\n",
    "for col in categorical_cols:\n",
    "    X_train_df[col] = X_train_df[col].astype('category')\n",
    "    X_test_df[col] = X_test_df[col].astype('category')\n",
    "\n",
    "# === Step 3: Build structured matrix with categorical + numerical ===\n",
    "structured_cols = categorical_cols + ['age_standardized']\n",
    "X_train_structured = X_train_df[structured_cols]\n",
    "X_test_structured = X_test_df[structured_cols]\n",
    "\n",
    "# === Step 4: Combine embeddings with structured features ===\n",
    "X_train_full = pd.concat([pd.DataFrame(X_train_pca), X_train_structured.reset_index(drop=True)], axis=1)\n",
    "X_test_full = pd.concat([pd.DataFrame(X_test_pca), X_test_structured.reset_index(drop=True)], axis=1)\n"
   ]
  },
  {
   "cell_type": "code",
   "execution_count": null,
   "metadata": {
    "colab": {
     "base_uri": "https://localhost:8080/"
    },
    "executionInfo": {
     "elapsed": 169531,
     "status": "ok",
     "timestamp": 1746544708419,
     "user": {
      "displayName": "Xingyu Gong",
      "userId": "09190398267093723546"
     },
     "user_tz": 240
    },
    "id": "fG_tAFMVIBqm",
    "outputId": "dec31803-84c2-41d8-b4cd-a3e9181a907b"
   },
   "outputs": [],
   "source": [
    "from lightgbm import LGBMClassifier\n",
    "from sklearn.model_selection import GridSearchCV\n",
    "from sklearn.metrics import classification_report\n",
    "\n",
    "# Step 1: Define the reduced parameter grid\n",
    "param_grid = {\n",
    "    'n_estimators': [50, 100],  # Add more for longer training if early stopping is used\n",
    "    'learning_rate': [0.01, 0.05],  # Try slower learning for smoother convergence\n",
    "    'max_depth': [4, 6],                # Shallower trees to reduce complexity\n",
    "    'bagging_fraction': [0.5, 0.6],   # More aggressive row subsampling\n",
    "    'bagging_freq': [1, 3],             # Try more frequent bagging\n",
    "    'colsample_bytree': [0.5, 0.6],   # Try smaller feature subsampling\n",
    "    'reg_alpha': [0.1, 0.8],          # L1 regularization\n",
    "    'reg_lambda': [ 0.1, 0.8]          # L2 regularization\n",
    "}\n",
    "\n",
    "\n",
    "# Step 2: Set up GridSearchCV\n",
    "grid = GridSearchCV(\n",
    "    LGBMClassifier(\n",
    "        random_state=42,\n",
    "        n_jobs=-1,\n",
    "        verbosity=-1\n",
    "    ),\n",
    "    param_grid=param_grid,\n",
    "    cv=5,\n",
    "    scoring='accuracy',\n",
    "    verbose=1\n",
    ")\n",
    "\n",
    "# Step 3: Fit the model\n",
    "grid.fit(X_train_full, y_train)\n",
    "\n",
    "# Step 4: Evaluate best model\n",
    "print(\"Best params:\", grid.best_params_)\n",
    "y_pred = grid.best_estimator_.predict(X_test_full)\n",
    "print(classification_report(y_test, y_pred))"
   ]
  },
  {
   "cell_type": "code",
   "execution_count": null,
   "metadata": {
    "id": "PxNlf7nRLL1A"
   },
   "outputs": [],
   "source": [
    "# Predict probabilities and labels using tuned model and updated features\n",
    "clf=grid.best_estimator_\n",
    "train_probs = clf.predict_proba(X_train_full)\n",
    "test_probs = clf.predict_proba(X_test_full)\n",
    "\n",
    "# Add predictions to the original dataframes\n",
    "X_train_df['predicted_probability'] = np.max(train_probs, axis=1)\n",
    "X_test_df['predicted_probability'] = np.max(test_probs, axis=1)\n",
    "\n",
    "X_train_df['prediction'] = clf.predict(X_train_full)\n",
    "X_test_df['prediction'] = clf.predict(X_test_full)"
   ]
  },
  {
   "cell_type": "code",
   "execution_count": null,
   "metadata": {
    "id": "ZYbAu1NQLSjO"
   },
   "outputs": [],
   "source": [
    "# Combine train and test for consistent one-hot encoding\n",
    "X_train_df['split'] = 'train'\n",
    "X_test_df['split'] = 'test'\n",
    "\n",
    "final_df = pd.concat([X_train_df, X_test_df])\n",
    "final_df.to_csv('final_df.csv', index=False)"
   ]
  },
  {
   "cell_type": "code",
   "execution_count": null,
   "metadata": {
    "colab": {
     "base_uri": "https://localhost:8080/",
     "height": 429
    },
    "executionInfo": {
     "elapsed": 139,
     "status": "ok",
     "timestamp": 1746544708878,
     "user": {
      "displayName": "Xingyu Gong",
      "userId": "09190398267093723546"
     },
     "user_tz": 240
    },
    "id": "eHmLlK-eDxEh",
    "outputId": "40007743-28b9-4242-d6fb-bd61f7c6f020"
   },
   "outputs": [],
   "source": [
    "final_df.head()"
   ]
  },
  {
   "cell_type": "code",
   "execution_count": null,
   "metadata": {
    "colab": {
     "base_uri": "https://localhost:8080/",
     "height": 472
    },
    "executionInfo": {
     "elapsed": 411,
     "status": "ok",
     "timestamp": 1746544709288,
     "user": {
      "displayName": "Xingyu Gong",
      "userId": "09190398267093723546"
     },
     "user_tz": 240
    },
    "id": "WQ5DzGJlE6BJ",
    "outputId": "2dc9dac9-4a78-45d9-b311-80f65c425162"
   },
   "outputs": [],
   "source": [
    "from lightgbm import plot_importance\n",
    "\n",
    "plot_importance(clf, max_num_features=40, importance_type='split')  # or 'gain'\n",
    "plt.title('LightGBM Feature Importance')\n",
    "plt.show()\n"
   ]
  },
  {
   "cell_type": "markdown",
   "metadata": {
    "id": "ZQrUTDnPbjy5"
   },
   "source": [
    "# Test Performance"
   ]
  },
  {
   "cell_type": "markdown",
   "metadata": {
    "id": "6wVOeyzJ6WYZ"
   },
   "source": [
    "⚖️ Why These Metrics?\n",
    "\n",
    "In a classification task (e.g., predicting case_status), fairness means the model's decisions should not unfairly disadvantage people from certain groups (like gender, race, age, etc.).\n",
    "\n",
    "To assess this, we compare how well or how consistently the model performs across different subgroups. Each of the three metrics measures a specific kind of fairness.\n",
    "\n",
    "🔹 1. Equal Opportunity (TPR)\n",
    "\n",
    "The True Positive Rate (TP / [TP + FN]) should be equal across groups.\n",
    "\n",
    "Why it matters:\n",
    "\n",
    "This ensures that qualified individuals (i.e., people who truly belong to the positive class) are equally likely to be correctly identified, no matter their demographic. It aims for equal performance for both positive and negative predictions across groups, ensuring that neither group benefits or suffers disproportionately from the model's decisions.\n",
    "\n",
    "Example: In healthcare, all patients who actually need treatment (true positives) should have an equal chance of being correctly identified — regardless of race or gender.\n",
    "\n",
    "Bias implication:\n",
    "\n",
    "If Group A has TPR = 0.9 and Group B has TPR = 0.6 → the model is less likely to help Group B, even if they qualify. That’s discriminatory.\n",
    "\n",
    "🔹 2. Predictive Parity (Precision)\n",
    "The Precision (TP / [TP + FP]) should be equal across groups.\n",
    "\n",
    "Why it matters:\n",
    "\n",
    "This ensures that those who are predicted to be positive actually are, at equal rates across groups.\n",
    "\n",
    "In practical terms, it means the model is equally trustworthy in its positive predictions for all groups.\n",
    "\n",
    "Bias implication:\n",
    "\n",
    "If Group A has 80% precision and Group B has 50% → Group B suffers more false alarms or unjustified interventions, which is unfair.\n",
    "\n",
    "🔹 3. Equalized Odds (TPR & FPR)\n",
    "\n",
    "Both TPR and FPR (False Positive Rate = FP / [FP + TN]) should be equal across groups.\n",
    "\n",
    "Why it matters:\n",
    "\n",
    "This is the most comprehensive fairness metric.\n",
    "\n",
    "It ensures the model:\n",
    "\n",
    "✅ correctly identifies positives at the same rate (Equal Opportunity)\n",
    "\n",
    "❌ doesn’t falsely accuse negatives at different rates (False alarms)\n",
    "\n",
    "Bias implication:\n",
    "\n",
    "If Group A has FPR = 0.1 and Group B has FPR = 0.3 → Group B receives more false accusations, which can be harmful or costly (e.g., wrongful arrests, misdiagnoses).\n",
    "\n",
    "🧠 Summary Table\n",
    "\n",
    "Metric\tMeasures\tPrevents Bias Where...\n",
    "\n",
    "Equal Opportunity\tTPR\tQualified individuals are denied more often in some groups\n",
    "\n",
    "Predictive Parity\tPrecision\tSome groups receive more incorrect positive predictions\n",
    "\n",
    "Equalized Odds\tTPR & FPR\tSome groups are both over- or under-predicted unfairly\n"
   ]
  },
  {
   "cell_type": "markdown",
   "metadata": {
    "id": "ZRoxc-zuNaoE"
   },
   "source": [
    "#### Overall"
   ]
  },
  {
   "cell_type": "code",
   "execution_count": null,
   "metadata": {
    "id": "1uKWJQwS18c6"
   },
   "outputs": [],
   "source": [
    "final_df=pd.read_csv(\"final_df.csv\")"
   ]
  },
  {
   "cell_type": "code",
   "execution_count": null,
   "metadata": {
    "colab": {
     "base_uri": "https://localhost:8080/"
    },
    "executionInfo": {
     "elapsed": 10,
     "status": "ok",
     "timestamp": 1746544733867,
     "user": {
      "displayName": "Xingyu Gong",
      "userId": "09190398267093723546"
     },
     "user_tz": 240
    },
    "id": "YwIwS5-DEdj2",
    "outputId": "30518950-6e8e-423f-b10d-0fa957a88073"
   },
   "outputs": [],
   "source": [
    "from sklearn.metrics import confusion_matrix\n",
    "\n",
    "# Use only test set\n",
    "test_data = final_df[final_df['split'] == 'train']\n",
    "\n",
    "# Get ground truth and predictions\n",
    "y_true = test_data['case_status']\n",
    "y_pred = test_data['prediction']\n",
    "\n",
    "# Compute confusion matrix\n",
    "try:\n",
    "    tn, fp, fn, tp = confusion_matrix(y_true, y_pred, labels=[0, 1]).ravel()\n",
    "except ValueError:\n",
    "    # Handle edge cases where only one class is present\n",
    "    tn = fp = fn = tp = 0\n",
    "    for actual, pred in zip(y_true, y_pred):\n",
    "        if actual == 1 and pred == 1:\n",
    "            tp += 1\n",
    "        elif actual == 1 and pred == 0:\n",
    "            fn += 1\n",
    "        elif actual == 0 and pred == 1:\n",
    "            fp += 1\n",
    "        elif actual == 0 and pred == 0:\n",
    "            tn += 1\n",
    "\n",
    "# Compute fairness-related metrics\n",
    "tpr = tp / (tp + fn) if (tp + fn) > 0 else 0.0  # Sensitivity / Equal Opportunity\n",
    "fpr = fp / (fp + tn) if (fp + tn) > 0 else 0.0  # False Positive Rate / Equalized Odds\n",
    "precision = tp / (tp + fp) if (tp + fp) > 0 else 0.0  # Precision / Predictive Parity\n",
    "sample_size = len(test_data)\n",
    "\n",
    "# Print results\n",
    "print(\"📊 Overall Model Performance on Train Set\")\n",
    "print(\"-\" * 40)\n",
    "print(f\"TPR:       {tpr:.4f}\")\n",
    "print(f\"FPR:       {fpr:.4f}\")\n",
    "print(f\"Precision: {precision:.4f}\")\n",
    "print(f\"Sample Size:  {sample_size}\")"
   ]
  },
  {
   "cell_type": "code",
   "execution_count": null,
   "metadata": {
    "colab": {
     "base_uri": "https://localhost:8080/"
    },
    "executionInfo": {
     "elapsed": 11,
     "status": "ok",
     "timestamp": 1746544736525,
     "user": {
      "displayName": "Xingyu Gong",
      "userId": "09190398267093723546"
     },
     "user_tz": 240
    },
    "id": "4_Y-4_TzMUri",
    "outputId": "52a6ba67-4535-413c-f1ae-8fefe8807c04"
   },
   "outputs": [],
   "source": [
    "from sklearn.metrics import confusion_matrix\n",
    "\n",
    "# Use only test set\n",
    "test_data = final_df[final_df['split'] == 'test']\n",
    "\n",
    "# Get ground truth and predictions\n",
    "y_true = test_data['case_status']\n",
    "y_pred = test_data['prediction']\n",
    "\n",
    "# Compute confusion matrix\n",
    "try:\n",
    "    tn, fp, fn, tp = confusion_matrix(y_true, y_pred, labels=[0, 1]).ravel()\n",
    "except ValueError:\n",
    "    # Handle edge cases where only one class is present\n",
    "    tn = fp = fn = tp = 0\n",
    "    for actual, pred in zip(y_true, y_pred):\n",
    "        if actual == 1 and pred == 1:\n",
    "            tp += 1\n",
    "        elif actual == 1 and pred == 0:\n",
    "            fn += 1\n",
    "        elif actual == 0 and pred == 1:\n",
    "            fp += 1\n",
    "        elif actual == 0 and pred == 0:\n",
    "            tn += 1\n",
    "\n",
    "# Compute fairness-related metrics\n",
    "tpr = tp / (tp + fn) if (tp + fn) > 0 else 0.0  # Sensitivity / Equal Opportunity\n",
    "fpr = fp / (fp + tn) if (fp + tn) > 0 else 0.0  # False Positive Rate / Equalized Odds\n",
    "precision = tp / (tp + fp) if (tp + fp) > 0 else 0.0  # Precision / Predictive Parity\n",
    "sample_size = len(test_data)\n",
    "\n",
    "# Print results\n",
    "print(\"📊 Overall Model Performance on Test Set\")\n",
    "print(\"-\" * 40)\n",
    "print(f\"TPR:       {tpr:.4f}\")\n",
    "print(f\"FPR:       {fpr:.4f}\")\n",
    "print(f\"Precision: {precision:.4f}\")\n",
    "print(f\"Sample Size:  {sample_size}\")"
   ]
  },
  {
   "cell_type": "markdown",
   "metadata": {
    "id": "yfVQ9J6gNzc9"
   },
   "source": [
    "# Bias Validation"
   ]
  },
  {
   "cell_type": "markdown",
   "metadata": {
    "id": "VYzmJ8zrGPaA"
   },
   "source": [
    "## Sample performance"
   ]
  },
  {
   "cell_type": "code",
   "execution_count": null,
   "metadata": {
    "colab": {
     "base_uri": "https://localhost:8080/"
    },
    "executionInfo": {
     "elapsed": 8506,
     "status": "ok",
     "timestamp": 1746544748700,
     "user": {
      "displayName": "Xingyu Gong",
      "userId": "09190398267093723546"
     },
     "user_tz": 240
    },
    "id": "onGydhKbN02K",
    "outputId": "44388f13-d1fd-4265-e523-7b1b1bef3d52"
   },
   "outputs": [],
   "source": [
    "import pandas as pd\n",
    "import numpy as np\n",
    "from sklearn.metrics import confusion_matrix\n",
    "from tabulate import tabulate\n",
    "\n",
    "# === Age binning ===\n",
    "def bin_age(df):\n",
    "    bin_edges = [0, 70, 80, 90, float('inf')]\n",
    "    labels = ['<70', '70-80', '80-90', '>90']\n",
    "    df['age_group'] = pd.cut(df['age'], bins=bin_edges, labels=labels, right=False)\n",
    "    return df\n",
    "\n",
    "# === Bootstrap metrics: TPR, FPR, Precision only ===\n",
    "def bootstrap_metrics(y_true, y_pred, n_iterations=100):\n",
    "    stats = {'TPR': [], 'FPR': [], 'Precision': []}\n",
    "    for _ in range(n_iterations):\n",
    "        try:\n",
    "            sample = pd.DataFrame({'y_true': y_true, 'y_pred': y_pred}).sample(frac=1.0, replace=True)\n",
    "            yt = sample['y_true']\n",
    "            yp = sample['y_pred']\n",
    "            tn, fp, fn, tp = confusion_matrix(yt, yp, labels=[0, 1]).ravel()\n",
    "            tpr = tp / (tp + fn) if (tp + fn) > 0 else np.nan\n",
    "            fpr = fp / (fp + tn) if (fp + tn) > 0 else np.nan\n",
    "            precision = tp / (tp + fp) if (tp + fp) > 0 else np.nan\n",
    "            stats['TPR'].append(tpr)\n",
    "            stats['FPR'].append(fpr)\n",
    "            stats['Precision'].append(precision)\n",
    "        except:\n",
    "            continue\n",
    "\n",
    "    return {\n",
    "        'TPR': (np.nanpercentile(stats['TPR'], 2.5), np.nanpercentile(stats['TPR'], 97.5)),\n",
    "        'FPR': (np.nanpercentile(stats['FPR'], 2.5), np.nanpercentile(stats['FPR'], 97.5)),\n",
    "        'Precision': (np.nanpercentile(stats['Precision'], 2.5), np.nanpercentile(stats['Precision'], 97.5)),\n",
    "    }\n",
    "\n",
    "# === Apply binning to age ===\n",
    "final_df = bin_age(final_df)\n",
    "\n",
    "# === Split data ===\n",
    "test_data = final_df[final_df['split'] == 'test']\n",
    "train_data = final_df[final_df['split'] == 'train']\n",
    "\n",
    "# === Demographic groups ===\n",
    "demographic_groups = ['age_group', 'gender', 'insurance_group', 'language_group',\n",
    "                      'race_group1', 'race_group2', 'race_group3', 'race_group4']\n",
    "\n",
    "# === Run analysis for Train and Test ===\n",
    "for data_split_name, data in zip(['Train', 'Test'], [train_data, test_data]):\n",
    "    records = []\n",
    "\n",
    "    for group_col in demographic_groups:\n",
    "        if group_col not in data.columns:\n",
    "            continue\n",
    "\n",
    "        group_values = data[group_col].dropna().unique()\n",
    "\n",
    "        for value in group_values:\n",
    "            subset = data[data[group_col] == value]\n",
    "            if len(subset) < 10:\n",
    "                continue  # skip small groups\n",
    "\n",
    "            y_true = subset['case_status']\n",
    "            y_pred = subset['prediction']\n",
    "            ci = bootstrap_metrics(y_true, y_pred)\n",
    "\n",
    "            records.append({\n",
    "                'Group': group_col,\n",
    "                'Subgroup': value,\n",
    "                'Equal Opportunity (TPR)': f\"{ci['TPR'][0]:.3f}–{ci['TPR'][1]:.3f}\",\n",
    "                'False Positive Rate (FPR)': f\"{ci['FPR'][0]:.3f}–{ci['FPR'][1]:.3f}\",\n",
    "                'Precision (Predictive Parity)': f\"{ci['Precision'][0]:.3f}–{ci['Precision'][1]:.3f}\",\n",
    "                'Sample Size': len(subset)\n",
    "            })\n",
    "\n",
    "    df_metrics = pd.DataFrame(records)\n",
    "    print(f\"\\n=== {data_split_name} Fairness Metrics Per Subgroup ===\")\n",
    "    print(tabulate(df_metrics, headers=\"keys\", tablefmt=\"fancy_grid\", showindex=False))\n"
   ]
  },
  {
   "cell_type": "markdown",
   "metadata": {
    "id": "UWE89rWhAgNe"
   },
   "source": [
    "## Check Equalized Opportunity Violations -  pairwise"
   ]
  },
  {
   "cell_type": "markdown",
   "metadata": {
    "id": "rBQoHKpPCR4f"
   },
   "source": [
    "`proportions_ztest`: Compares proportions between two independent groups to see if they're different"
   ]
  },
  {
   "cell_type": "code",
   "execution_count": null,
   "metadata": {
    "colab": {
     "base_uri": "https://localhost:8080/"
    },
    "executionInfo": {
     "elapsed": 294,
     "status": "ok",
     "timestamp": 1746544769511,
     "user": {
      "displayName": "Xingyu Gong",
      "userId": "09190398267093723546"
     },
     "user_tz": 240
    },
    "id": "jSvmpifpAfij",
    "outputId": "a7f9f7a2-f39d-4ec8-ca48-cd7e0b349075"
   },
   "outputs": [],
   "source": [
    "from statsmodels.stats.proportion import proportions_ztest\n",
    "from sklearn.metrics import confusion_matrix\n",
    "import pandas as pd\n",
    "\n",
    "def compute_tpr_components(y_true, y_pred):\n",
    "    tn, fp, fn, tp = confusion_matrix(y_true, y_pred, labels=[0, 1]).ravel()\n",
    "    return tp, fn  # TPR = TP / (TP + FN)\n",
    "\n",
    "def test_tpr_difference(df, group_col, y_true_col='case_status', y_pred_col='prediction'):\n",
    "    values = df[group_col].dropna().unique()\n",
    "    results = []\n",
    "\n",
    "    for i in range(len(values)):\n",
    "        for j in range(i+1, len(values)):\n",
    "            g1, g2 = values[i], values[j]\n",
    "            df1 = df[df[group_col] == g1]\n",
    "            df2 = df[df[group_col] == g2]\n",
    "\n",
    "            if len(df1) < 10 or len(df2) < 10:\n",
    "                continue  # skip small groups\n",
    "\n",
    "            try:\n",
    "                tp1, fn1 = compute_tpr_components(df1[y_true_col], df1[y_pred_col])\n",
    "                tp2, fn2 = compute_tpr_components(df2[y_true_col], df2[y_pred_col])\n",
    "            except:\n",
    "                continue\n",
    "\n",
    "            count = [tp1, tp2]\n",
    "            nobs = [tp1 + fn1, tp2 + fn2]\n",
    "\n",
    "            if min(nobs) == 0:\n",
    "                continue  # skip invalid\n",
    "\n",
    "            stat, pval = proportions_ztest(count, nobs)\n",
    "            if pval < 0.05:\n",
    "                results.append({\n",
    "                    'Demographic': group_col,\n",
    "                    'Group 1': g1,\n",
    "                    'Group 2': g2,\n",
    "                    'TPR 1': f\"{tp1 / nobs[0]:.3f}\",\n",
    "                    'TPR 2': f\"{tp2 / nobs[1]:.3f}\",\n",
    "                    'p-value': round(pval, 4)\n",
    "                })\n",
    "\n",
    "    return pd.DataFrame(results)\n",
    "\n",
    "# === Run for each demographic column ===\n",
    "demographic_groups = ['age_group', 'gender', 'insurance_group', 'language_group',\n",
    "                      'race_group1', 'race_group2', 'race_group3', 'race_group4']\n",
    "\n",
    "for group_col in demographic_groups:\n",
    "    print(f\"\\n=== TPR differences in {group_col} ===\")\n",
    "    df_tpr_diff = test_tpr_difference(final_df[final_df['split']==\"test\"], group_col)\n",
    "    if df_tpr_diff.empty:\n",
    "        print(\"No significant TPR differences.\")\n",
    "    else:\n",
    "        print(df_tpr_diff)\n"
   ]
  },
  {
   "cell_type": "markdown",
   "metadata": {
    "id": "G3itOcVTB54A"
   },
   "source": [
    "## Check Equalized Opportunity Violations - group\n",
    "\n",
    "`chi2_contingency`"
   ]
  },
  {
   "cell_type": "code",
   "execution_count": null,
   "metadata": {
    "colab": {
     "base_uri": "https://localhost:8080/"
    },
    "executionInfo": {
     "elapsed": 57,
     "status": "ok",
     "timestamp": 1746544775826,
     "user": {
      "displayName": "Xingyu Gong",
      "userId": "09190398267093723546"
     },
     "user_tz": 240
    },
    "id": "mOX-3DkLB_5p",
    "outputId": "9ae1e780-895d-4027-82e8-2bbfaebac37c"
   },
   "outputs": [],
   "source": [
    "from sklearn.metrics import confusion_matrix\n",
    "from scipy.stats import chi2_contingency\n",
    "import pandas as pd\n",
    "\n",
    "def chi2_test_tpr(df, group_col, y_true_col='case_status', y_pred_col='prediction'):\n",
    "    table = []\n",
    "    labels = []\n",
    "\n",
    "    for val in df[group_col].dropna().unique():\n",
    "        subset = df[df[group_col] == val]\n",
    "        if len(subset) < 10:\n",
    "            continue\n",
    "\n",
    "        try:\n",
    "            tn, fp, fn, tp = confusion_matrix(subset[y_true_col], subset[y_pred_col], labels=[0,1]).ravel()\n",
    "        except:\n",
    "            continue\n",
    "\n",
    "        table.append([tp, fn])  # TPR = TP / (TP + FN)\n",
    "        labels.append(val)\n",
    "\n",
    "    if len(table) < 2:\n",
    "        return None, None, None\n",
    "\n",
    "    stat, pval, _, expected = chi2_contingency(table)\n",
    "\n",
    "    return pd.DataFrame(table, index=labels, columns=['TP', 'FN']), pval, stat\n",
    "\n",
    "# Example usage:\n",
    "for group in demographic_groups:\n",
    "    print(f\"\\n=== TPR difference test across {group} ===\")\n",
    "    contingency_df, pval, stat = chi2_test_tpr(final_df[final_df['split']==\"test\"], group)\n",
    "\n",
    "    if contingency_df is None:\n",
    "        print(\"Not enough valid groups.\")\n",
    "    else:\n",
    "        print(contingency_df)\n",
    "        print(f\"Chi-squared p-value: {pval:.4f}\")\n",
    "        if pval < 0.05:\n",
    "            print(\"✅ Significant TPR difference across subgroups.\")\n",
    "        else:\n",
    "            print(\"❌ No significant TPR difference across subgroups.\")\n"
   ]
  },
  {
   "cell_type": "markdown",
   "metadata": {
    "id": "dmnXQjiwB2x0"
   },
   "source": []
  },
  {
   "cell_type": "markdown",
   "metadata": {
    "id": "rvcJBdkUBSSY"
   },
   "source": [
    "## Check Predictive Parity Violations -  Pairwise"
   ]
  },
  {
   "cell_type": "code",
   "execution_count": null,
   "metadata": {
    "colab": {
     "base_uri": "https://localhost:8080/"
    },
    "executionInfo": {
     "elapsed": 137,
     "status": "ok",
     "timestamp": 1746544779819,
     "user": {
      "displayName": "Xingyu Gong",
      "userId": "09190398267093723546"
     },
     "user_tz": 240
    },
    "id": "DIQiW_YuCrm8",
    "outputId": "cc34f093-6934-4e55-cab4-03e05615b160"
   },
   "outputs": [],
   "source": [
    "from statsmodels.stats.proportion import proportions_ztest\n",
    "from sklearn.metrics import confusion_matrix\n",
    "import pandas as pd\n",
    "\n",
    "def compute_precision_components(y_true, y_pred):\n",
    "    tn, fp, fn, tp = confusion_matrix(y_true, y_pred, labels=[0, 1]).ravel()\n",
    "    return tp, fp  # Precision = TP / (TP + FP)\n",
    "\n",
    "def test_precision_difference(df, group_col, y_true_col='case_status', y_pred_col='prediction'):\n",
    "    values = df[group_col].dropna().unique()\n",
    "    results = []\n",
    "\n",
    "    for i in range(len(values)):\n",
    "        for j in range(i+1, len(values)):\n",
    "            g1, g2 = values[i], values[j]\n",
    "            df1 = df[df[group_col] == g1]\n",
    "            df2 = df[df[group_col] == g2]\n",
    "\n",
    "            if len(df1) < 10 or len(df2) < 10:\n",
    "                continue  # skip small groups\n",
    "\n",
    "            try:\n",
    "                tp1, fp1 = compute_precision_components(df1[y_true_col], df1[y_pred_col])\n",
    "                tp2, fp2 = compute_precision_components(df2[y_true_col], df2[y_pred_col])\n",
    "            except:\n",
    "                continue\n",
    "\n",
    "            count = [tp1, tp2]\n",
    "            nobs = [tp1 + fp1, tp2 + fp2]\n",
    "\n",
    "            if min(nobs) == 0:\n",
    "                continue  # skip invalid\n",
    "\n",
    "            stat, pval = proportions_ztest(count, nobs)\n",
    "            if pval < 0.05:\n",
    "                results.append({\n",
    "                    'Demographic': group_col,\n",
    "                    'Group 1': g1,\n",
    "                    'Group 2': g2,\n",
    "                    'Precision 1': f\"{tp1 / nobs[0]:.3f}\",\n",
    "                    'Precision 2': f\"{tp2 / nobs[1]:.3f}\",\n",
    "                    'p-value': round(pval, 4)\n",
    "                })\n",
    "\n",
    "    return pd.DataFrame(results)\n",
    "for group_col in demographic_groups:\n",
    "    print(f\"\\n=== Precision differences in {group_col} ===\")\n",
    "    df_precision_diff = test_precision_difference(final_df[final_df['split']==\"test\"], group_col)\n",
    "    if df_precision_diff.empty:\n",
    "        print(\"No significant Precision differences.\")\n",
    "    else:\n",
    "        print(df_precision_diff)"
   ]
  },
  {
   "cell_type": "markdown",
   "metadata": {
    "id": "g30BJa9bCqBi"
   },
   "source": [
    "## Check Predictive Parity Violations -  group"
   ]
  },
  {
   "cell_type": "code",
   "execution_count": null,
   "metadata": {
    "colab": {
     "base_uri": "https://localhost:8080/"
    },
    "executionInfo": {
     "elapsed": 55,
     "status": "ok",
     "timestamp": 1746544790948,
     "user": {
      "displayName": "Xingyu Gong",
      "userId": "09190398267093723546"
     },
     "user_tz": 240
    },
    "id": "qo1kf6iMCutz",
    "outputId": "3f8018b5-bf4c-4ce7-92e4-776d43f2c943"
   },
   "outputs": [],
   "source": [
    "from sklearn.metrics import confusion_matrix\n",
    "from scipy.stats import chi2_contingency\n",
    "import pandas as pd\n",
    "\n",
    "def chi2_test_precision(df, group_col, y_true_col='case_status', y_pred_col='prediction'):\n",
    "    table = []\n",
    "    labels = []\n",
    "\n",
    "    for val in df[group_col].dropna().unique():\n",
    "        subset = df[df[group_col] == val]\n",
    "        if len(subset) < 10:\n",
    "            continue\n",
    "\n",
    "        try:\n",
    "            tn, fp, fn, tp = confusion_matrix(subset[y_true_col], subset[y_pred_col], labels=[0, 1]).ravel()\n",
    "        except:\n",
    "            continue\n",
    "\n",
    "        table.append([tp, fp])  # Precision = TP / (TP + FP)\n",
    "        labels.append(val)\n",
    "\n",
    "    if len(table) < 2:\n",
    "        return None, None, None\n",
    "\n",
    "    stat, pval, _, expected = chi2_contingency(table)\n",
    "\n",
    "    return pd.DataFrame(table, index=labels, columns=['TP', 'FP']), pval, stat\n",
    "\n",
    "for group in demographic_groups:\n",
    "    print(f\"\\n=== Precision difference test across {group} ===\")\n",
    "    contingency_df, pval, stat = chi2_test_precision(final_df[final_df['split']==\"test\"], group)\n",
    "\n",
    "    if contingency_df is None:\n",
    "        print(\"Not enough valid groups.\")\n",
    "    else:\n",
    "        print(contingency_df)\n",
    "        print(f\"Chi-squared p-value: {pval:.4f}\")\n",
    "        if pval < 0.05:\n",
    "            print(\"✅ Significant Precision difference across subgroups.\")\n",
    "        else:\n",
    "            print(\"❌ No significant Precision difference across subgroups.\")"
   ]
  },
  {
   "cell_type": "markdown",
   "metadata": {
    "id": "5KZO8RxDEptc"
   },
   "source": [
    "## Check Equalized odds Violations -  pairwise\n"
   ]
  },
  {
   "cell_type": "code",
   "execution_count": null,
   "metadata": {
    "colab": {
     "base_uri": "https://localhost:8080/"
    },
    "executionInfo": {
     "elapsed": 6256,
     "status": "ok",
     "timestamp": 1746544809470,
     "user": {
      "displayName": "Xingyu Gong",
      "userId": "09190398267093723546"
     },
     "user_tz": 240
    },
    "id": "3TX1azuU9ti5",
    "outputId": "8f7991e9-2080-45d8-c209-690da864c4e3"
   },
   "outputs": [],
   "source": [
    "pip install fairlearn"
   ]
  },
  {
   "cell_type": "code",
   "execution_count": null,
   "metadata": {
    "colab": {
     "base_uri": "https://localhost:8080/"
    },
    "executionInfo": {
     "elapsed": 102024,
     "status": "ok",
     "timestamp": 1746544926107,
     "user": {
      "displayName": "Xingyu Gong",
      "userId": "09190398267093723546"
     },
     "user_tz": 240
    },
    "id": "gwymxBvNEqE0",
    "outputId": "10b1842a-1b18-47e9-e86f-29b870921434"
   },
   "outputs": [],
   "source": [
    "import pandas as pd\n",
    "import numpy as np\n",
    "from fairlearn.metrics import equalized_odds_difference\n",
    "from itertools import combinations\n",
    "from tabulate import tabulate\n",
    "\n",
    "# === Age binning ===\n",
    "def bin_age(df):\n",
    "    bin_edges = [0, 70, 80, 90, float('inf')]\n",
    "    labels = ['<70', '70-80', '80-90', '>90']\n",
    "    df['age_group'] = pd.cut(df['age'], bins=bin_edges, labels=labels, right=False)\n",
    "    return df\n",
    "\n",
    "# === Bootstrap EOD for two subgroups only ===\n",
    "def bootstrap_pairwise_eod(y_true, y_pred, sensitive_features, n_iterations=100):\n",
    "    eods = []\n",
    "    data = pd.DataFrame({'y_true': y_true, 'y_pred': y_pred, 'sensitive': sensitive_features})\n",
    "\n",
    "    for _ in range(n_iterations):\n",
    "        sample = data.sample(frac=1.0, replace=True)\n",
    "        try:\n",
    "            eod = equalized_odds_difference(sample['y_true'], sample['y_pred'], sensitive_features=sample['sensitive'])\n",
    "            eods.append(eod)\n",
    "        except:\n",
    "            continue\n",
    "\n",
    "    if len(eods) == 0:\n",
    "        return (np.nan, np.nan)\n",
    "\n",
    "    return (\n",
    "        np.nanpercentile(eods, 2.5),\n",
    "        np.nanpercentile(eods, 97.5)\n",
    "    )\n",
    "\n",
    "# === Apply age binning ===\n",
    "final_df = bin_age(final_df)\n",
    "\n",
    "# === Filter to test set only ===\n",
    "test_data = final_df[final_df['split'] == 'test']\n",
    "\n",
    "# === Demographic groups ===\n",
    "demographic_groups = ['age_group', 'gender', 'insurance_group', 'language_group',\n",
    "                      'race_group1', 'race_group2', 'race_group3', 'race_group4']\n",
    "\n",
    "# === Pairwise EOD comparisons on test set ===\n",
    "records = []\n",
    "\n",
    "for group in demographic_groups:\n",
    "    if group not in test_data.columns:\n",
    "        continue\n",
    "\n",
    "    group_values = test_data[group].dropna().unique()\n",
    "\n",
    "    for g1, g2 in combinations(group_values, 2):\n",
    "        pair_df = test_data[test_data[group].isin([g1, g2])]\n",
    "        if len(pair_df) < 20:\n",
    "            continue  # skip small pair\n",
    "\n",
    "        y_true = pair_df['case_status']\n",
    "        y_pred = pair_df['prediction']\n",
    "        sensitive_pair = pair_df[group]\n",
    "\n",
    "        # Compute bootstrapped EOD CI\n",
    "        eod_low, eod_high = bootstrap_pairwise_eod(y_true, y_pred, sensitive_pair)\n",
    "\n",
    "        records.append({\n",
    "            'Group': group,\n",
    "            'Subgroup 1': g1,\n",
    "            'Subgroup 2': g2,\n",
    "            'EOD (95% CI)': f\"{eod_low:.3f}–{eod_high:.3f}\",\n",
    "            'Sample Size': len(pair_df),\n",
    "            'Flag (EOD > 0.1)': '⚠️' if eod_low > 0.1 else ''\n",
    "        })\n",
    "\n",
    "# === Print nicely ===\n",
    "df_pairwise = pd.DataFrame(records)\n",
    "print(\"\\n=== Test Set Pairwise Equalized Odds Report ===\")\n",
    "print(tabulate(df_pairwise, headers=\"keys\", tablefmt=\"fancy_grid\", showindex=False))\n"
   ]
  },
  {
   "cell_type": "markdown",
   "metadata": {
    "id": "G2q1LLYF--Xj"
   },
   "source": [
    "## Check Equalized odds Violations -  group\n",
    "\n",
    "https://fairlearn.org/v0.7.0/api_reference/fairlearn.metrics.html\n",
    "\n",
    "fairlearn.metrics.equalized_odds_difference(y_true, y_pred, *, sensitive_features, method='between_groups', sample_weight=None)[source]\n",
    "Calculate the equalized odds difference.\n",
    "\n",
    "The greater of two metrics: true_positive_rate_difference and false_positive_rate_difference. The former is the difference between the largest and smallest of\n",
    ", across all values\n",
    " of the sensitive feature(s). The latter is defined similarly, but for\n",
    ". The equalized odds difference of 0 means that all groups have the same true positive, true negative, false positive, and false negative rates."
   ]
  },
  {
   "cell_type": "code",
   "execution_count": null,
   "metadata": {
    "colab": {
     "base_uri": "https://localhost:8080/"
    },
    "executionInfo": {
     "elapsed": 40015,
     "status": "ok",
     "timestamp": 1746544966116,
     "user": {
      "displayName": "Xingyu Gong",
      "userId": "09190398267093723546"
     },
     "user_tz": 240
    },
    "id": "dKhHpVIs5tiq",
    "outputId": "eddbe4c6-be64-4c42-e296-114bc3ebbe5a"
   },
   "outputs": [],
   "source": [
    "import pandas as pd\n",
    "import numpy as np\n",
    "from fairlearn.metrics import equalized_odds_difference\n",
    "\n",
    "# === Age binning ===\n",
    "def bin_age(df):\n",
    "    bin_edges = [0, 70, 80, 90, float('inf')]\n",
    "    labels = ['<70', '70-80', '80-90', '>90']\n",
    "    df['age_group'] = pd.cut(df['age'], bins=bin_edges, labels=labels, right=False)\n",
    "    return df\n",
    "\n",
    "# === Bootstrap EOD CI only ===\n",
    "def bootstrap_eod(y_true, y_pred, sensitive_features, n_iterations=100):\n",
    "    eods = []\n",
    "    data = pd.DataFrame({'y_true': y_true, 'y_pred': y_pred, 'sensitive': sensitive_features})\n",
    "\n",
    "    for _ in range(n_iterations):\n",
    "        sample = data.sample(frac=1.0, replace=True)\n",
    "        try:\n",
    "            eod = equalized_odds_difference(sample['y_true'], sample['y_pred'], sensitive_features=sample['sensitive'])\n",
    "            eods.append(eod)\n",
    "        except:\n",
    "            continue\n",
    "\n",
    "    if len(eods) == 0:\n",
    "        return (np.nan, np.nan)\n",
    "\n",
    "    return (\n",
    "        np.nanpercentile(eods, 2.5),\n",
    "        np.nanpercentile(eods, 97.5)\n",
    "    )\n",
    "\n",
    "# === Apply age binning ===\n",
    "final_df = bin_age(final_df)\n",
    "\n",
    "# === Split data ===\n",
    "test_data = final_df[final_df['split'] == 'test']\n",
    "train_data = final_df[final_df['split'] == 'train']\n",
    "\n",
    "# === Demographic groups ===\n",
    "demographic_groups = ['age_group', 'gender', 'insurance_group', 'language_group',\n",
    "                      'race_group1', 'race_group2', 'race_group3', 'race_group4']\n",
    "\n",
    "# === Run analysis for Train and Test ===\n",
    "for data_split_name, data in zip(['Train', 'Test'], [train_data, test_data]):\n",
    "    records = []\n",
    "\n",
    "    for group in demographic_groups:\n",
    "        if group not in data.columns:\n",
    "            continue\n",
    "\n",
    "        sensitive = data[group]\n",
    "        valid = sensitive.notna()\n",
    "        y_true = data.loc[valid, 'case_status']\n",
    "        y_pred = data.loc[valid, 'prediction']\n",
    "        sensitive_group = sensitive[valid]\n",
    "\n",
    "        if len(sensitive_group.unique()) < 2:\n",
    "            continue  # skip if only one group value\n",
    "\n",
    "        # Compute EOD CI\n",
    "        eod_low, eod_high = bootstrap_eod(y_true, y_pred, sensitive_group)\n",
    "\n",
    "        records.append({\n",
    "            'Group': group,\n",
    "            'Equalized Odds Difference (95% CI)': f\"{eod_low:.3f}–{eod_high:.3f}\",\n",
    "            'Sample Size': len(sensitive_group),\n",
    "            'Flag (EOD > 0.1)': '⚠️' if eod_low > 0.1 else ''\n",
    "        })\n",
    "\n",
    "    # Create and display results\n",
    "    df_metrics = pd.DataFrame(records)\n",
    "    df_metrics.set_index('Group', inplace=True)\n",
    "\n",
    "    print(f\"\\n=== {data_split_name} Equalized Odds Report ===\")\n",
    "    print(df_metrics)\n"
   ]
  }
 ],
 "metadata": {
  "colab": {
   "provenance": []
  },
  "kernelspec": {
   "display_name": "Python 3",
   "name": "python3"
  },
  "language_info": {
   "name": "python"
  },
  "widgets": {
   "application/vnd.jupyter.widget-state+json": {
    "025769de9a5647df83226ed91d61040c": {
     "model_module": "@jupyter-widgets/controls",
     "model_module_version": "1.5.0",
     "model_name": "DescriptionStyleModel",
     "state": {
      "_model_module": "@jupyter-widgets/controls",
      "_model_module_version": "1.5.0",
      "_model_name": "DescriptionStyleModel",
      "_view_count": null,
      "_view_module": "@jupyter-widgets/base",
      "_view_module_version": "1.2.0",
      "_view_name": "StyleView",
      "description_width": ""
     }
    },
    "0a690585b6b447b19d872c813b6b2212": {
     "model_module": "@jupyter-widgets/controls",
     "model_module_version": "1.5.0",
     "model_name": "DescriptionStyleModel",
     "state": {
      "_model_module": "@jupyter-widgets/controls",
      "_model_module_version": "1.5.0",
      "_model_name": "DescriptionStyleModel",
      "_view_count": null,
      "_view_module": "@jupyter-widgets/base",
      "_view_module_version": "1.2.0",
      "_view_name": "StyleView",
      "description_width": ""
     }
    },
    "0c634c433d9144ebb8b9d44083653d7d": {
     "model_module": "@jupyter-widgets/controls",
     "model_module_version": "1.5.0",
     "model_name": "HTMLModel",
     "state": {
      "_dom_classes": [],
      "_model_module": "@jupyter-widgets/controls",
      "_model_module_version": "1.5.0",
      "_model_name": "HTMLModel",
      "_view_count": null,
      "_view_module": "@jupyter-widgets/controls",
      "_view_module_version": "1.5.0",
      "_view_name": "HTMLView",
      "description": "",
      "description_tooltip": null,
      "layout": "IPY_MODEL_eebac5c985df4f41921a772b2922e391",
      "placeholder": "​",
      "style": "IPY_MODEL_347d3d0337414c4c932c2d38ae037321",
      "value": " 436M/436M [00:02&lt;00:00, 222MB/s]"
     }
    },
    "143d36de6eb5418ca9dc98d69d30213d": {
     "model_module": "@jupyter-widgets/base",
     "model_module_version": "1.2.0",
     "model_name": "LayoutModel",
     "state": {
      "_model_module": "@jupyter-widgets/base",
      "_model_module_version": "1.2.0",
      "_model_name": "LayoutModel",
      "_view_count": null,
      "_view_module": "@jupyter-widgets/base",
      "_view_module_version": "1.2.0",
      "_view_name": "LayoutView",
      "align_content": null,
      "align_items": null,
      "align_self": null,
      "border": null,
      "bottom": null,
      "display": null,
      "flex": null,
      "flex_flow": null,
      "grid_area": null,
      "grid_auto_columns": null,
      "grid_auto_flow": null,
      "grid_auto_rows": null,
      "grid_column": null,
      "grid_gap": null,
      "grid_row": null,
      "grid_template_areas": null,
      "grid_template_columns": null,
      "grid_template_rows": null,
      "height": null,
      "justify_content": null,
      "justify_items": null,
      "left": null,
      "margin": null,
      "max_height": null,
      "max_width": null,
      "min_height": null,
      "min_width": null,
      "object_fit": null,
      "object_position": null,
      "order": null,
      "overflow": null,
      "overflow_x": null,
      "overflow_y": null,
      "padding": null,
      "right": null,
      "top": null,
      "visibility": null,
      "width": null
     }
    },
    "15648356f7f54faaaacdcb9dfd8eecc2": {
     "model_module": "@jupyter-widgets/base",
     "model_module_version": "1.2.0",
     "model_name": "LayoutModel",
     "state": {
      "_model_module": "@jupyter-widgets/base",
      "_model_module_version": "1.2.0",
      "_model_name": "LayoutModel",
      "_view_count": null,
      "_view_module": "@jupyter-widgets/base",
      "_view_module_version": "1.2.0",
      "_view_name": "LayoutView",
      "align_content": null,
      "align_items": null,
      "align_self": null,
      "border": null,
      "bottom": null,
      "display": null,
      "flex": null,
      "flex_flow": null,
      "grid_area": null,
      "grid_auto_columns": null,
      "grid_auto_flow": null,
      "grid_auto_rows": null,
      "grid_column": null,
      "grid_gap": null,
      "grid_row": null,
      "grid_template_areas": null,
      "grid_template_columns": null,
      "grid_template_rows": null,
      "height": null,
      "justify_content": null,
      "justify_items": null,
      "left": null,
      "margin": null,
      "max_height": null,
      "max_width": null,
      "min_height": null,
      "min_width": null,
      "object_fit": null,
      "object_position": null,
      "order": null,
      "overflow": null,
      "overflow_x": null,
      "overflow_y": null,
      "padding": null,
      "right": null,
      "top": null,
      "visibility": null,
      "width": null
     }
    },
    "17478cc22f74470682820f5584390ec2": {
     "model_module": "@jupyter-widgets/controls",
     "model_module_version": "1.5.0",
     "model_name": "DescriptionStyleModel",
     "state": {
      "_model_module": "@jupyter-widgets/controls",
      "_model_module_version": "1.5.0",
      "_model_name": "DescriptionStyleModel",
      "_view_count": null,
      "_view_module": "@jupyter-widgets/base",
      "_view_module_version": "1.2.0",
      "_view_name": "StyleView",
      "description_width": ""
     }
    },
    "1782b7578f6a4a4496eb638695425cbb": {
     "model_module": "@jupyter-widgets/controls",
     "model_module_version": "1.5.0",
     "model_name": "HTMLModel",
     "state": {
      "_dom_classes": [],
      "_model_module": "@jupyter-widgets/controls",
      "_model_module_version": "1.5.0",
      "_model_name": "HTMLModel",
      "_view_count": null,
      "_view_module": "@jupyter-widgets/controls",
      "_view_module_version": "1.5.0",
      "_view_name": "HTMLView",
      "description": "",
      "description_tooltip": null,
      "layout": "IPY_MODEL_7ef4860054444534a033461c703b122a",
      "placeholder": "​",
      "style": "IPY_MODEL_025769de9a5647df83226ed91d61040c",
      "value": "config.json: 100%"
     }
    },
    "1e59feab48594ff192986fc7b2aa76f1": {
     "model_module": "@jupyter-widgets/controls",
     "model_module_version": "1.5.0",
     "model_name": "HBoxModel",
     "state": {
      "_dom_classes": [],
      "_model_module": "@jupyter-widgets/controls",
      "_model_module_version": "1.5.0",
      "_model_name": "HBoxModel",
      "_view_count": null,
      "_view_module": "@jupyter-widgets/controls",
      "_view_module_version": "1.5.0",
      "_view_name": "HBoxView",
      "box_style": "",
      "children": [
       "IPY_MODEL_b74a0512ff1446abb79a1fd111fad6e5",
       "IPY_MODEL_3580f0bf10c34cb6ba42c75de626738d",
       "IPY_MODEL_8d3bcf61611a4d4aa4ee5309bb4d329b"
      ],
      "layout": "IPY_MODEL_143d36de6eb5418ca9dc98d69d30213d"
     }
    },
    "21bdb9109aa8400e94871e2f670c1bb2": {
     "model_module": "@jupyter-widgets/controls",
     "model_module_version": "1.5.0",
     "model_name": "DescriptionStyleModel",
     "state": {
      "_model_module": "@jupyter-widgets/controls",
      "_model_module_version": "1.5.0",
      "_model_name": "DescriptionStyleModel",
      "_view_count": null,
      "_view_module": "@jupyter-widgets/base",
      "_view_module_version": "1.2.0",
      "_view_name": "StyleView",
      "description_width": ""
     }
    },
    "347d3d0337414c4c932c2d38ae037321": {
     "model_module": "@jupyter-widgets/controls",
     "model_module_version": "1.5.0",
     "model_name": "DescriptionStyleModel",
     "state": {
      "_model_module": "@jupyter-widgets/controls",
      "_model_module_version": "1.5.0",
      "_model_name": "DescriptionStyleModel",
      "_view_count": null,
      "_view_module": "@jupyter-widgets/base",
      "_view_module_version": "1.2.0",
      "_view_name": "StyleView",
      "description_width": ""
     }
    },
    "3580f0bf10c34cb6ba42c75de626738d": {
     "model_module": "@jupyter-widgets/controls",
     "model_module_version": "1.5.0",
     "model_name": "FloatProgressModel",
     "state": {
      "_dom_classes": [],
      "_model_module": "@jupyter-widgets/controls",
      "_model_module_version": "1.5.0",
      "_model_name": "FloatProgressModel",
      "_view_count": null,
      "_view_module": "@jupyter-widgets/controls",
      "_view_module_version": "1.5.0",
      "_view_name": "ProgressView",
      "bar_style": "success",
      "description": "",
      "description_tooltip": null,
      "layout": "IPY_MODEL_b00c9f0f06924a1887e231695ec88c17",
      "max": 213450,
      "min": 0,
      "orientation": "horizontal",
      "style": "IPY_MODEL_ad6d888956a749d0a3bc9fa0627e3af1",
      "value": 213450
     }
    },
    "40b7051ad7ce45ea843da5674d26a67f": {
     "model_module": "@jupyter-widgets/controls",
     "model_module_version": "1.5.0",
     "model_name": "HTMLModel",
     "state": {
      "_dom_classes": [],
      "_model_module": "@jupyter-widgets/controls",
      "_model_module_version": "1.5.0",
      "_model_name": "HTMLModel",
      "_view_count": null,
      "_view_module": "@jupyter-widgets/controls",
      "_view_module_version": "1.5.0",
      "_view_name": "HTMLView",
      "description": "",
      "description_tooltip": null,
      "layout": "IPY_MODEL_e343377543de4bd4ba0c93e6ef610c82",
      "placeholder": "​",
      "style": "IPY_MODEL_17478cc22f74470682820f5584390ec2",
      "value": "model.safetensors: 100%"
     }
    },
    "4c6ac60b09f842d99f127699f75c4530": {
     "model_module": "@jupyter-widgets/controls",
     "model_module_version": "1.5.0",
     "model_name": "DescriptionStyleModel",
     "state": {
      "_model_module": "@jupyter-widgets/controls",
      "_model_module_version": "1.5.0",
      "_model_name": "DescriptionStyleModel",
      "_view_count": null,
      "_view_module": "@jupyter-widgets/base",
      "_view_module_version": "1.2.0",
      "_view_name": "StyleView",
      "description_width": ""
     }
    },
    "5284265c898f4670ba22c1783edc31e4": {
     "model_module": "@jupyter-widgets/controls",
     "model_module_version": "1.5.0",
     "model_name": "ProgressStyleModel",
     "state": {
      "_model_module": "@jupyter-widgets/controls",
      "_model_module_version": "1.5.0",
      "_model_name": "ProgressStyleModel",
      "_view_count": null,
      "_view_module": "@jupyter-widgets/base",
      "_view_module_version": "1.2.0",
      "_view_name": "StyleView",
      "bar_color": null,
      "description_width": ""
     }
    },
    "554340f828134874849611e72637a7d9": {
     "model_module": "@jupyter-widgets/base",
     "model_module_version": "1.2.0",
     "model_name": "LayoutModel",
     "state": {
      "_model_module": "@jupyter-widgets/base",
      "_model_module_version": "1.2.0",
      "_model_name": "LayoutModel",
      "_view_count": null,
      "_view_module": "@jupyter-widgets/base",
      "_view_module_version": "1.2.0",
      "_view_name": "LayoutView",
      "align_content": null,
      "align_items": null,
      "align_self": null,
      "border": null,
      "bottom": null,
      "display": null,
      "flex": null,
      "flex_flow": null,
      "grid_area": null,
      "grid_auto_columns": null,
      "grid_auto_flow": null,
      "grid_auto_rows": null,
      "grid_column": null,
      "grid_gap": null,
      "grid_row": null,
      "grid_template_areas": null,
      "grid_template_columns": null,
      "grid_template_rows": null,
      "height": null,
      "justify_content": null,
      "justify_items": null,
      "left": null,
      "margin": null,
      "max_height": null,
      "max_width": null,
      "min_height": null,
      "min_width": null,
      "object_fit": null,
      "object_position": null,
      "order": null,
      "overflow": null,
      "overflow_x": null,
      "overflow_y": null,
      "padding": null,
      "right": null,
      "top": null,
      "visibility": null,
      "width": null
     }
    },
    "56158f7393ec45408611ad70d0dba919": {
     "model_module": "@jupyter-widgets/controls",
     "model_module_version": "1.5.0",
     "model_name": "ProgressStyleModel",
     "state": {
      "_model_module": "@jupyter-widgets/controls",
      "_model_module_version": "1.5.0",
      "_model_name": "ProgressStyleModel",
      "_view_count": null,
      "_view_module": "@jupyter-widgets/base",
      "_view_module_version": "1.2.0",
      "_view_name": "StyleView",
      "bar_color": null,
      "description_width": ""
     }
    },
    "568bb805fa21446a828781ac56a0ea18": {
     "model_module": "@jupyter-widgets/controls",
     "model_module_version": "1.5.0",
     "model_name": "HBoxModel",
     "state": {
      "_dom_classes": [],
      "_model_module": "@jupyter-widgets/controls",
      "_model_module_version": "1.5.0",
      "_model_name": "HBoxModel",
      "_view_count": null,
      "_view_module": "@jupyter-widgets/controls",
      "_view_module_version": "1.5.0",
      "_view_name": "HBoxView",
      "box_style": "",
      "children": [
       "IPY_MODEL_d597a1c73e2c4cbaade74ed97d781779",
       "IPY_MODEL_a7617c30c12c44f3909e83a1f2fb25cc",
       "IPY_MODEL_0c634c433d9144ebb8b9d44083653d7d"
      ],
      "layout": "IPY_MODEL_d5f12478f6374440847d764c1e58cdc1"
     }
    },
    "5c5f20472ca54d8ca48988a91a9bbea6": {
     "model_module": "@jupyter-widgets/controls",
     "model_module_version": "1.5.0",
     "model_name": "FloatProgressModel",
     "state": {
      "_dom_classes": [],
      "_model_module": "@jupyter-widgets/controls",
      "_model_module_version": "1.5.0",
      "_model_name": "FloatProgressModel",
      "_view_count": null,
      "_view_module": "@jupyter-widgets/controls",
      "_view_module_version": "1.5.0",
      "_view_name": "ProgressView",
      "bar_style": "success",
      "description": "",
      "description_tooltip": null,
      "layout": "IPY_MODEL_dee9ff03779a434d90ff6416369baa1a",
      "max": 435755888,
      "min": 0,
      "orientation": "horizontal",
      "style": "IPY_MODEL_5284265c898f4670ba22c1783edc31e4",
      "value": 435755888
     }
    },
    "60d661b945174fb884533ff726f20a44": {
     "model_module": "@jupyter-widgets/base",
     "model_module_version": "1.2.0",
     "model_name": "LayoutModel",
     "state": {
      "_model_module": "@jupyter-widgets/base",
      "_model_module_version": "1.2.0",
      "_model_name": "LayoutModel",
      "_view_count": null,
      "_view_module": "@jupyter-widgets/base",
      "_view_module_version": "1.2.0",
      "_view_name": "LayoutView",
      "align_content": null,
      "align_items": null,
      "align_self": null,
      "border": null,
      "bottom": null,
      "display": null,
      "flex": null,
      "flex_flow": null,
      "grid_area": null,
      "grid_auto_columns": null,
      "grid_auto_flow": null,
      "grid_auto_rows": null,
      "grid_column": null,
      "grid_gap": null,
      "grid_row": null,
      "grid_template_areas": null,
      "grid_template_columns": null,
      "grid_template_rows": null,
      "height": null,
      "justify_content": null,
      "justify_items": null,
      "left": null,
      "margin": null,
      "max_height": null,
      "max_width": null,
      "min_height": null,
      "min_width": null,
      "object_fit": null,
      "object_position": null,
      "order": null,
      "overflow": null,
      "overflow_x": null,
      "overflow_y": null,
      "padding": null,
      "right": null,
      "top": null,
      "visibility": null,
      "width": null
     }
    },
    "6975400a498f4680b6fe4d0009b4e252": {
     "model_module": "@jupyter-widgets/controls",
     "model_module_version": "1.5.0",
     "model_name": "HBoxModel",
     "state": {
      "_dom_classes": [],
      "_model_module": "@jupyter-widgets/controls",
      "_model_module_version": "1.5.0",
      "_model_name": "HBoxModel",
      "_view_count": null,
      "_view_module": "@jupyter-widgets/controls",
      "_view_module_version": "1.5.0",
      "_view_name": "HBoxView",
      "box_style": "",
      "children": [
       "IPY_MODEL_1782b7578f6a4a4496eb638695425cbb",
       "IPY_MODEL_e5c713d7b635477399812419277464b2",
       "IPY_MODEL_bda9c4482e3a4adbb58c593e84d13b6d"
      ],
      "layout": "IPY_MODEL_554340f828134874849611e72637a7d9"
     }
    },
    "6e0e4bb0fa1d42a9ab13d90c21b73204": {
     "model_module": "@jupyter-widgets/controls",
     "model_module_version": "1.5.0",
     "model_name": "HTMLModel",
     "state": {
      "_dom_classes": [],
      "_model_module": "@jupyter-widgets/controls",
      "_model_module_version": "1.5.0",
      "_model_name": "HTMLModel",
      "_view_count": null,
      "_view_module": "@jupyter-widgets/controls",
      "_view_module_version": "1.5.0",
      "_view_name": "HTMLView",
      "description": "",
      "description_tooltip": null,
      "layout": "IPY_MODEL_88f6992b7458495783030767539d535e",
      "placeholder": "​",
      "style": "IPY_MODEL_4c6ac60b09f842d99f127699f75c4530",
      "value": " 436M/436M [00:02&lt;00:00, 172MB/s]"
     }
    },
    "7ef4860054444534a033461c703b122a": {
     "model_module": "@jupyter-widgets/base",
     "model_module_version": "1.2.0",
     "model_name": "LayoutModel",
     "state": {
      "_model_module": "@jupyter-widgets/base",
      "_model_module_version": "1.2.0",
      "_model_name": "LayoutModel",
      "_view_count": null,
      "_view_module": "@jupyter-widgets/base",
      "_view_module_version": "1.2.0",
      "_view_name": "LayoutView",
      "align_content": null,
      "align_items": null,
      "align_self": null,
      "border": null,
      "bottom": null,
      "display": null,
      "flex": null,
      "flex_flow": null,
      "grid_area": null,
      "grid_auto_columns": null,
      "grid_auto_flow": null,
      "grid_auto_rows": null,
      "grid_column": null,
      "grid_gap": null,
      "grid_row": null,
      "grid_template_areas": null,
      "grid_template_columns": null,
      "grid_template_rows": null,
      "height": null,
      "justify_content": null,
      "justify_items": null,
      "left": null,
      "margin": null,
      "max_height": null,
      "max_width": null,
      "min_height": null,
      "min_width": null,
      "object_fit": null,
      "object_position": null,
      "order": null,
      "overflow": null,
      "overflow_x": null,
      "overflow_y": null,
      "padding": null,
      "right": null,
      "top": null,
      "visibility": null,
      "width": null
     }
    },
    "888e8a88a41041568be461947ff23a57": {
     "model_module": "@jupyter-widgets/controls",
     "model_module_version": "1.5.0",
     "model_name": "HBoxModel",
     "state": {
      "_dom_classes": [],
      "_model_module": "@jupyter-widgets/controls",
      "_model_module_version": "1.5.0",
      "_model_name": "HBoxModel",
      "_view_count": null,
      "_view_module": "@jupyter-widgets/controls",
      "_view_module_version": "1.5.0",
      "_view_name": "HBoxView",
      "box_style": "",
      "children": [
       "IPY_MODEL_40b7051ad7ce45ea843da5674d26a67f",
       "IPY_MODEL_5c5f20472ca54d8ca48988a91a9bbea6",
       "IPY_MODEL_6e0e4bb0fa1d42a9ab13d90c21b73204"
      ],
      "layout": "IPY_MODEL_e805661b0ffc4ffeb5a07efecc2f0a93"
     }
    },
    "88f6992b7458495783030767539d535e": {
     "model_module": "@jupyter-widgets/base",
     "model_module_version": "1.2.0",
     "model_name": "LayoutModel",
     "state": {
      "_model_module": "@jupyter-widgets/base",
      "_model_module_version": "1.2.0",
      "_model_name": "LayoutModel",
      "_view_count": null,
      "_view_module": "@jupyter-widgets/base",
      "_view_module_version": "1.2.0",
      "_view_name": "LayoutView",
      "align_content": null,
      "align_items": null,
      "align_self": null,
      "border": null,
      "bottom": null,
      "display": null,
      "flex": null,
      "flex_flow": null,
      "grid_area": null,
      "grid_auto_columns": null,
      "grid_auto_flow": null,
      "grid_auto_rows": null,
      "grid_column": null,
      "grid_gap": null,
      "grid_row": null,
      "grid_template_areas": null,
      "grid_template_columns": null,
      "grid_template_rows": null,
      "height": null,
      "justify_content": null,
      "justify_items": null,
      "left": null,
      "margin": null,
      "max_height": null,
      "max_width": null,
      "min_height": null,
      "min_width": null,
      "object_fit": null,
      "object_position": null,
      "order": null,
      "overflow": null,
      "overflow_x": null,
      "overflow_y": null,
      "padding": null,
      "right": null,
      "top": null,
      "visibility": null,
      "width": null
     }
    },
    "8d3bcf61611a4d4aa4ee5309bb4d329b": {
     "model_module": "@jupyter-widgets/controls",
     "model_module_version": "1.5.0",
     "model_name": "HTMLModel",
     "state": {
      "_dom_classes": [],
      "_model_module": "@jupyter-widgets/controls",
      "_model_module_version": "1.5.0",
      "_model_name": "HTMLModel",
      "_view_count": null,
      "_view_module": "@jupyter-widgets/controls",
      "_view_module_version": "1.5.0",
      "_view_name": "HTMLView",
      "description": "",
      "description_tooltip": null,
      "layout": "IPY_MODEL_f9418ea671724635a2b56e5d4ec40e32",
      "placeholder": "​",
      "style": "IPY_MODEL_99816e1ceb21472683bcd95043c39dda",
      "value": " 213k/213k [00:00&lt;00:00, 4.54MB/s]"
     }
    },
    "99816e1ceb21472683bcd95043c39dda": {
     "model_module": "@jupyter-widgets/controls",
     "model_module_version": "1.5.0",
     "model_name": "DescriptionStyleModel",
     "state": {
      "_model_module": "@jupyter-widgets/controls",
      "_model_module_version": "1.5.0",
      "_model_name": "DescriptionStyleModel",
      "_view_count": null,
      "_view_module": "@jupyter-widgets/base",
      "_view_module_version": "1.2.0",
      "_view_name": "StyleView",
      "description_width": ""
     }
    },
    "9b4f76cbeb6a4827b3a850e3c811b6c1": {
     "model_module": "@jupyter-widgets/controls",
     "model_module_version": "1.5.0",
     "model_name": "DescriptionStyleModel",
     "state": {
      "_model_module": "@jupyter-widgets/controls",
      "_model_module_version": "1.5.0",
      "_model_name": "DescriptionStyleModel",
      "_view_count": null,
      "_view_module": "@jupyter-widgets/base",
      "_view_module_version": "1.2.0",
      "_view_name": "StyleView",
      "description_width": ""
     }
    },
    "9d6e252a950f43e9b9647532ddfd4732": {
     "model_module": "@jupyter-widgets/base",
     "model_module_version": "1.2.0",
     "model_name": "LayoutModel",
     "state": {
      "_model_module": "@jupyter-widgets/base",
      "_model_module_version": "1.2.0",
      "_model_name": "LayoutModel",
      "_view_count": null,
      "_view_module": "@jupyter-widgets/base",
      "_view_module_version": "1.2.0",
      "_view_name": "LayoutView",
      "align_content": null,
      "align_items": null,
      "align_self": null,
      "border": null,
      "bottom": null,
      "display": null,
      "flex": null,
      "flex_flow": null,
      "grid_area": null,
      "grid_auto_columns": null,
      "grid_auto_flow": null,
      "grid_auto_rows": null,
      "grid_column": null,
      "grid_gap": null,
      "grid_row": null,
      "grid_template_areas": null,
      "grid_template_columns": null,
      "grid_template_rows": null,
      "height": null,
      "justify_content": null,
      "justify_items": null,
      "left": null,
      "margin": null,
      "max_height": null,
      "max_width": null,
      "min_height": null,
      "min_width": null,
      "object_fit": null,
      "object_position": null,
      "order": null,
      "overflow": null,
      "overflow_x": null,
      "overflow_y": null,
      "padding": null,
      "right": null,
      "top": null,
      "visibility": null,
      "width": null
     }
    },
    "a7617c30c12c44f3909e83a1f2fb25cc": {
     "model_module": "@jupyter-widgets/controls",
     "model_module_version": "1.5.0",
     "model_name": "FloatProgressModel",
     "state": {
      "_dom_classes": [],
      "_model_module": "@jupyter-widgets/controls",
      "_model_module_version": "1.5.0",
      "_model_name": "FloatProgressModel",
      "_view_count": null,
      "_view_module": "@jupyter-widgets/controls",
      "_view_module_version": "1.5.0",
      "_view_name": "ProgressView",
      "bar_style": "success",
      "description": "",
      "description_tooltip": null,
      "layout": "IPY_MODEL_60d661b945174fb884533ff726f20a44",
      "max": 435778770,
      "min": 0,
      "orientation": "horizontal",
      "style": "IPY_MODEL_ec46cfec0fa94f79966b09c69a036cc7",
      "value": 435778770
     }
    },
    "a813ad1beedf42efb1b793e9704e3625": {
     "model_module": "@jupyter-widgets/base",
     "model_module_version": "1.2.0",
     "model_name": "LayoutModel",
     "state": {
      "_model_module": "@jupyter-widgets/base",
      "_model_module_version": "1.2.0",
      "_model_name": "LayoutModel",
      "_view_count": null,
      "_view_module": "@jupyter-widgets/base",
      "_view_module_version": "1.2.0",
      "_view_name": "LayoutView",
      "align_content": null,
      "align_items": null,
      "align_self": null,
      "border": null,
      "bottom": null,
      "display": null,
      "flex": null,
      "flex_flow": null,
      "grid_area": null,
      "grid_auto_columns": null,
      "grid_auto_flow": null,
      "grid_auto_rows": null,
      "grid_column": null,
      "grid_gap": null,
      "grid_row": null,
      "grid_template_areas": null,
      "grid_template_columns": null,
      "grid_template_rows": null,
      "height": null,
      "justify_content": null,
      "justify_items": null,
      "left": null,
      "margin": null,
      "max_height": null,
      "max_width": null,
      "min_height": null,
      "min_width": null,
      "object_fit": null,
      "object_position": null,
      "order": null,
      "overflow": null,
      "overflow_x": null,
      "overflow_y": null,
      "padding": null,
      "right": null,
      "top": null,
      "visibility": null,
      "width": null
     }
    },
    "ad6d888956a749d0a3bc9fa0627e3af1": {
     "model_module": "@jupyter-widgets/controls",
     "model_module_version": "1.5.0",
     "model_name": "ProgressStyleModel",
     "state": {
      "_model_module": "@jupyter-widgets/controls",
      "_model_module_version": "1.5.0",
      "_model_name": "ProgressStyleModel",
      "_view_count": null,
      "_view_module": "@jupyter-widgets/base",
      "_view_module_version": "1.2.0",
      "_view_name": "StyleView",
      "bar_color": null,
      "description_width": ""
     }
    },
    "b00c9f0f06924a1887e231695ec88c17": {
     "model_module": "@jupyter-widgets/base",
     "model_module_version": "1.2.0",
     "model_name": "LayoutModel",
     "state": {
      "_model_module": "@jupyter-widgets/base",
      "_model_module_version": "1.2.0",
      "_model_name": "LayoutModel",
      "_view_count": null,
      "_view_module": "@jupyter-widgets/base",
      "_view_module_version": "1.2.0",
      "_view_name": "LayoutView",
      "align_content": null,
      "align_items": null,
      "align_self": null,
      "border": null,
      "bottom": null,
      "display": null,
      "flex": null,
      "flex_flow": null,
      "grid_area": null,
      "grid_auto_columns": null,
      "grid_auto_flow": null,
      "grid_auto_rows": null,
      "grid_column": null,
      "grid_gap": null,
      "grid_row": null,
      "grid_template_areas": null,
      "grid_template_columns": null,
      "grid_template_rows": null,
      "height": null,
      "justify_content": null,
      "justify_items": null,
      "left": null,
      "margin": null,
      "max_height": null,
      "max_width": null,
      "min_height": null,
      "min_width": null,
      "object_fit": null,
      "object_position": null,
      "order": null,
      "overflow": null,
      "overflow_x": null,
      "overflow_y": null,
      "padding": null,
      "right": null,
      "top": null,
      "visibility": null,
      "width": null
     }
    },
    "b6e4535ad5e1483380bfc34cf4317d40": {
     "model_module": "@jupyter-widgets/base",
     "model_module_version": "1.2.0",
     "model_name": "LayoutModel",
     "state": {
      "_model_module": "@jupyter-widgets/base",
      "_model_module_version": "1.2.0",
      "_model_name": "LayoutModel",
      "_view_count": null,
      "_view_module": "@jupyter-widgets/base",
      "_view_module_version": "1.2.0",
      "_view_name": "LayoutView",
      "align_content": null,
      "align_items": null,
      "align_self": null,
      "border": null,
      "bottom": null,
      "display": null,
      "flex": null,
      "flex_flow": null,
      "grid_area": null,
      "grid_auto_columns": null,
      "grid_auto_flow": null,
      "grid_auto_rows": null,
      "grid_column": null,
      "grid_gap": null,
      "grid_row": null,
      "grid_template_areas": null,
      "grid_template_columns": null,
      "grid_template_rows": null,
      "height": null,
      "justify_content": null,
      "justify_items": null,
      "left": null,
      "margin": null,
      "max_height": null,
      "max_width": null,
      "min_height": null,
      "min_width": null,
      "object_fit": null,
      "object_position": null,
      "order": null,
      "overflow": null,
      "overflow_x": null,
      "overflow_y": null,
      "padding": null,
      "right": null,
      "top": null,
      "visibility": null,
      "width": null
     }
    },
    "b74a0512ff1446abb79a1fd111fad6e5": {
     "model_module": "@jupyter-widgets/controls",
     "model_module_version": "1.5.0",
     "model_name": "HTMLModel",
     "state": {
      "_dom_classes": [],
      "_model_module": "@jupyter-widgets/controls",
      "_model_module_version": "1.5.0",
      "_model_name": "HTMLModel",
      "_view_count": null,
      "_view_module": "@jupyter-widgets/controls",
      "_view_module_version": "1.5.0",
      "_view_name": "HTMLView",
      "description": "",
      "description_tooltip": null,
      "layout": "IPY_MODEL_15648356f7f54faaaacdcb9dfd8eecc2",
      "placeholder": "​",
      "style": "IPY_MODEL_21bdb9109aa8400e94871e2f670c1bb2",
      "value": "vocab.txt: 100%"
     }
    },
    "bda9c4482e3a4adbb58c593e84d13b6d": {
     "model_module": "@jupyter-widgets/controls",
     "model_module_version": "1.5.0",
     "model_name": "HTMLModel",
     "state": {
      "_dom_classes": [],
      "_model_module": "@jupyter-widgets/controls",
      "_model_module_version": "1.5.0",
      "_model_name": "HTMLModel",
      "_view_count": null,
      "_view_module": "@jupyter-widgets/controls",
      "_view_module_version": "1.5.0",
      "_view_name": "HTMLView",
      "description": "",
      "description_tooltip": null,
      "layout": "IPY_MODEL_a813ad1beedf42efb1b793e9704e3625",
      "placeholder": "​",
      "style": "IPY_MODEL_0a690585b6b447b19d872c813b6b2212",
      "value": " 385/385 [00:00&lt;00:00, 10.3kB/s]"
     }
    },
    "d597a1c73e2c4cbaade74ed97d781779": {
     "model_module": "@jupyter-widgets/controls",
     "model_module_version": "1.5.0",
     "model_name": "HTMLModel",
     "state": {
      "_dom_classes": [],
      "_model_module": "@jupyter-widgets/controls",
      "_model_module_version": "1.5.0",
      "_model_name": "HTMLModel",
      "_view_count": null,
      "_view_module": "@jupyter-widgets/controls",
      "_view_module_version": "1.5.0",
      "_view_name": "HTMLView",
      "description": "",
      "description_tooltip": null,
      "layout": "IPY_MODEL_b6e4535ad5e1483380bfc34cf4317d40",
      "placeholder": "​",
      "style": "IPY_MODEL_9b4f76cbeb6a4827b3a850e3c811b6c1",
      "value": "pytorch_model.bin: 100%"
     }
    },
    "d5f12478f6374440847d764c1e58cdc1": {
     "model_module": "@jupyter-widgets/base",
     "model_module_version": "1.2.0",
     "model_name": "LayoutModel",
     "state": {
      "_model_module": "@jupyter-widgets/base",
      "_model_module_version": "1.2.0",
      "_model_name": "LayoutModel",
      "_view_count": null,
      "_view_module": "@jupyter-widgets/base",
      "_view_module_version": "1.2.0",
      "_view_name": "LayoutView",
      "align_content": null,
      "align_items": null,
      "align_self": null,
      "border": null,
      "bottom": null,
      "display": null,
      "flex": null,
      "flex_flow": null,
      "grid_area": null,
      "grid_auto_columns": null,
      "grid_auto_flow": null,
      "grid_auto_rows": null,
      "grid_column": null,
      "grid_gap": null,
      "grid_row": null,
      "grid_template_areas": null,
      "grid_template_columns": null,
      "grid_template_rows": null,
      "height": null,
      "justify_content": null,
      "justify_items": null,
      "left": null,
      "margin": null,
      "max_height": null,
      "max_width": null,
      "min_height": null,
      "min_width": null,
      "object_fit": null,
      "object_position": null,
      "order": null,
      "overflow": null,
      "overflow_x": null,
      "overflow_y": null,
      "padding": null,
      "right": null,
      "top": null,
      "visibility": null,
      "width": null
     }
    },
    "dee9ff03779a434d90ff6416369baa1a": {
     "model_module": "@jupyter-widgets/base",
     "model_module_version": "1.2.0",
     "model_name": "LayoutModel",
     "state": {
      "_model_module": "@jupyter-widgets/base",
      "_model_module_version": "1.2.0",
      "_model_name": "LayoutModel",
      "_view_count": null,
      "_view_module": "@jupyter-widgets/base",
      "_view_module_version": "1.2.0",
      "_view_name": "LayoutView",
      "align_content": null,
      "align_items": null,
      "align_self": null,
      "border": null,
      "bottom": null,
      "display": null,
      "flex": null,
      "flex_flow": null,
      "grid_area": null,
      "grid_auto_columns": null,
      "grid_auto_flow": null,
      "grid_auto_rows": null,
      "grid_column": null,
      "grid_gap": null,
      "grid_row": null,
      "grid_template_areas": null,
      "grid_template_columns": null,
      "grid_template_rows": null,
      "height": null,
      "justify_content": null,
      "justify_items": null,
      "left": null,
      "margin": null,
      "max_height": null,
      "max_width": null,
      "min_height": null,
      "min_width": null,
      "object_fit": null,
      "object_position": null,
      "order": null,
      "overflow": null,
      "overflow_x": null,
      "overflow_y": null,
      "padding": null,
      "right": null,
      "top": null,
      "visibility": null,
      "width": null
     }
    },
    "e343377543de4bd4ba0c93e6ef610c82": {
     "model_module": "@jupyter-widgets/base",
     "model_module_version": "1.2.0",
     "model_name": "LayoutModel",
     "state": {
      "_model_module": "@jupyter-widgets/base",
      "_model_module_version": "1.2.0",
      "_model_name": "LayoutModel",
      "_view_count": null,
      "_view_module": "@jupyter-widgets/base",
      "_view_module_version": "1.2.0",
      "_view_name": "LayoutView",
      "align_content": null,
      "align_items": null,
      "align_self": null,
      "border": null,
      "bottom": null,
      "display": null,
      "flex": null,
      "flex_flow": null,
      "grid_area": null,
      "grid_auto_columns": null,
      "grid_auto_flow": null,
      "grid_auto_rows": null,
      "grid_column": null,
      "grid_gap": null,
      "grid_row": null,
      "grid_template_areas": null,
      "grid_template_columns": null,
      "grid_template_rows": null,
      "height": null,
      "justify_content": null,
      "justify_items": null,
      "left": null,
      "margin": null,
      "max_height": null,
      "max_width": null,
      "min_height": null,
      "min_width": null,
      "object_fit": null,
      "object_position": null,
      "order": null,
      "overflow": null,
      "overflow_x": null,
      "overflow_y": null,
      "padding": null,
      "right": null,
      "top": null,
      "visibility": null,
      "width": null
     }
    },
    "e5c713d7b635477399812419277464b2": {
     "model_module": "@jupyter-widgets/controls",
     "model_module_version": "1.5.0",
     "model_name": "FloatProgressModel",
     "state": {
      "_dom_classes": [],
      "_model_module": "@jupyter-widgets/controls",
      "_model_module_version": "1.5.0",
      "_model_name": "FloatProgressModel",
      "_view_count": null,
      "_view_module": "@jupyter-widgets/controls",
      "_view_module_version": "1.5.0",
      "_view_name": "ProgressView",
      "bar_style": "success",
      "description": "",
      "description_tooltip": null,
      "layout": "IPY_MODEL_9d6e252a950f43e9b9647532ddfd4732",
      "max": 385,
      "min": 0,
      "orientation": "horizontal",
      "style": "IPY_MODEL_56158f7393ec45408611ad70d0dba919",
      "value": 385
     }
    },
    "e805661b0ffc4ffeb5a07efecc2f0a93": {
     "model_module": "@jupyter-widgets/base",
     "model_module_version": "1.2.0",
     "model_name": "LayoutModel",
     "state": {
      "_model_module": "@jupyter-widgets/base",
      "_model_module_version": "1.2.0",
      "_model_name": "LayoutModel",
      "_view_count": null,
      "_view_module": "@jupyter-widgets/base",
      "_view_module_version": "1.2.0",
      "_view_name": "LayoutView",
      "align_content": null,
      "align_items": null,
      "align_self": null,
      "border": null,
      "bottom": null,
      "display": null,
      "flex": null,
      "flex_flow": null,
      "grid_area": null,
      "grid_auto_columns": null,
      "grid_auto_flow": null,
      "grid_auto_rows": null,
      "grid_column": null,
      "grid_gap": null,
      "grid_row": null,
      "grid_template_areas": null,
      "grid_template_columns": null,
      "grid_template_rows": null,
      "height": null,
      "justify_content": null,
      "justify_items": null,
      "left": null,
      "margin": null,
      "max_height": null,
      "max_width": null,
      "min_height": null,
      "min_width": null,
      "object_fit": null,
      "object_position": null,
      "order": null,
      "overflow": null,
      "overflow_x": null,
      "overflow_y": null,
      "padding": null,
      "right": null,
      "top": null,
      "visibility": null,
      "width": null
     }
    },
    "ec46cfec0fa94f79966b09c69a036cc7": {
     "model_module": "@jupyter-widgets/controls",
     "model_module_version": "1.5.0",
     "model_name": "ProgressStyleModel",
     "state": {
      "_model_module": "@jupyter-widgets/controls",
      "_model_module_version": "1.5.0",
      "_model_name": "ProgressStyleModel",
      "_view_count": null,
      "_view_module": "@jupyter-widgets/base",
      "_view_module_version": "1.2.0",
      "_view_name": "StyleView",
      "bar_color": null,
      "description_width": ""
     }
    },
    "eebac5c985df4f41921a772b2922e391": {
     "model_module": "@jupyter-widgets/base",
     "model_module_version": "1.2.0",
     "model_name": "LayoutModel",
     "state": {
      "_model_module": "@jupyter-widgets/base",
      "_model_module_version": "1.2.0",
      "_model_name": "LayoutModel",
      "_view_count": null,
      "_view_module": "@jupyter-widgets/base",
      "_view_module_version": "1.2.0",
      "_view_name": "LayoutView",
      "align_content": null,
      "align_items": null,
      "align_self": null,
      "border": null,
      "bottom": null,
      "display": null,
      "flex": null,
      "flex_flow": null,
      "grid_area": null,
      "grid_auto_columns": null,
      "grid_auto_flow": null,
      "grid_auto_rows": null,
      "grid_column": null,
      "grid_gap": null,
      "grid_row": null,
      "grid_template_areas": null,
      "grid_template_columns": null,
      "grid_template_rows": null,
      "height": null,
      "justify_content": null,
      "justify_items": null,
      "left": null,
      "margin": null,
      "max_height": null,
      "max_width": null,
      "min_height": null,
      "min_width": null,
      "object_fit": null,
      "object_position": null,
      "order": null,
      "overflow": null,
      "overflow_x": null,
      "overflow_y": null,
      "padding": null,
      "right": null,
      "top": null,
      "visibility": null,
      "width": null
     }
    },
    "f9418ea671724635a2b56e5d4ec40e32": {
     "model_module": "@jupyter-widgets/base",
     "model_module_version": "1.2.0",
     "model_name": "LayoutModel",
     "state": {
      "_model_module": "@jupyter-widgets/base",
      "_model_module_version": "1.2.0",
      "_model_name": "LayoutModel",
      "_view_count": null,
      "_view_module": "@jupyter-widgets/base",
      "_view_module_version": "1.2.0",
      "_view_name": "LayoutView",
      "align_content": null,
      "align_items": null,
      "align_self": null,
      "border": null,
      "bottom": null,
      "display": null,
      "flex": null,
      "flex_flow": null,
      "grid_area": null,
      "grid_auto_columns": null,
      "grid_auto_flow": null,
      "grid_auto_rows": null,
      "grid_column": null,
      "grid_gap": null,
      "grid_row": null,
      "grid_template_areas": null,
      "grid_template_columns": null,
      "grid_template_rows": null,
      "height": null,
      "justify_content": null,
      "justify_items": null,
      "left": null,
      "margin": null,
      "max_height": null,
      "max_width": null,
      "min_height": null,
      "min_width": null,
      "object_fit": null,
      "object_position": null,
      "order": null,
      "overflow": null,
      "overflow_x": null,
      "overflow_y": null,
      "padding": null,
      "right": null,
      "top": null,
      "visibility": null,
      "width": null
     }
    }
   }
  }
 },
 "nbformat": 4,
 "nbformat_minor": 0
}
